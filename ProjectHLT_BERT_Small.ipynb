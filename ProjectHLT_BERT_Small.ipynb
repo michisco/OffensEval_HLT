{
  "nbformat": 4,
  "nbformat_minor": 5,
  "metadata": {
    "kernelspec": {
      "display_name": "Python 3",
      "language": "python",
      "name": "python3"
    },
    "language_info": {
      "codemirror_mode": {
        "name": "ipython",
        "version": 3
      },
      "file_extension": ".py",
      "mimetype": "text/x-python",
      "name": "python",
      "nbconvert_exporter": "python",
      "pygments_lexer": "ipython3",
      "version": "3.8.8"
    },
    "colab": {
      "provenance": [],
      "collapsed_sections": []
    },
    "widgets": {
      "application/vnd.jupyter.widget-state+json": {
        "f8407062e3c64cd6be4293c06abc9958": {
          "model_module": "@jupyter-widgets/controls",
          "model_name": "HBoxModel",
          "model_module_version": "1.5.0",
          "state": {
            "_dom_classes": [],
            "_model_module": "@jupyter-widgets/controls",
            "_model_module_version": "1.5.0",
            "_model_name": "HBoxModel",
            "_view_count": null,
            "_view_module": "@jupyter-widgets/controls",
            "_view_module_version": "1.5.0",
            "_view_name": "HBoxView",
            "box_style": "",
            "children": [
              "IPY_MODEL_3c3ff5be324349208a7dc74c81a609ba",
              "IPY_MODEL_b93eadf47a044db09c566a847d954380",
              "IPY_MODEL_a260e799835b46e2a03e5591683197bb"
            ],
            "layout": "IPY_MODEL_9778d1bb94f946c693f22531eea2a417"
          }
        },
        "3c3ff5be324349208a7dc74c81a609ba": {
          "model_module": "@jupyter-widgets/controls",
          "model_name": "HTMLModel",
          "model_module_version": "1.5.0",
          "state": {
            "_dom_classes": [],
            "_model_module": "@jupyter-widgets/controls",
            "_model_module_version": "1.5.0",
            "_model_name": "HTMLModel",
            "_view_count": null,
            "_view_module": "@jupyter-widgets/controls",
            "_view_module_version": "1.5.0",
            "_view_name": "HTMLView",
            "description": "",
            "description_tooltip": null,
            "layout": "IPY_MODEL_b39ca6b9f52e40508afa80befd84c23a",
            "placeholder": "​",
            "style": "IPY_MODEL_9463cc0ab99742b7acd02e659027e241",
            "value": "Downloading: 100%"
          }
        },
        "b93eadf47a044db09c566a847d954380": {
          "model_module": "@jupyter-widgets/controls",
          "model_name": "FloatProgressModel",
          "model_module_version": "1.5.0",
          "state": {
            "_dom_classes": [],
            "_model_module": "@jupyter-widgets/controls",
            "_model_module_version": "1.5.0",
            "_model_name": "FloatProgressModel",
            "_view_count": null,
            "_view_module": "@jupyter-widgets/controls",
            "_view_module_version": "1.5.0",
            "_view_name": "ProgressView",
            "bar_style": "success",
            "description": "",
            "description_tooltip": null,
            "layout": "IPY_MODEL_48cf434d10894252b54e312cb2bf657f",
            "max": 231508,
            "min": 0,
            "orientation": "horizontal",
            "style": "IPY_MODEL_86c29720b9454afd96a22fe52f9402b2",
            "value": 231508
          }
        },
        "a260e799835b46e2a03e5591683197bb": {
          "model_module": "@jupyter-widgets/controls",
          "model_name": "HTMLModel",
          "model_module_version": "1.5.0",
          "state": {
            "_dom_classes": [],
            "_model_module": "@jupyter-widgets/controls",
            "_model_module_version": "1.5.0",
            "_model_name": "HTMLModel",
            "_view_count": null,
            "_view_module": "@jupyter-widgets/controls",
            "_view_module_version": "1.5.0",
            "_view_name": "HTMLView",
            "description": "",
            "description_tooltip": null,
            "layout": "IPY_MODEL_90a89d0890604db09749417cc58c8bd6",
            "placeholder": "​",
            "style": "IPY_MODEL_bca8b47b713e462aaeeb6489b6fde756",
            "value": " 232k/232k [00:00&lt;00:00, 262kB/s]"
          }
        },
        "9778d1bb94f946c693f22531eea2a417": {
          "model_module": "@jupyter-widgets/base",
          "model_name": "LayoutModel",
          "model_module_version": "1.2.0",
          "state": {
            "_model_module": "@jupyter-widgets/base",
            "_model_module_version": "1.2.0",
            "_model_name": "LayoutModel",
            "_view_count": null,
            "_view_module": "@jupyter-widgets/base",
            "_view_module_version": "1.2.0",
            "_view_name": "LayoutView",
            "align_content": null,
            "align_items": null,
            "align_self": null,
            "border": null,
            "bottom": null,
            "display": null,
            "flex": null,
            "flex_flow": null,
            "grid_area": null,
            "grid_auto_columns": null,
            "grid_auto_flow": null,
            "grid_auto_rows": null,
            "grid_column": null,
            "grid_gap": null,
            "grid_row": null,
            "grid_template_areas": null,
            "grid_template_columns": null,
            "grid_template_rows": null,
            "height": null,
            "justify_content": null,
            "justify_items": null,
            "left": null,
            "margin": null,
            "max_height": null,
            "max_width": null,
            "min_height": null,
            "min_width": null,
            "object_fit": null,
            "object_position": null,
            "order": null,
            "overflow": null,
            "overflow_x": null,
            "overflow_y": null,
            "padding": null,
            "right": null,
            "top": null,
            "visibility": null,
            "width": null
          }
        },
        "b39ca6b9f52e40508afa80befd84c23a": {
          "model_module": "@jupyter-widgets/base",
          "model_name": "LayoutModel",
          "model_module_version": "1.2.0",
          "state": {
            "_model_module": "@jupyter-widgets/base",
            "_model_module_version": "1.2.0",
            "_model_name": "LayoutModel",
            "_view_count": null,
            "_view_module": "@jupyter-widgets/base",
            "_view_module_version": "1.2.0",
            "_view_name": "LayoutView",
            "align_content": null,
            "align_items": null,
            "align_self": null,
            "border": null,
            "bottom": null,
            "display": null,
            "flex": null,
            "flex_flow": null,
            "grid_area": null,
            "grid_auto_columns": null,
            "grid_auto_flow": null,
            "grid_auto_rows": null,
            "grid_column": null,
            "grid_gap": null,
            "grid_row": null,
            "grid_template_areas": null,
            "grid_template_columns": null,
            "grid_template_rows": null,
            "height": null,
            "justify_content": null,
            "justify_items": null,
            "left": null,
            "margin": null,
            "max_height": null,
            "max_width": null,
            "min_height": null,
            "min_width": null,
            "object_fit": null,
            "object_position": null,
            "order": null,
            "overflow": null,
            "overflow_x": null,
            "overflow_y": null,
            "padding": null,
            "right": null,
            "top": null,
            "visibility": null,
            "width": null
          }
        },
        "9463cc0ab99742b7acd02e659027e241": {
          "model_module": "@jupyter-widgets/controls",
          "model_name": "DescriptionStyleModel",
          "model_module_version": "1.5.0",
          "state": {
            "_model_module": "@jupyter-widgets/controls",
            "_model_module_version": "1.5.0",
            "_model_name": "DescriptionStyleModel",
            "_view_count": null,
            "_view_module": "@jupyter-widgets/base",
            "_view_module_version": "1.2.0",
            "_view_name": "StyleView",
            "description_width": ""
          }
        },
        "48cf434d10894252b54e312cb2bf657f": {
          "model_module": "@jupyter-widgets/base",
          "model_name": "LayoutModel",
          "model_module_version": "1.2.0",
          "state": {
            "_model_module": "@jupyter-widgets/base",
            "_model_module_version": "1.2.0",
            "_model_name": "LayoutModel",
            "_view_count": null,
            "_view_module": "@jupyter-widgets/base",
            "_view_module_version": "1.2.0",
            "_view_name": "LayoutView",
            "align_content": null,
            "align_items": null,
            "align_self": null,
            "border": null,
            "bottom": null,
            "display": null,
            "flex": null,
            "flex_flow": null,
            "grid_area": null,
            "grid_auto_columns": null,
            "grid_auto_flow": null,
            "grid_auto_rows": null,
            "grid_column": null,
            "grid_gap": null,
            "grid_row": null,
            "grid_template_areas": null,
            "grid_template_columns": null,
            "grid_template_rows": null,
            "height": null,
            "justify_content": null,
            "justify_items": null,
            "left": null,
            "margin": null,
            "max_height": null,
            "max_width": null,
            "min_height": null,
            "min_width": null,
            "object_fit": null,
            "object_position": null,
            "order": null,
            "overflow": null,
            "overflow_x": null,
            "overflow_y": null,
            "padding": null,
            "right": null,
            "top": null,
            "visibility": null,
            "width": null
          }
        },
        "86c29720b9454afd96a22fe52f9402b2": {
          "model_module": "@jupyter-widgets/controls",
          "model_name": "ProgressStyleModel",
          "model_module_version": "1.5.0",
          "state": {
            "_model_module": "@jupyter-widgets/controls",
            "_model_module_version": "1.5.0",
            "_model_name": "ProgressStyleModel",
            "_view_count": null,
            "_view_module": "@jupyter-widgets/base",
            "_view_module_version": "1.2.0",
            "_view_name": "StyleView",
            "bar_color": null,
            "description_width": ""
          }
        },
        "90a89d0890604db09749417cc58c8bd6": {
          "model_module": "@jupyter-widgets/base",
          "model_name": "LayoutModel",
          "model_module_version": "1.2.0",
          "state": {
            "_model_module": "@jupyter-widgets/base",
            "_model_module_version": "1.2.0",
            "_model_name": "LayoutModel",
            "_view_count": null,
            "_view_module": "@jupyter-widgets/base",
            "_view_module_version": "1.2.0",
            "_view_name": "LayoutView",
            "align_content": null,
            "align_items": null,
            "align_self": null,
            "border": null,
            "bottom": null,
            "display": null,
            "flex": null,
            "flex_flow": null,
            "grid_area": null,
            "grid_auto_columns": null,
            "grid_auto_flow": null,
            "grid_auto_rows": null,
            "grid_column": null,
            "grid_gap": null,
            "grid_row": null,
            "grid_template_areas": null,
            "grid_template_columns": null,
            "grid_template_rows": null,
            "height": null,
            "justify_content": null,
            "justify_items": null,
            "left": null,
            "margin": null,
            "max_height": null,
            "max_width": null,
            "min_height": null,
            "min_width": null,
            "object_fit": null,
            "object_position": null,
            "order": null,
            "overflow": null,
            "overflow_x": null,
            "overflow_y": null,
            "padding": null,
            "right": null,
            "top": null,
            "visibility": null,
            "width": null
          }
        },
        "bca8b47b713e462aaeeb6489b6fde756": {
          "model_module": "@jupyter-widgets/controls",
          "model_name": "DescriptionStyleModel",
          "model_module_version": "1.5.0",
          "state": {
            "_model_module": "@jupyter-widgets/controls",
            "_model_module_version": "1.5.0",
            "_model_name": "DescriptionStyleModel",
            "_view_count": null,
            "_view_module": "@jupyter-widgets/base",
            "_view_module_version": "1.2.0",
            "_view_name": "StyleView",
            "description_width": ""
          }
        },
        "568ffaaa6ee0429f8930b67009285193": {
          "model_module": "@jupyter-widgets/controls",
          "model_name": "HBoxModel",
          "model_module_version": "1.5.0",
          "state": {
            "_dom_classes": [],
            "_model_module": "@jupyter-widgets/controls",
            "_model_module_version": "1.5.0",
            "_model_name": "HBoxModel",
            "_view_count": null,
            "_view_module": "@jupyter-widgets/controls",
            "_view_module_version": "1.5.0",
            "_view_name": "HBoxView",
            "box_style": "",
            "children": [
              "IPY_MODEL_8c4d428a5e634b52b264b218963dca3f",
              "IPY_MODEL_79a24de3fca54b3daa29209d6f3f0167",
              "IPY_MODEL_7e79c2d5f3074ca88676ca6f6f8f3fa7"
            ],
            "layout": "IPY_MODEL_a4692db1155d4e73952c65aa90e1d2d9"
          }
        },
        "8c4d428a5e634b52b264b218963dca3f": {
          "model_module": "@jupyter-widgets/controls",
          "model_name": "HTMLModel",
          "model_module_version": "1.5.0",
          "state": {
            "_dom_classes": [],
            "_model_module": "@jupyter-widgets/controls",
            "_model_module_version": "1.5.0",
            "_model_name": "HTMLModel",
            "_view_count": null,
            "_view_module": "@jupyter-widgets/controls",
            "_view_module_version": "1.5.0",
            "_view_name": "HTMLView",
            "description": "",
            "description_tooltip": null,
            "layout": "IPY_MODEL_2e7e6a76abe740feae1169d27de6c0d9",
            "placeholder": "​",
            "style": "IPY_MODEL_738ef72d8db84915b053b6e2410b1e73",
            "value": "Downloading: 100%"
          }
        },
        "79a24de3fca54b3daa29209d6f3f0167": {
          "model_module": "@jupyter-widgets/controls",
          "model_name": "FloatProgressModel",
          "model_module_version": "1.5.0",
          "state": {
            "_dom_classes": [],
            "_model_module": "@jupyter-widgets/controls",
            "_model_module_version": "1.5.0",
            "_model_name": "FloatProgressModel",
            "_view_count": null,
            "_view_module": "@jupyter-widgets/controls",
            "_view_module_version": "1.5.0",
            "_view_name": "ProgressView",
            "bar_style": "success",
            "description": "",
            "description_tooltip": null,
            "layout": "IPY_MODEL_944f6b7d3766405e84a504c9b7c4918a",
            "max": 286,
            "min": 0,
            "orientation": "horizontal",
            "style": "IPY_MODEL_239908da47484e6da6ce5a139121ce44",
            "value": 286
          }
        },
        "7e79c2d5f3074ca88676ca6f6f8f3fa7": {
          "model_module": "@jupyter-widgets/controls",
          "model_name": "HTMLModel",
          "model_module_version": "1.5.0",
          "state": {
            "_dom_classes": [],
            "_model_module": "@jupyter-widgets/controls",
            "_model_module_version": "1.5.0",
            "_model_name": "HTMLModel",
            "_view_count": null,
            "_view_module": "@jupyter-widgets/controls",
            "_view_module_version": "1.5.0",
            "_view_name": "HTMLView",
            "description": "",
            "description_tooltip": null,
            "layout": "IPY_MODEL_64f586643e5242dc9b8310278d1787c6",
            "placeholder": "​",
            "style": "IPY_MODEL_a4cb4dd0e7fd4d47b7f687347525e76b",
            "value": " 286/286 [00:00&lt;00:00, 4.51kB/s]"
          }
        },
        "a4692db1155d4e73952c65aa90e1d2d9": {
          "model_module": "@jupyter-widgets/base",
          "model_name": "LayoutModel",
          "model_module_version": "1.2.0",
          "state": {
            "_model_module": "@jupyter-widgets/base",
            "_model_module_version": "1.2.0",
            "_model_name": "LayoutModel",
            "_view_count": null,
            "_view_module": "@jupyter-widgets/base",
            "_view_module_version": "1.2.0",
            "_view_name": "LayoutView",
            "align_content": null,
            "align_items": null,
            "align_self": null,
            "border": null,
            "bottom": null,
            "display": null,
            "flex": null,
            "flex_flow": null,
            "grid_area": null,
            "grid_auto_columns": null,
            "grid_auto_flow": null,
            "grid_auto_rows": null,
            "grid_column": null,
            "grid_gap": null,
            "grid_row": null,
            "grid_template_areas": null,
            "grid_template_columns": null,
            "grid_template_rows": null,
            "height": null,
            "justify_content": null,
            "justify_items": null,
            "left": null,
            "margin": null,
            "max_height": null,
            "max_width": null,
            "min_height": null,
            "min_width": null,
            "object_fit": null,
            "object_position": null,
            "order": null,
            "overflow": null,
            "overflow_x": null,
            "overflow_y": null,
            "padding": null,
            "right": null,
            "top": null,
            "visibility": null,
            "width": null
          }
        },
        "2e7e6a76abe740feae1169d27de6c0d9": {
          "model_module": "@jupyter-widgets/base",
          "model_name": "LayoutModel",
          "model_module_version": "1.2.0",
          "state": {
            "_model_module": "@jupyter-widgets/base",
            "_model_module_version": "1.2.0",
            "_model_name": "LayoutModel",
            "_view_count": null,
            "_view_module": "@jupyter-widgets/base",
            "_view_module_version": "1.2.0",
            "_view_name": "LayoutView",
            "align_content": null,
            "align_items": null,
            "align_self": null,
            "border": null,
            "bottom": null,
            "display": null,
            "flex": null,
            "flex_flow": null,
            "grid_area": null,
            "grid_auto_columns": null,
            "grid_auto_flow": null,
            "grid_auto_rows": null,
            "grid_column": null,
            "grid_gap": null,
            "grid_row": null,
            "grid_template_areas": null,
            "grid_template_columns": null,
            "grid_template_rows": null,
            "height": null,
            "justify_content": null,
            "justify_items": null,
            "left": null,
            "margin": null,
            "max_height": null,
            "max_width": null,
            "min_height": null,
            "min_width": null,
            "object_fit": null,
            "object_position": null,
            "order": null,
            "overflow": null,
            "overflow_x": null,
            "overflow_y": null,
            "padding": null,
            "right": null,
            "top": null,
            "visibility": null,
            "width": null
          }
        },
        "738ef72d8db84915b053b6e2410b1e73": {
          "model_module": "@jupyter-widgets/controls",
          "model_name": "DescriptionStyleModel",
          "model_module_version": "1.5.0",
          "state": {
            "_model_module": "@jupyter-widgets/controls",
            "_model_module_version": "1.5.0",
            "_model_name": "DescriptionStyleModel",
            "_view_count": null,
            "_view_module": "@jupyter-widgets/base",
            "_view_module_version": "1.2.0",
            "_view_name": "StyleView",
            "description_width": ""
          }
        },
        "944f6b7d3766405e84a504c9b7c4918a": {
          "model_module": "@jupyter-widgets/base",
          "model_name": "LayoutModel",
          "model_module_version": "1.2.0",
          "state": {
            "_model_module": "@jupyter-widgets/base",
            "_model_module_version": "1.2.0",
            "_model_name": "LayoutModel",
            "_view_count": null,
            "_view_module": "@jupyter-widgets/base",
            "_view_module_version": "1.2.0",
            "_view_name": "LayoutView",
            "align_content": null,
            "align_items": null,
            "align_self": null,
            "border": null,
            "bottom": null,
            "display": null,
            "flex": null,
            "flex_flow": null,
            "grid_area": null,
            "grid_auto_columns": null,
            "grid_auto_flow": null,
            "grid_auto_rows": null,
            "grid_column": null,
            "grid_gap": null,
            "grid_row": null,
            "grid_template_areas": null,
            "grid_template_columns": null,
            "grid_template_rows": null,
            "height": null,
            "justify_content": null,
            "justify_items": null,
            "left": null,
            "margin": null,
            "max_height": null,
            "max_width": null,
            "min_height": null,
            "min_width": null,
            "object_fit": null,
            "object_position": null,
            "order": null,
            "overflow": null,
            "overflow_x": null,
            "overflow_y": null,
            "padding": null,
            "right": null,
            "top": null,
            "visibility": null,
            "width": null
          }
        },
        "239908da47484e6da6ce5a139121ce44": {
          "model_module": "@jupyter-widgets/controls",
          "model_name": "ProgressStyleModel",
          "model_module_version": "1.5.0",
          "state": {
            "_model_module": "@jupyter-widgets/controls",
            "_model_module_version": "1.5.0",
            "_model_name": "ProgressStyleModel",
            "_view_count": null,
            "_view_module": "@jupyter-widgets/base",
            "_view_module_version": "1.2.0",
            "_view_name": "StyleView",
            "bar_color": null,
            "description_width": ""
          }
        },
        "64f586643e5242dc9b8310278d1787c6": {
          "model_module": "@jupyter-widgets/base",
          "model_name": "LayoutModel",
          "model_module_version": "1.2.0",
          "state": {
            "_model_module": "@jupyter-widgets/base",
            "_model_module_version": "1.2.0",
            "_model_name": "LayoutModel",
            "_view_count": null,
            "_view_module": "@jupyter-widgets/base",
            "_view_module_version": "1.2.0",
            "_view_name": "LayoutView",
            "align_content": null,
            "align_items": null,
            "align_self": null,
            "border": null,
            "bottom": null,
            "display": null,
            "flex": null,
            "flex_flow": null,
            "grid_area": null,
            "grid_auto_columns": null,
            "grid_auto_flow": null,
            "grid_auto_rows": null,
            "grid_column": null,
            "grid_gap": null,
            "grid_row": null,
            "grid_template_areas": null,
            "grid_template_columns": null,
            "grid_template_rows": null,
            "height": null,
            "justify_content": null,
            "justify_items": null,
            "left": null,
            "margin": null,
            "max_height": null,
            "max_width": null,
            "min_height": null,
            "min_width": null,
            "object_fit": null,
            "object_position": null,
            "order": null,
            "overflow": null,
            "overflow_x": null,
            "overflow_y": null,
            "padding": null,
            "right": null,
            "top": null,
            "visibility": null,
            "width": null
          }
        },
        "a4cb4dd0e7fd4d47b7f687347525e76b": {
          "model_module": "@jupyter-widgets/controls",
          "model_name": "DescriptionStyleModel",
          "model_module_version": "1.5.0",
          "state": {
            "_model_module": "@jupyter-widgets/controls",
            "_model_module_version": "1.5.0",
            "_model_name": "DescriptionStyleModel",
            "_view_count": null,
            "_view_module": "@jupyter-widgets/base",
            "_view_module_version": "1.2.0",
            "_view_name": "StyleView",
            "description_width": ""
          }
        },
        "1ce1636b593e4f7db426966aaec6f8d0": {
          "model_module": "@jupyter-widgets/controls",
          "model_name": "HBoxModel",
          "model_module_version": "1.5.0",
          "state": {
            "_dom_classes": [],
            "_model_module": "@jupyter-widgets/controls",
            "_model_module_version": "1.5.0",
            "_model_name": "HBoxModel",
            "_view_count": null,
            "_view_module": "@jupyter-widgets/controls",
            "_view_module_version": "1.5.0",
            "_view_name": "HBoxView",
            "box_style": "",
            "children": [
              "IPY_MODEL_77fa1a866edb4705aed4b4fe3c69d504",
              "IPY_MODEL_c2b12bc1ac2642698070029f8eebbf4f",
              "IPY_MODEL_3f4b6ce240db433bbf5f6321f2ee55ba"
            ],
            "layout": "IPY_MODEL_b99deb3e80c54d2697516a56e1e7d069"
          }
        },
        "77fa1a866edb4705aed4b4fe3c69d504": {
          "model_module": "@jupyter-widgets/controls",
          "model_name": "HTMLModel",
          "model_module_version": "1.5.0",
          "state": {
            "_dom_classes": [],
            "_model_module": "@jupyter-widgets/controls",
            "_model_module_version": "1.5.0",
            "_model_name": "HTMLModel",
            "_view_count": null,
            "_view_module": "@jupyter-widgets/controls",
            "_view_module_version": "1.5.0",
            "_view_name": "HTMLView",
            "description": "",
            "description_tooltip": null,
            "layout": "IPY_MODEL_0d5d173908e744d0b0ec4fc21cdf6be9",
            "placeholder": "​",
            "style": "IPY_MODEL_a35ec797019c471c9b8fa4863c272a75",
            "value": "Downloading: 100%"
          }
        },
        "c2b12bc1ac2642698070029f8eebbf4f": {
          "model_module": "@jupyter-widgets/controls",
          "model_name": "FloatProgressModel",
          "model_module_version": "1.5.0",
          "state": {
            "_dom_classes": [],
            "_model_module": "@jupyter-widgets/controls",
            "_model_module_version": "1.5.0",
            "_model_name": "FloatProgressModel",
            "_view_count": null,
            "_view_module": "@jupyter-widgets/controls",
            "_view_module_version": "1.5.0",
            "_view_name": "ProgressView",
            "bar_style": "success",
            "description": "",
            "description_tooltip": null,
            "layout": "IPY_MODEL_d45c90b3417c491d82922521e76056de",
            "max": 116270890,
            "min": 0,
            "orientation": "horizontal",
            "style": "IPY_MODEL_e8746af5681d45698f9b1235bb4b0123",
            "value": 116270890
          }
        },
        "3f4b6ce240db433bbf5f6321f2ee55ba": {
          "model_module": "@jupyter-widgets/controls",
          "model_name": "HTMLModel",
          "model_module_version": "1.5.0",
          "state": {
            "_dom_classes": [],
            "_model_module": "@jupyter-widgets/controls",
            "_model_module_version": "1.5.0",
            "_model_name": "HTMLModel",
            "_view_count": null,
            "_view_module": "@jupyter-widgets/controls",
            "_view_module_version": "1.5.0",
            "_view_name": "HTMLView",
            "description": "",
            "description_tooltip": null,
            "layout": "IPY_MODEL_4d6cc2cd5b334b78a502ae5aa2733364",
            "placeholder": "​",
            "style": "IPY_MODEL_378fc257958545ec98a817191c04c1c6",
            "value": " 116M/116M [00:02&lt;00:00, 61.6MB/s]"
          }
        },
        "b99deb3e80c54d2697516a56e1e7d069": {
          "model_module": "@jupyter-widgets/base",
          "model_name": "LayoutModel",
          "model_module_version": "1.2.0",
          "state": {
            "_model_module": "@jupyter-widgets/base",
            "_model_module_version": "1.2.0",
            "_model_name": "LayoutModel",
            "_view_count": null,
            "_view_module": "@jupyter-widgets/base",
            "_view_module_version": "1.2.0",
            "_view_name": "LayoutView",
            "align_content": null,
            "align_items": null,
            "align_self": null,
            "border": null,
            "bottom": null,
            "display": null,
            "flex": null,
            "flex_flow": null,
            "grid_area": null,
            "grid_auto_columns": null,
            "grid_auto_flow": null,
            "grid_auto_rows": null,
            "grid_column": null,
            "grid_gap": null,
            "grid_row": null,
            "grid_template_areas": null,
            "grid_template_columns": null,
            "grid_template_rows": null,
            "height": null,
            "justify_content": null,
            "justify_items": null,
            "left": null,
            "margin": null,
            "max_height": null,
            "max_width": null,
            "min_height": null,
            "min_width": null,
            "object_fit": null,
            "object_position": null,
            "order": null,
            "overflow": null,
            "overflow_x": null,
            "overflow_y": null,
            "padding": null,
            "right": null,
            "top": null,
            "visibility": null,
            "width": null
          }
        },
        "0d5d173908e744d0b0ec4fc21cdf6be9": {
          "model_module": "@jupyter-widgets/base",
          "model_name": "LayoutModel",
          "model_module_version": "1.2.0",
          "state": {
            "_model_module": "@jupyter-widgets/base",
            "_model_module_version": "1.2.0",
            "_model_name": "LayoutModel",
            "_view_count": null,
            "_view_module": "@jupyter-widgets/base",
            "_view_module_version": "1.2.0",
            "_view_name": "LayoutView",
            "align_content": null,
            "align_items": null,
            "align_self": null,
            "border": null,
            "bottom": null,
            "display": null,
            "flex": null,
            "flex_flow": null,
            "grid_area": null,
            "grid_auto_columns": null,
            "grid_auto_flow": null,
            "grid_auto_rows": null,
            "grid_column": null,
            "grid_gap": null,
            "grid_row": null,
            "grid_template_areas": null,
            "grid_template_columns": null,
            "grid_template_rows": null,
            "height": null,
            "justify_content": null,
            "justify_items": null,
            "left": null,
            "margin": null,
            "max_height": null,
            "max_width": null,
            "min_height": null,
            "min_width": null,
            "object_fit": null,
            "object_position": null,
            "order": null,
            "overflow": null,
            "overflow_x": null,
            "overflow_y": null,
            "padding": null,
            "right": null,
            "top": null,
            "visibility": null,
            "width": null
          }
        },
        "a35ec797019c471c9b8fa4863c272a75": {
          "model_module": "@jupyter-widgets/controls",
          "model_name": "DescriptionStyleModel",
          "model_module_version": "1.5.0",
          "state": {
            "_model_module": "@jupyter-widgets/controls",
            "_model_module_version": "1.5.0",
            "_model_name": "DescriptionStyleModel",
            "_view_count": null,
            "_view_module": "@jupyter-widgets/base",
            "_view_module_version": "1.2.0",
            "_view_name": "StyleView",
            "description_width": ""
          }
        },
        "d45c90b3417c491d82922521e76056de": {
          "model_module": "@jupyter-widgets/base",
          "model_name": "LayoutModel",
          "model_module_version": "1.2.0",
          "state": {
            "_model_module": "@jupyter-widgets/base",
            "_model_module_version": "1.2.0",
            "_model_name": "LayoutModel",
            "_view_count": null,
            "_view_module": "@jupyter-widgets/base",
            "_view_module_version": "1.2.0",
            "_view_name": "LayoutView",
            "align_content": null,
            "align_items": null,
            "align_self": null,
            "border": null,
            "bottom": null,
            "display": null,
            "flex": null,
            "flex_flow": null,
            "grid_area": null,
            "grid_auto_columns": null,
            "grid_auto_flow": null,
            "grid_auto_rows": null,
            "grid_column": null,
            "grid_gap": null,
            "grid_row": null,
            "grid_template_areas": null,
            "grid_template_columns": null,
            "grid_template_rows": null,
            "height": null,
            "justify_content": null,
            "justify_items": null,
            "left": null,
            "margin": null,
            "max_height": null,
            "max_width": null,
            "min_height": null,
            "min_width": null,
            "object_fit": null,
            "object_position": null,
            "order": null,
            "overflow": null,
            "overflow_x": null,
            "overflow_y": null,
            "padding": null,
            "right": null,
            "top": null,
            "visibility": null,
            "width": null
          }
        },
        "e8746af5681d45698f9b1235bb4b0123": {
          "model_module": "@jupyter-widgets/controls",
          "model_name": "ProgressStyleModel",
          "model_module_version": "1.5.0",
          "state": {
            "_model_module": "@jupyter-widgets/controls",
            "_model_module_version": "1.5.0",
            "_model_name": "ProgressStyleModel",
            "_view_count": null,
            "_view_module": "@jupyter-widgets/base",
            "_view_module_version": "1.2.0",
            "_view_name": "StyleView",
            "bar_color": null,
            "description_width": ""
          }
        },
        "4d6cc2cd5b334b78a502ae5aa2733364": {
          "model_module": "@jupyter-widgets/base",
          "model_name": "LayoutModel",
          "model_module_version": "1.2.0",
          "state": {
            "_model_module": "@jupyter-widgets/base",
            "_model_module_version": "1.2.0",
            "_model_name": "LayoutModel",
            "_view_count": null,
            "_view_module": "@jupyter-widgets/base",
            "_view_module_version": "1.2.0",
            "_view_name": "LayoutView",
            "align_content": null,
            "align_items": null,
            "align_self": null,
            "border": null,
            "bottom": null,
            "display": null,
            "flex": null,
            "flex_flow": null,
            "grid_area": null,
            "grid_auto_columns": null,
            "grid_auto_flow": null,
            "grid_auto_rows": null,
            "grid_column": null,
            "grid_gap": null,
            "grid_row": null,
            "grid_template_areas": null,
            "grid_template_columns": null,
            "grid_template_rows": null,
            "height": null,
            "justify_content": null,
            "justify_items": null,
            "left": null,
            "margin": null,
            "max_height": null,
            "max_width": null,
            "min_height": null,
            "min_width": null,
            "object_fit": null,
            "object_position": null,
            "order": null,
            "overflow": null,
            "overflow_x": null,
            "overflow_y": null,
            "padding": null,
            "right": null,
            "top": null,
            "visibility": null,
            "width": null
          }
        },
        "378fc257958545ec98a817191c04c1c6": {
          "model_module": "@jupyter-widgets/controls",
          "model_name": "DescriptionStyleModel",
          "model_module_version": "1.5.0",
          "state": {
            "_model_module": "@jupyter-widgets/controls",
            "_model_module_version": "1.5.0",
            "_model_name": "DescriptionStyleModel",
            "_view_count": null,
            "_view_module": "@jupyter-widgets/base",
            "_view_module_version": "1.2.0",
            "_view_name": "StyleView",
            "description_width": ""
          }
        }
      }
    }
  },
  "cells": [
    {
      "cell_type": "markdown",
      "metadata": {
        "id": "appreciated-bracket"
      },
      "source": [
        "# Project Human Language Technology - OffensEval2019\n",
        "# Task 1\n",
        "## BERT Small\n",
        "This notebook will explore a model for competition \"OffensEval 2019: Identifying and Categorizing Offensive Language in Social Media\" using BERT Small. \\\\\n",
        "BERT Small a pre-trained model with structure is __L = 4 and H = 512__ \\\\\n",
        "Matricola: 505252 Michele Morisco"
      ],
      "id": "appreciated-bracket"
    },
    {
      "cell_type": "code",
      "metadata": {
        "colab": {
          "base_uri": "https://localhost:8080/"
        },
        "id": "WWIOvmPxPQQE",
        "outputId": "cd583633-a6a1-4fb0-b9d0-cddf853e5284"
      },
      "source": [
        "from google.colab import drive\n",
        "drive.mount('/content/drive')"
      ],
      "id": "WWIOvmPxPQQE",
      "execution_count": null,
      "outputs": [
        {
          "output_type": "stream",
          "name": "stdout",
          "text": [
            "Mounted at /content/drive\n"
          ]
        }
      ]
    },
    {
      "cell_type": "code",
      "source": [
        "!cp drive/MyDrive/Library/PreProcessing.py .\n",
        "!cp drive/MyDrive/Library/BERTBase.py .\n",
        "!cp drive/MyDrive/Library/AnalysisGraph.py ."
      ],
      "metadata": {
        "id": "IweEf5Cso-Nt"
      },
      "id": "IweEf5Cso-Nt",
      "execution_count": null,
      "outputs": []
    },
    {
      "cell_type": "code",
      "metadata": {
        "colab": {
          "base_uri": "https://localhost:8080/"
        },
        "id": "Zbr5fIa5jgwX",
        "outputId": "dd7349bc-3fed-487a-8e52-8cae794de67d"
      },
      "source": [
        "#!pip install pytorch-pretrained-bert pytorch-nlp\n",
        "!pip install emoji --upgrade\n",
        "!pip install wordsegment\n",
        "!pip install transformers \n",
        "!pip install ekphrasis"
      ],
      "id": "Zbr5fIa5jgwX",
      "execution_count": null,
      "outputs": [
        {
          "output_type": "stream",
          "name": "stdout",
          "text": [
            "Looking in indexes: https://pypi.org/simple, https://us-python.pkg.dev/colab-wheels/public/simple/\n",
            "Collecting emoji\n",
            "  Downloading emoji-2.1.0.tar.gz (216 kB)\n",
            "\u001b[K     |████████████████████████████████| 216 kB 32.2 MB/s \n",
            "\u001b[?25hBuilding wheels for collected packages: emoji\n",
            "  Building wheel for emoji (setup.py) ... \u001b[?25l\u001b[?25hdone\n",
            "  Created wheel for emoji: filename=emoji-2.1.0-py3-none-any.whl size=212392 sha256=0b87a5c349fce708000229d56bd3a47d1f9903325fbcef48de79d3173cbc14ba\n",
            "  Stored in directory: /root/.cache/pip/wheels/77/75/99/51c2a119f4cfd3af7b49cc57e4f737bed7e40b348a85d82804\n",
            "Successfully built emoji\n",
            "Installing collected packages: emoji\n",
            "Successfully installed emoji-2.1.0\n",
            "Looking in indexes: https://pypi.org/simple, https://us-python.pkg.dev/colab-wheels/public/simple/\n",
            "Collecting wordsegment\n",
            "  Downloading wordsegment-1.3.1-py2.py3-none-any.whl (4.8 MB)\n",
            "\u001b[K     |████████████████████████████████| 4.8 MB 30.5 MB/s \n",
            "\u001b[?25hInstalling collected packages: wordsegment\n",
            "Successfully installed wordsegment-1.3.1\n",
            "Looking in indexes: https://pypi.org/simple, https://us-python.pkg.dev/colab-wheels/public/simple/\n",
            "Collecting transformers\n",
            "  Downloading transformers-4.23.1-py3-none-any.whl (5.3 MB)\n",
            "\u001b[K     |████████████████████████████████| 5.3 MB 30.3 MB/s \n",
            "\u001b[?25hRequirement already satisfied: filelock in /usr/local/lib/python3.7/dist-packages (from transformers) (3.8.0)\n",
            "Collecting tokenizers!=0.11.3,<0.14,>=0.11.1\n",
            "  Downloading tokenizers-0.13.1-cp37-cp37m-manylinux_2_17_x86_64.manylinux2014_x86_64.whl (7.6 MB)\n",
            "\u001b[K     |████████████████████████████████| 7.6 MB 65.5 MB/s \n",
            "\u001b[?25hRequirement already satisfied: tqdm>=4.27 in /usr/local/lib/python3.7/dist-packages (from transformers) (4.64.1)\n",
            "Collecting huggingface-hub<1.0,>=0.10.0\n",
            "  Downloading huggingface_hub-0.10.1-py3-none-any.whl (163 kB)\n",
            "\u001b[K     |████████████████████████████████| 163 kB 75.5 MB/s \n",
            "\u001b[?25hRequirement already satisfied: pyyaml>=5.1 in /usr/local/lib/python3.7/dist-packages (from transformers) (6.0)\n",
            "Requirement already satisfied: regex!=2019.12.17 in /usr/local/lib/python3.7/dist-packages (from transformers) (2022.6.2)\n",
            "Requirement already satisfied: importlib-metadata in /usr/local/lib/python3.7/dist-packages (from transformers) (5.0.0)\n",
            "Requirement already satisfied: requests in /usr/local/lib/python3.7/dist-packages (from transformers) (2.23.0)\n",
            "Requirement already satisfied: numpy>=1.17 in /usr/local/lib/python3.7/dist-packages (from transformers) (1.21.6)\n",
            "Requirement already satisfied: packaging>=20.0 in /usr/local/lib/python3.7/dist-packages (from transformers) (21.3)\n",
            "Requirement already satisfied: typing-extensions>=3.7.4.3 in /usr/local/lib/python3.7/dist-packages (from huggingface-hub<1.0,>=0.10.0->transformers) (4.1.1)\n",
            "Requirement already satisfied: pyparsing!=3.0.5,>=2.0.2 in /usr/local/lib/python3.7/dist-packages (from packaging>=20.0->transformers) (3.0.9)\n",
            "Requirement already satisfied: zipp>=0.5 in /usr/local/lib/python3.7/dist-packages (from importlib-metadata->transformers) (3.9.0)\n",
            "Requirement already satisfied: idna<3,>=2.5 in /usr/local/lib/python3.7/dist-packages (from requests->transformers) (2.10)\n",
            "Requirement already satisfied: certifi>=2017.4.17 in /usr/local/lib/python3.7/dist-packages (from requests->transformers) (2022.9.24)\n",
            "Requirement already satisfied: chardet<4,>=3.0.2 in /usr/local/lib/python3.7/dist-packages (from requests->transformers) (3.0.4)\n",
            "Requirement already satisfied: urllib3!=1.25.0,!=1.25.1,<1.26,>=1.21.1 in /usr/local/lib/python3.7/dist-packages (from requests->transformers) (1.24.3)\n",
            "Installing collected packages: tokenizers, huggingface-hub, transformers\n",
            "Successfully installed huggingface-hub-0.10.1 tokenizers-0.13.1 transformers-4.23.1\n",
            "Looking in indexes: https://pypi.org/simple, https://us-python.pkg.dev/colab-wheels/public/simple/\n",
            "Collecting ekphrasis\n",
            "  Downloading ekphrasis-0.5.4-py3-none-any.whl (83 kB)\n",
            "\u001b[K     |████████████████████████████████| 83 kB 2.5 MB/s \n",
            "\u001b[?25hRequirement already satisfied: ujson in /usr/local/lib/python3.7/dist-packages (from ekphrasis) (5.5.0)\n",
            "Requirement already satisfied: termcolor in /usr/local/lib/python3.7/dist-packages (from ekphrasis) (2.0.1)\n",
            "Requirement already satisfied: nltk in /usr/local/lib/python3.7/dist-packages (from ekphrasis) (3.7)\n",
            "Requirement already satisfied: tqdm in /usr/local/lib/python3.7/dist-packages (from ekphrasis) (4.64.1)\n",
            "Requirement already satisfied: numpy in /usr/local/lib/python3.7/dist-packages (from ekphrasis) (1.21.6)\n",
            "Collecting colorama\n",
            "  Downloading colorama-0.4.5-py2.py3-none-any.whl (16 kB)\n",
            "Requirement already satisfied: matplotlib in /usr/local/lib/python3.7/dist-packages (from ekphrasis) (3.2.2)\n",
            "Collecting ftfy\n",
            "  Downloading ftfy-6.1.1-py3-none-any.whl (53 kB)\n",
            "\u001b[K     |████████████████████████████████| 53 kB 1.8 MB/s \n",
            "\u001b[?25hRequirement already satisfied: wcwidth>=0.2.5 in /usr/local/lib/python3.7/dist-packages (from ftfy->ekphrasis) (0.2.5)\n",
            "Requirement already satisfied: python-dateutil>=2.1 in /usr/local/lib/python3.7/dist-packages (from matplotlib->ekphrasis) (2.8.2)\n",
            "Requirement already satisfied: pyparsing!=2.0.4,!=2.1.2,!=2.1.6,>=2.0.1 in /usr/local/lib/python3.7/dist-packages (from matplotlib->ekphrasis) (3.0.9)\n",
            "Requirement already satisfied: kiwisolver>=1.0.1 in /usr/local/lib/python3.7/dist-packages (from matplotlib->ekphrasis) (1.4.4)\n",
            "Requirement already satisfied: cycler>=0.10 in /usr/local/lib/python3.7/dist-packages (from matplotlib->ekphrasis) (0.11.0)\n",
            "Requirement already satisfied: typing-extensions in /usr/local/lib/python3.7/dist-packages (from kiwisolver>=1.0.1->matplotlib->ekphrasis) (4.1.1)\n",
            "Requirement already satisfied: six>=1.5 in /usr/local/lib/python3.7/dist-packages (from python-dateutil>=2.1->matplotlib->ekphrasis) (1.15.0)\n",
            "Requirement already satisfied: click in /usr/local/lib/python3.7/dist-packages (from nltk->ekphrasis) (7.1.2)\n",
            "Requirement already satisfied: regex>=2021.8.3 in /usr/local/lib/python3.7/dist-packages (from nltk->ekphrasis) (2022.6.2)\n",
            "Requirement already satisfied: joblib in /usr/local/lib/python3.7/dist-packages (from nltk->ekphrasis) (1.2.0)\n",
            "Installing collected packages: ftfy, colorama, ekphrasis\n",
            "Successfully installed colorama-0.4.5 ekphrasis-0.5.4 ftfy-6.1.1\n"
          ]
        }
      ]
    },
    {
      "cell_type": "code",
      "source": [
        "from PreProcessing import load_dataset\n",
        "from BERTBase import run_with_kfold, evaluateFinal\n",
        "from AnalysisGraph import show_confusion_matrix, show_report, showWrongPredictions"
      ],
      "metadata": {
        "id": "8FVXjrepqtU_",
        "colab": {
          "base_uri": "https://localhost:8080/"
        },
        "outputId": "b1ae5e4a-cb86-433d-8fe8-c6b086f6c1ce"
      },
      "id": "8FVXjrepqtU_",
      "execution_count": null,
      "outputs": [
        {
          "output_type": "stream",
          "name": "stderr",
          "text": [
            "[nltk_data] Downloading package stopwords to /root/nltk_data...\n",
            "[nltk_data]   Unzipping corpora/stopwords.zip.\n",
            "[nltk_data] Downloading package wordnet to /root/nltk_data...\n",
            "[nltk_data] Downloading package omw-1.4 to /root/nltk_data...\n"
          ]
        }
      ]
    },
    {
      "cell_type": "code",
      "metadata": {
        "id": "advanced-income"
      },
      "source": [
        "import string\n",
        "string.punctuation\n",
        "import csv\n",
        "import pandas as pd\n",
        "import numpy as np\n",
        "\n",
        "from transformers import BertForSequenceClassification, BertConfig, BertModel, BertTokenizer, AdamW, get_linear_schedule_with_warmup\n",
        "from sklearn.model_selection import train_test_split\n",
        "from torch.utils.data import TensorDataset, DataLoader, RandomSampler, SequentialSampler\n",
        "from sklearn.utils import shuffle\n",
        "from sklearn.model_selection import train_test_split, StratifiedKFold\n",
        "from sklearn.metrics import f1_score\n",
        "import torch\n",
        "from torch import tensor\n",
        "import torch.nn as nn\n",
        "from tqdm import tqdm, trange\n",
        "import matplotlib.pyplot as plt\n",
        "import random\n",
        "\n",
        "#% matplotlib inline\n",
        "\n",
        "#Random seed initialization for replicability of results\n",
        "torch.manual_seed(0)\n",
        "random.seed(0)\n",
        "np.random.seed(0)\n",
        "\n",
        "import warnings\n",
        "warnings.filterwarnings(\"ignore\")"
      ],
      "id": "advanced-income",
      "execution_count": null,
      "outputs": []
    },
    {
      "cell_type": "code",
      "source": [
        "if torch.cuda.is_available():       \n",
        "    device = torch.device(\"cuda\")\n",
        "    print(f'There are {torch.cuda.device_count()} GPU(s) available.')\n",
        "    print('Device name:', torch.cuda.get_device_name(0))\n",
        "    !nvidia-smi\n",
        "else:\n",
        "    print('No GPU available, using the CPU instead.')\n",
        "    device = torch.device(\"cpu\")"
      ],
      "metadata": {
        "colab": {
          "base_uri": "https://localhost:8080/"
        },
        "id": "AgRC7rVD7JyD",
        "outputId": "fab6c002-ba28-4a5d-9d35-99e0b04c7b15"
      },
      "id": "AgRC7rVD7JyD",
      "execution_count": null,
      "outputs": [
        {
          "output_type": "stream",
          "name": "stdout",
          "text": [
            "There are 1 GPU(s) available.\n",
            "Device name: Tesla T4\n",
            "Thu Oct 13 09:29:24 2022       \n",
            "+-----------------------------------------------------------------------------+\n",
            "| NVIDIA-SMI 460.32.03    Driver Version: 460.32.03    CUDA Version: 11.2     |\n",
            "|-------------------------------+----------------------+----------------------+\n",
            "| GPU  Name        Persistence-M| Bus-Id        Disp.A | Volatile Uncorr. ECC |\n",
            "| Fan  Temp  Perf  Pwr:Usage/Cap|         Memory-Usage | GPU-Util  Compute M. |\n",
            "|                               |                      |               MIG M. |\n",
            "|===============================+======================+======================|\n",
            "|   0  Tesla T4            Off  | 00000000:00:04.0 Off |                    0 |\n",
            "| N/A   40C    P8     9W /  70W |      3MiB / 15109MiB |      0%      Default |\n",
            "|                               |                      |                  N/A |\n",
            "+-------------------------------+----------------------+----------------------+\n",
            "                                                                               \n",
            "+-----------------------------------------------------------------------------+\n",
            "| Processes:                                                                  |\n",
            "|  GPU   GI   CI        PID   Type   Process name                  GPU Memory |\n",
            "|        ID   ID                                                   Usage      |\n",
            "|=============================================================================|\n",
            "|  No running processes found                                                 |\n",
            "+-----------------------------------------------------------------------------+\n"
          ]
        }
      ]
    },
    {
      "cell_type": "code",
      "source": [
        "#SET THE PARAMETERS FOR TRAINING \n",
        "H_PARAMETERS = {'model_name': 'prajjwal1/bert-small', 'unit_layers' : [512, 64, 32, 2], 'dropout' : 0.5, 'folds' : 4, 'batch_size': 32, \n",
        "                'warmup_proportion' : 0.1, 'learning_rate': 2e-4, 'loss' : nn.CrossEntropyLoss(), 'num_epochs': 3, 'device' : device}"
      ],
      "metadata": {
        "id": "_h0TCO47CZsa"
      },
      "id": "_h0TCO47CZsa",
      "execution_count": null,
      "outputs": []
    },
    {
      "cell_type": "code",
      "metadata": {
        "id": "rYkU58w_xwop"
      },
      "source": [
        "# Function to calculate the accuracy of our predictions vs labels\n",
        "def flat_accuracy(preds, labels):\n",
        "    pred_flat = np.argmax(preds, axis=1).flatten()\n",
        "    labels_flat = labels.flatten()\n",
        "    return np.sum(pred_flat == labels_flat) / len(labels_flat)"
      ],
      "id": "rYkU58w_xwop",
      "execution_count": null,
      "outputs": []
    },
    {
      "cell_type": "markdown",
      "metadata": {
        "id": "FNtqr8YUqGc8"
      },
      "source": [],
      "id": "FNtqr8YUqGc8"
    },
    {
      "cell_type": "code",
      "metadata": {
        "scrolled": false,
        "colab": {
          "base_uri": "https://localhost:8080/"
        },
        "id": "seven-airline",
        "outputId": "c4b88fa2-28cb-4035-94a6-b68f947685b2"
      },
      "source": [
        "#dataset = open(\"OLID/olid-training-v1.0.tsv\")\n",
        "data, label = load_dataset(dataset_path = 'drive/MyDrive/HLT/OLID/')\n",
        "\n",
        "#0 = NOT, 1 = OFF\n",
        "data.subtask_a.value_counts()"
      ],
      "id": "seven-airline",
      "execution_count": null,
      "outputs": [
        {
          "output_type": "stream",
          "name": "stdout",
          "text": [
            "Word statistics files not found!\n",
            "Downloading... done!\n",
            "Unpacking... done!\n",
            "Reading english - 1grams ...\n",
            "generating cache file for faster loading...\n",
            "reading ngrams /root/.ekphrasis/stats/english/counts_1grams.txt\n",
            "Reading english - 2grams ...\n",
            "generating cache file for faster loading...\n",
            "reading ngrams /root/.ekphrasis/stats/english/counts_2grams.txt\n",
            "Reading english - 1grams ...\n",
            "user canada need another cuck already enough looney leave liberals fking great country qp roof trudeau must go\n"
          ]
        },
        {
          "output_type": "execute_result",
          "data": {
            "text/plain": [
              "NOT    8840\n",
              "OFF    4400\n",
              "Name: subtask_a, dtype: int64"
            ]
          },
          "metadata": {},
          "execution_count": 9
        }
      ]
    },
    {
      "cell_type": "code",
      "metadata": {
        "colab": {
          "base_uri": "https://localhost:8080/"
        },
        "id": "pIPROShzcWWo",
        "outputId": "0f0934e3-8369-4f05-dd34-c4311f21ad43"
      },
      "source": [
        "data.tweet.sample(20)"
      ],
      "id": "pIPROShzcWWo",
      "execution_count": null,
      "outputs": [
        {
          "output_type": "execute_result",
          "data": {
            "text/plain": [
              "12823                     user good antifa violent fascism\n",
              "12290    user de create slowly stealthily since conserv...\n",
              "8474     christian kabasele reveal secrets behind watfo...\n",
              "4676     user oppose neutral jurist sit scotus weigh me...\n",
              "397      user wonder apologize diamond silk call minstr...\n",
              "10957    user know canada want seem enough problems lib...\n",
              "3311                                        user love maga\n",
              "12936    user agree still conservatives heart may hate ...\n",
              "8575                         play water slider summer http\n",
              "4392     kyky u love u anfield putain la cliiimmmm liv psg\n",
              "7673     user compromise active investigation sound lik...\n",
              "12966    fill sky chemicals frequencies ido consent con...\n",
              "12215    love one another starlight darkness surround m...\n",
              "5480     verge collapse break wave cannot explain whole...\n",
              "3535                user hair polyester fibers yoda puppet\n",
              "4425                           user first regression laugh\n",
              "5523     user well brandon conservatives get elect red ...\n",
              "11758    user california need man worst way liberals al...\n",
              "7037                             user two word gun control\n",
              "6518     user everyone know kerry clue hear numerous an...\n",
              "Name: tweet, dtype: object"
            ]
          },
          "metadata": {},
          "execution_count": 10
        }
      ]
    },
    {
      "cell_type": "code",
      "source": [
        "X_train = list(data.tweet.values)"
      ],
      "metadata": {
        "id": "1kIX0_tKeYmN"
      },
      "id": "1kIX0_tKeYmN",
      "execution_count": null,
      "outputs": []
    },
    {
      "cell_type": "code",
      "metadata": {
        "id": "L6gdFvWw710F",
        "colab": {
          "base_uri": "https://localhost:8080/",
          "height": 81,
          "referenced_widgets": [
            "f8407062e3c64cd6be4293c06abc9958",
            "3c3ff5be324349208a7dc74c81a609ba",
            "b93eadf47a044db09c566a847d954380",
            "a260e799835b46e2a03e5591683197bb",
            "9778d1bb94f946c693f22531eea2a417",
            "b39ca6b9f52e40508afa80befd84c23a",
            "9463cc0ab99742b7acd02e659027e241",
            "48cf434d10894252b54e312cb2bf657f",
            "86c29720b9454afd96a22fe52f9402b2",
            "90a89d0890604db09749417cc58c8bd6",
            "bca8b47b713e462aaeeb6489b6fde756",
            "568ffaaa6ee0429f8930b67009285193",
            "8c4d428a5e634b52b264b218963dca3f",
            "79a24de3fca54b3daa29209d6f3f0167",
            "7e79c2d5f3074ca88676ca6f6f8f3fa7",
            "a4692db1155d4e73952c65aa90e1d2d9",
            "2e7e6a76abe740feae1169d27de6c0d9",
            "738ef72d8db84915b053b6e2410b1e73",
            "944f6b7d3766405e84a504c9b7c4918a",
            "239908da47484e6da6ce5a139121ce44",
            "64f586643e5242dc9b8310278d1787c6",
            "a4cb4dd0e7fd4d47b7f687347525e76b"
          ]
        },
        "outputId": "22c229c2-3af0-4ff0-8bde-f095a3e68d4b"
      },
      "source": [
        "MAX_SEQ_LENGTH = 64\n",
        "\n",
        "tokenizer = BertTokenizer.from_pretrained(H_PARAMETERS['model_name'], do_lower_case=True)\n",
        "sentences = data.tweet.values\n",
        "tokens = tokenizer(X_train, padding=True, truncation=True, max_length=MAX_SEQ_LENGTH)\n",
        "\n",
        "# Create input ids\n",
        "input_ids = []\n",
        "# Create attention masks\n",
        "attention_masks = []\n",
        "\n",
        "input_ids_train = torch.tensor(tokens['input_ids'])\n",
        "attention_masks_train  = torch.tensor(tokens['attention_mask'])"
      ],
      "id": "L6gdFvWw710F",
      "execution_count": null,
      "outputs": [
        {
          "output_type": "display_data",
          "data": {
            "text/plain": [
              "Downloading:   0%|          | 0.00/232k [00:00<?, ?B/s]"
            ],
            "application/vnd.jupyter.widget-view+json": {
              "version_major": 2,
              "version_minor": 0,
              "model_id": "f8407062e3c64cd6be4293c06abc9958"
            }
          },
          "metadata": {}
        },
        {
          "output_type": "display_data",
          "data": {
            "text/plain": [
              "Downloading:   0%|          | 0.00/286 [00:00<?, ?B/s]"
            ],
            "application/vnd.jupyter.widget-view+json": {
              "version_major": 2,
              "version_minor": 0,
              "model_id": "568ffaaa6ee0429f8930b67009285193"
            }
          },
          "metadata": {}
        }
      ]
    },
    {
      "cell_type": "code",
      "metadata": {
        "colab": {
          "base_uri": "https://localhost:8080/"
        },
        "id": "r0ifKXcVBuTf",
        "outputId": "4dcfe046-5756-40e5-962c-f58da3fb0bfc"
      },
      "source": [
        "print('Original: ', sentences[0])\n",
        "print('Token IDs:', input_ids_train[0])"
      ],
      "id": "r0ifKXcVBuTf",
      "execution_count": null,
      "outputs": [
        {
          "output_type": "stream",
          "name": "stdout",
          "text": [
            "Original:  user ask native americans take\n",
            "Token IDs: tensor([ 101, 5310, 3198, 3128, 4841, 2202,  102,    0,    0,    0,    0,    0,\n",
            "           0,    0,    0,    0,    0,    0,    0,    0,    0,    0,    0,    0,\n",
            "           0,    0,    0,    0,    0,    0,    0,    0,    0,    0,    0,    0,\n",
            "           0,    0,    0,    0,    0,    0,    0,    0,    0,    0,    0,    0,\n",
            "           0,    0,    0,    0,    0,    0,    0,    0,    0,    0,    0,    0,\n",
            "           0,    0,    0,    0])\n"
          ]
        }
      ]
    },
    {
      "cell_type": "code",
      "source": [
        "loss_fn = nn.CrossEntropyLoss()"
      ],
      "metadata": {
        "id": "mUK6dAWoQHms"
      },
      "id": "mUK6dAWoQHms",
      "execution_count": null,
      "outputs": []
    },
    {
      "cell_type": "code",
      "source": [
        "test_data, label_test = load_dataset(dataset_path = 'drive/MyDrive/HLT/OLID/', dataset='testset-levela.tsv', dataset_label='labels-levela.csv')\n",
        "X_test = list(test_data.tweet.values)"
      ],
      "metadata": {
        "colab": {
          "base_uri": "https://localhost:8080/"
        },
        "id": "AGZ2gCaxoPm0",
        "outputId": "5c2ea2b6-582a-4742-b411-fbe43a1b0b4c"
      },
      "id": "AGZ2gCaxoPm0",
      "execution_count": null,
      "outputs": [
        {
          "output_type": "stream",
          "name": "stdout",
          "text": [
            "Reading english - 1grams ...\n",
            "Reading english - 2grams ...\n",
            "Reading english - 1grams ...\n",
            "bigg boss tamil janani task go first final listclapping hand clap hand clap hand clap hand\n"
          ]
        }
      ]
    },
    {
      "cell_type": "code",
      "source": [
        "tokens = tokenizer(X_test, padding=True, truncation=True, max_length=MAX_SEQ_LENGTH)\n",
        "\n",
        "# Create input ids\n",
        "input_ids = []\n",
        "# Create attention masks\n",
        "attention_masks = []\n",
        "\n",
        "input_ids_test = torch.tensor(tokens['input_ids'])\n",
        "attention_masks_test  = torch.tensor(tokens['attention_mask'])\n",
        "\n",
        "test_dataset = TensorDataset(input_ids_test, attention_masks_test, torch.tensor(label_test))\n",
        "test_sampler = SequentialSampler(test_dataset)\n",
        "test_dataloader = DataLoader(test_dataset, sampler=test_sampler, batch_size=len(test_dataset))"
      ],
      "metadata": {
        "id": "wf61sK-xqCDf"
      },
      "id": "wf61sK-xqCDf",
      "execution_count": null,
      "outputs": []
    },
    {
      "cell_type": "code",
      "source": [
        "models, preds_ensemble = run_with_kfold(input_ids_train, attention_masks_train, test_dataloader, torch.tensor(label), label_test, H_PARAMETERS)"
      ],
      "metadata": {
        "colab": {
          "base_uri": "https://localhost:8080/",
          "height": 1000,
          "referenced_widgets": [
            "1ce1636b593e4f7db426966aaec6f8d0",
            "77fa1a866edb4705aed4b4fe3c69d504",
            "c2b12bc1ac2642698070029f8eebbf4f",
            "3f4b6ce240db433bbf5f6321f2ee55ba",
            "b99deb3e80c54d2697516a56e1e7d069",
            "0d5d173908e744d0b0ec4fc21cdf6be9",
            "a35ec797019c471c9b8fa4863c272a75",
            "d45c90b3417c491d82922521e76056de",
            "e8746af5681d45698f9b1235bb4b0123",
            "4d6cc2cd5b334b78a502ae5aa2733364",
            "378fc257958545ec98a817191c04c1c6"
          ]
        },
        "id": "ogq3xfRrooB_",
        "outputId": "c808e442-c92e-4fce-84de-605b60501133"
      },
      "id": "ogq3xfRrooB_",
      "execution_count": null,
      "outputs": [
        {
          "output_type": "display_data",
          "data": {
            "text/plain": [
              "Downloading:   0%|          | 0.00/116M [00:00<?, ?B/s]"
            ],
            "application/vnd.jupyter.widget-view+json": {
              "version_major": 2,
              "version_minor": 0,
              "model_id": "1ce1636b593e4f7db426966aaec6f8d0"
            }
          },
          "metadata": {}
        },
        {
          "output_type": "stream",
          "name": "stderr",
          "text": [
            "Some weights of the model checkpoint at prajjwal1/bert-small were not used when initializing BertModel: ['cls.predictions.transform.LayerNorm.bias', 'cls.predictions.decoder.bias', 'cls.predictions.transform.dense.bias', 'cls.predictions.transform.dense.weight', 'cls.seq_relationship.bias', 'cls.predictions.transform.LayerNorm.weight', 'cls.predictions.bias', 'cls.seq_relationship.weight', 'cls.predictions.decoder.weight']\n",
            "- This IS expected if you are initializing BertModel from the checkpoint of a model trained on another task or with another architecture (e.g. initializing a BertForSequenceClassification model from a BertForPreTraining model).\n",
            "- This IS NOT expected if you are initializing BertModel from the checkpoint of a model that you expect to be exactly identical (initializing a BertForSequenceClassification model from a BertForSequenceClassification model).\n"
          ]
        },
        {
          "output_type": "stream",
          "name": "stdout",
          "text": [
            "Sequential(\n",
            "  (0): Linear(in_features=512, out_features=64, bias=True)\n",
            "  (1): ReLU()\n",
            "  (2): Dropout(p=0.5, inplace=False)\n",
            "  (3): Linear(in_features=64, out_features=32, bias=True)\n",
            "  (4): ReLU()\n",
            "  (5): Dropout(p=0.5, inplace=False)\n",
            "  (6): Linear(in_features=32, out_features=2, bias=True)\n",
            ")\n",
            "Start training...\n",
            "\n",
            " Epoch  |  Batch  |  Train Loss  | F1 Train  |  Val Loss  |  Val Acc  |  F1 Val   |  Elapsed \n",
            "-----------------------------------------------------------------------------------------------\n",
            "   1    |   20    |   0.676254   |   0.46    |     -      |     -     |     -     |   3.75   \n",
            "   1    |   40    |   0.653028   |   0.45    |     -      |     -     |     -     |   1.11   \n",
            "   1    |   60    |   0.621690   |   0.56    |     -      |     -     |     -     |   1.11   \n",
            "   1    |   80    |   0.586164   |   0.66    |     -      |     -     |     -     |   1.11   \n",
            "   1    |   100   |   0.565359   |   0.66    |     -      |     -     |     -     |   1.12   \n",
            "   1    |   120   |   0.598572   |   0.66    |     -      |     -     |     -     |   1.12   \n",
            "   1    |   140   |   0.556548   |   0.64    |     -      |     -     |     -     |   1.12   \n",
            "   1    |   160   |   0.560569   |   0.69    |     -      |     -     |     -     |   1.12   \n",
            "   1    |   180   |   0.589746   |   0.68    |     -      |     -     |     -     |   1.12   \n",
            "   1    |   200   |   0.490058   |   0.72    |     -      |     -     |     -     |   1.12   \n",
            "   1    |   220   |   0.540245   |   0.72    |     -      |     -     |     -     |   1.12   \n",
            "   1    |   240   |   0.484143   |   0.75    |     -      |     -     |     -     |   1.12   \n",
            "   1    |   260   |   0.563331   |   0.73    |     -      |     -     |     -     |   1.23   \n",
            "   1    |   280   |   0.528431   |   0.70    |     -      |     -     |     -     |   1.22   \n",
            "   1    |   300   |   0.519194   |   0.71    |     -      |     -     |     -     |   1.13   \n",
            "   1    |   310   |   0.589895   |   0.70    |     -      |     -     |     -     |   0.56   \n",
            "-----------------------------------------------------------------------------------------------\n",
            "   1    |    -    |   0.569909   |   0.65    |  0.493014  |   78.67   |   73.99   |   21.80  \n",
            "-----------------------------------------------------------------------------------------------\n",
            "\n",
            "\n",
            " Epoch  |  Batch  |  Train Loss  | F1 Train  |  Val Loss  |  Val Acc  |  F1 Val   |  Elapsed \n",
            "-----------------------------------------------------------------------------------------------\n",
            "   2    |   20    |   0.509593   |   0.75    |     -      |     -     |     -     |   1.18   \n",
            "   2    |   40    |   0.492131   |   0.77    |     -      |     -     |     -     |   1.13   \n",
            "   2    |   60    |   0.465828   |   0.77    |     -      |     -     |     -     |   1.13   \n",
            "   2    |   80    |   0.463760   |   0.78    |     -      |     -     |     -     |   1.13   \n",
            "   2    |   100   |   0.498376   |   0.78    |     -      |     -     |     -     |   1.13   \n",
            "   2    |   120   |   0.463996   |   0.73    |     -      |     -     |     -     |   1.14   \n",
            "   2    |   140   |   0.480244   |   0.73    |     -      |     -     |     -     |   1.13   \n",
            "   2    |   160   |   0.485316   |   0.76    |     -      |     -     |     -     |   1.14   \n",
            "   2    |   180   |   0.458539   |   0.79    |     -      |     -     |     -     |   1.14   \n",
            "   2    |   200   |   0.470522   |   0.78    |     -      |     -     |     -     |   1.14   \n",
            "   2    |   220   |   0.529369   |   0.74    |     -      |     -     |     -     |   1.14   \n",
            "   2    |   240   |   0.516792   |   0.72    |     -      |     -     |     -     |   1.15   \n",
            "   2    |   260   |   0.479183   |   0.73    |     -      |     -     |     -     |   1.14   \n",
            "   2    |   280   |   0.491597   |   0.78    |     -      |     -     |     -     |   1.14   \n",
            "   2    |   300   |   0.492618   |   0.76    |     -      |     -     |     -     |   1.15   \n",
            "   2    |   310   |   0.503940   |   0.75    |     -      |     -     |     -     |   0.56   \n",
            "-----------------------------------------------------------------------------------------------\n",
            "   2    |    -    |   0.487158   |   0.76    |  0.486109  |   78.25   |   74.63   |   19.32  \n",
            "-----------------------------------------------------------------------------------------------\n",
            "\n",
            "\n",
            " Epoch  |  Batch  |  Train Loss  | F1 Train  |  Val Loss  |  Val Acc  |  F1 Val   |  Elapsed \n",
            "-----------------------------------------------------------------------------------------------\n",
            "   3    |   20    |   0.427995   |   0.80    |     -      |     -     |     -     |   1.20   \n",
            "   3    |   40    |   0.373875   |   0.84    |     -      |     -     |     -     |   1.16   \n",
            "   3    |   60    |   0.440188   |   0.77    |     -      |     -     |     -     |   1.13   \n",
            "   3    |   80    |   0.434374   |   0.78    |     -      |     -     |     -     |   1.15   \n",
            "   3    |   100   |   0.414034   |   0.81    |     -      |     -     |     -     |   1.15   \n",
            "   3    |   120   |   0.395901   |   0.82    |     -      |     -     |     -     |   1.15   \n",
            "   3    |   140   |   0.436260   |   0.81    |     -      |     -     |     -     |   1.15   \n",
            "   3    |   160   |   0.443606   |   0.79    |     -      |     -     |     -     |   1.15   \n",
            "   3    |   180   |   0.393947   |   0.82    |     -      |     -     |     -     |   1.15   \n",
            "   3    |   200   |   0.456732   |   0.76    |     -      |     -     |     -     |   1.15   \n",
            "   3    |   220   |   0.468105   |   0.74    |     -      |     -     |     -     |   1.16   \n",
            "   3    |   240   |   0.492441   |   0.73    |     -      |     -     |     -     |   1.16   \n",
            "   3    |   260   |   0.393440   |   0.82    |     -      |     -     |     -     |   1.16   \n",
            "   3    |   280   |   0.408345   |   0.82    |     -      |     -     |     -     |   1.16   \n",
            "   3    |   300   |   0.409844   |   0.82    |     -      |     -     |     -     |   1.16   \n",
            "   3    |   310   |   0.455336   |   0.79    |     -      |     -     |     -     |   0.57   \n",
            "-----------------------------------------------------------------------------------------------\n",
            "   3    |    -    |   0.426891   |   0.80    |  0.514267  |   77.85   |   73.20   |   19.57  \n",
            "-----------------------------------------------------------------------------------------------\n",
            "\n",
            "\n",
            "Training complete!\n"
          ]
        },
        {
          "output_type": "display_data",
          "data": {
            "text/plain": [
              "<Figure size 432x288 with 2 Axes>"
            ],
            "image/png": "[encoded data removed]"
          },
          "metadata": {
            "needs_background": "light"
          }
        },
        {
          "output_type": "stream",
          "name": "stderr",
          "text": [
            "Some weights of the model checkpoint at prajjwal1/bert-small were not used when initializing BertModel: ['cls.predictions.transform.LayerNorm.bias', 'cls.predictions.decoder.bias', 'cls.predictions.transform.dense.bias', 'cls.predictions.transform.dense.weight', 'cls.seq_relationship.bias', 'cls.predictions.transform.LayerNorm.weight', 'cls.predictions.bias', 'cls.seq_relationship.weight', 'cls.predictions.decoder.weight']\n",
            "- This IS expected if you are initializing BertModel from the checkpoint of a model trained on another task or with another architecture (e.g. initializing a BertForSequenceClassification model from a BertForPreTraining model).\n",
            "- This IS NOT expected if you are initializing BertModel from the checkpoint of a model that you expect to be exactly identical (initializing a BertForSequenceClassification model from a BertForSequenceClassification model).\n"
          ]
        },
        {
          "output_type": "stream",
          "name": "stdout",
          "text": [
            "Sequential(\n",
            "  (0): Linear(in_features=512, out_features=64, bias=True)\n",
            "  (1): ReLU()\n",
            "  (2): Dropout(p=0.5, inplace=False)\n",
            "  (3): Linear(in_features=64, out_features=32, bias=True)\n",
            "  (4): ReLU()\n",
            "  (5): Dropout(p=0.5, inplace=False)\n",
            "  (6): Linear(in_features=32, out_features=2, bias=True)\n",
            ")\n",
            "Start training...\n",
            "\n",
            " Epoch  |  Batch  |  Train Loss  | F1 Train  |  Val Loss  |  Val Acc  |  F1 Val   |  Elapsed \n",
            "-----------------------------------------------------------------------------------------------\n",
            "   1    |   20    |   0.652715   |   0.44    |     -      |     -     |     -     |   1.19   \n",
            "   1    |   40    |   0.653742   |   0.42    |     -      |     -     |     -     |   1.16   \n",
            "   1    |   60    |   0.645670   |   0.40    |     -      |     -     |     -     |   1.16   \n",
            "   1    |   80    |   0.552394   |   0.51    |     -      |     -     |     -     |   1.16   \n",
            "   1    |   100   |   0.595219   |   0.67    |     -      |     -     |     -     |   1.17   \n",
            "   1    |   120   |   0.585675   |   0.63    |     -      |     -     |     -     |   1.17   \n",
            "   1    |   140   |   0.578163   |   0.65    |     -      |     -     |     -     |   1.18   \n",
            "   1    |   160   |   0.618719   |   0.59    |     -      |     -     |     -     |   1.17   \n",
            "   1    |   180   |   0.556200   |   0.69    |     -      |     -     |     -     |   1.17   \n",
            "   1    |   200   |   0.564422   |   0.69    |     -      |     -     |     -     |   1.17   \n",
            "   1    |   220   |   0.536765   |   0.65    |     -      |     -     |     -     |   1.17   \n",
            "   1    |   240   |   0.541369   |   0.69    |     -      |     -     |     -     |   1.17   \n",
            "   1    |   260   |   0.543112   |   0.69    |     -      |     -     |     -     |   1.17   \n",
            "   1    |   280   |   0.510996   |   0.70    |     -      |     -     |     -     |   1.17   \n",
            "   1    |   300   |   0.562114   |   0.71    |     -      |     -     |     -     |   1.18   \n",
            "   1    |   310   |   0.542504   |   0.68    |     -      |     -     |     -     |   0.58   \n",
            "-----------------------------------------------------------------------------------------------\n",
            "   1    |    -    |   0.578853   |   0.61    |  0.516079  |   75.05   |   72.56   |   19.82  \n",
            "-----------------------------------------------------------------------------------------------\n",
            "\n",
            "\n",
            " Epoch  |  Batch  |  Train Loss  | F1 Train  |  Val Loss  |  Val Acc  |  F1 Val   |  Elapsed \n",
            "-----------------------------------------------------------------------------------------------\n",
            "   2    |   20    |   0.511395   |   0.75    |     -      |     -     |     -     |   1.22   \n",
            "   2    |   40    |   0.486264   |   0.76    |     -      |     -     |     -     |   1.19   \n",
            "   2    |   60    |   0.461472   |   0.74    |     -      |     -     |     -     |   1.17   \n",
            "   2    |   80    |   0.474498   |   0.73    |     -      |     -     |     -     |   1.18   \n",
            "   2    |   100   |   0.516264   |   0.74    |     -      |     -     |     -     |   1.19   \n",
            "   2    |   120   |   0.474531   |   0.74    |     -      |     -     |     -     |   1.18   \n",
            "   2    |   140   |   0.454183   |   0.74    |     -      |     -     |     -     |   1.19   \n",
            "   2    |   160   |   0.519644   |   0.72    |     -      |     -     |     -     |   1.19   \n",
            "   2    |   180   |   0.511062   |   0.75    |     -      |     -     |     -     |   1.19   \n",
            "   2    |   200   |   0.458889   |   0.76    |     -      |     -     |     -     |   1.18   \n",
            "   2    |   220   |   0.503143   |   0.74    |     -      |     -     |     -     |   1.19   \n",
            "   2    |   240   |   0.479597   |   0.76    |     -      |     -     |     -     |   1.19   \n",
            "   2    |   260   |   0.470290   |   0.76    |     -      |     -     |     -     |   1.19   \n",
            "   2    |   280   |   0.539067   |   0.75    |     -      |     -     |     -     |   1.19   \n",
            "   2    |   300   |   0.558037   |   0.57    |     -      |     -     |     -     |   1.21   \n",
            "   2    |   310   |   0.511487   |   0.56    |     -      |     -     |     -     |   0.59   \n",
            "-----------------------------------------------------------------------------------------------\n",
            "   2    |    -    |   0.495154   |   0.73    |  0.519759  |   77.19   |   73.75   |   20.17  \n",
            "-----------------------------------------------------------------------------------------------\n",
            "\n",
            "\n",
            " Epoch  |  Batch  |  Train Loss  | F1 Train  |  Val Loss  |  Val Acc  |  F1 Val   |  Elapsed \n",
            "-----------------------------------------------------------------------------------------------\n",
            "   3    |   20    |   0.428453   |   0.66    |     -      |     -     |     -     |   1.24   \n",
            "   3    |   40    |   0.469804   |   0.71    |     -      |     -     |     -     |   1.20   \n",
            "   3    |   60    |   0.466358   |   0.69    |     -      |     -     |     -     |   1.20   \n",
            "   3    |   80    |   0.444137   |   0.72    |     -      |     -     |     -     |   1.21   \n",
            "   3    |   100   |   0.435389   |   0.75    |     -      |     -     |     -     |   1.21   \n",
            "   3    |   120   |   0.469738   |   0.72    |     -      |     -     |     -     |   1.21   \n",
            "   3    |   140   |   0.462129   |   0.70    |     -      |     -     |     -     |   1.20   \n",
            "   3    |   160   |   0.437108   |   0.72    |     -      |     -     |     -     |   1.21   \n",
            "   3    |   180   |   0.492382   |   0.72    |     -      |     -     |     -     |   1.20   \n",
            "   3    |   200   |   0.405310   |   0.77    |     -      |     -     |     -     |   1.21   \n",
            "   3    |   220   |   0.451812   |   0.78    |     -      |     -     |     -     |   1.20   \n",
            "   3    |   240   |   0.450999   |   0.78    |     -      |     -     |     -     |   1.22   \n",
            "   3    |   260   |   0.424922   |   0.80    |     -      |     -     |     -     |   1.22   \n",
            "   3    |   280   |   0.434200   |   0.81    |     -      |     -     |     -     |   1.22   \n",
            "   3    |   300   |   0.412379   |   0.80    |     -      |     -     |     -     |   1.22   \n",
            "   3    |   310   |   0.434367   |   0.76    |     -      |     -     |     -     |   0.60   \n",
            "-----------------------------------------------------------------------------------------------\n",
            "   3    |    -    |   0.445256   |   0.74    |  0.501690  |   76.53   |   73.53   |   20.52  \n",
            "-----------------------------------------------------------------------------------------------\n",
            "\n",
            "\n",
            "Training complete!\n"
          ]
        },
        {
          "output_type": "display_data",
          "data": {
            "text/plain": [
              "<Figure size 432x288 with 2 Axes>"
            ],
            "image/png": "[encoded data removed]"
          },
          "metadata": {
            "needs_background": "light"
          }
        },
        {
          "output_type": "stream",
          "name": "stderr",
          "text": [
            "Some weights of the model checkpoint at prajjwal1/bert-small were not used when initializing BertModel: ['cls.predictions.transform.LayerNorm.bias', 'cls.predictions.decoder.bias', 'cls.predictions.transform.dense.bias', 'cls.predictions.transform.dense.weight', 'cls.seq_relationship.bias', 'cls.predictions.transform.LayerNorm.weight', 'cls.predictions.bias', 'cls.seq_relationship.weight', 'cls.predictions.decoder.weight']\n",
            "- This IS expected if you are initializing BertModel from the checkpoint of a model trained on another task or with another architecture (e.g. initializing a BertForSequenceClassification model from a BertForPreTraining model).\n",
            "- This IS NOT expected if you are initializing BertModel from the checkpoint of a model that you expect to be exactly identical (initializing a BertForSequenceClassification model from a BertForSequenceClassification model).\n"
          ]
        },
        {
          "output_type": "stream",
          "name": "stdout",
          "text": [
            "Sequential(\n",
            "  (0): Linear(in_features=512, out_features=64, bias=True)\n",
            "  (1): ReLU()\n",
            "  (2): Dropout(p=0.5, inplace=False)\n",
            "  (3): Linear(in_features=64, out_features=32, bias=True)\n",
            "  (4): ReLU()\n",
            "  (5): Dropout(p=0.5, inplace=False)\n",
            "  (6): Linear(in_features=32, out_features=2, bias=True)\n",
            ")\n",
            "Start training...\n",
            "\n",
            " Epoch  |  Batch  |  Train Loss  | F1 Train  |  Val Loss  |  Val Acc  |  F1 Val   |  Elapsed \n",
            "-----------------------------------------------------------------------------------------------\n",
            "   1    |   20    |   0.663049   |   0.50    |     -      |     -     |     -     |   1.25   \n",
            "   1    |   40    |   0.626724   |   0.51    |     -      |     -     |     -     |   1.21   \n",
            "   1    |   60    |   0.622990   |   0.59    |     -      |     -     |     -     |   1.22   \n",
            "   1    |   80    |   0.555465   |   0.71    |     -      |     -     |     -     |   1.22   \n",
            "   1    |   100   |   0.525335   |   0.71    |     -      |     -     |     -     |   1.22   \n",
            "   1    |   120   |   0.585598   |   0.66    |     -      |     -     |     -     |   1.22   \n",
            "   1    |   140   |   0.531247   |   0.70    |     -      |     -     |     -     |   1.21   \n",
            "   1    |   160   |   0.527840   |   0.72    |     -      |     -     |     -     |   1.22   \n",
            "   1    |   180   |   0.536674   |   0.69    |     -      |     -     |     -     |   1.22   \n",
            "   1    |   200   |   0.541389   |   0.70    |     -      |     -     |     -     |   1.22   \n",
            "   1    |   220   |   0.538435   |   0.72    |     -      |     -     |     -     |   1.22   \n",
            "   1    |   240   |   0.517490   |   0.74    |     -      |     -     |     -     |   1.22   \n",
            "   1    |   260   |   0.569796   |   0.70    |     -      |     -     |     -     |   1.22   \n",
            "   1    |   280   |   0.559690   |   0.66    |     -      |     -     |     -     |   1.22   \n",
            "   1    |   300   |   0.545503   |   0.69    |     -      |     -     |     -     |   1.22   \n",
            "   1    |   310   |   0.515408   |   0.64    |     -      |     -     |     -     |   0.60   \n",
            "-----------------------------------------------------------------------------------------------\n",
            "   1    |    -    |   0.561935   |   0.67    |  0.512357  |   76.22   |   67.27   |   20.66  \n",
            "-----------------------------------------------------------------------------------------------\n",
            "\n",
            "\n",
            " Epoch  |  Batch  |  Train Loss  | F1 Train  |  Val Loss  |  Val Acc  |  F1 Val   |  Elapsed \n",
            "-----------------------------------------------------------------------------------------------\n",
            "   2    |   20    |   0.565571   |   0.71    |     -      |     -     |     -     |   1.25   \n",
            "   2    |   40    |   0.551435   |   0.76    |     -      |     -     |     -     |   1.23   \n",
            "   2    |   60    |   0.552853   |   0.74    |     -      |     -     |     -     |   1.22   \n",
            "   2    |   80    |   0.502177   |   0.78    |     -      |     -     |     -     |   1.22   \n",
            "   2    |   100   |   0.523768   |   0.78    |     -      |     -     |     -     |   1.20   \n",
            "   2    |   120   |   0.483078   |   0.76    |     -      |     -     |     -     |   1.21   \n",
            "   2    |   140   |   0.462142   |   0.78    |     -      |     -     |     -     |   1.22   \n",
            "   2    |   160   |   0.480801   |   0.76    |     -      |     -     |     -     |   1.22   \n",
            "   2    |   180   |   0.496207   |   0.78    |     -      |     -     |     -     |   1.22   \n",
            "   2    |   200   |   0.550845   |   0.71    |     -      |     -     |     -     |   1.21   \n",
            "   2    |   220   |   0.432248   |   0.81    |     -      |     -     |     -     |   1.21   \n",
            "   2    |   240   |   0.560910   |   0.75    |     -      |     -     |     -     |   1.20   \n",
            "   2    |   260   |   0.475236   |   0.74    |     -      |     -     |     -     |   1.20   \n",
            "   2    |   280   |   0.444902   |   0.79    |     -      |     -     |     -     |   1.21   \n",
            "   2    |   300   |   0.476929   |   0.77    |     -      |     -     |     -     |   1.20   \n",
            "   2    |   310   |   0.485728   |   0.75    |     -      |     -     |     -     |   0.58   \n",
            "-----------------------------------------------------------------------------------------------\n",
            "   2    |    -    |   0.503553   |   0.76    |  0.503060  |   77.25   |   74.65   |   20.56  \n",
            "-----------------------------------------------------------------------------------------------\n",
            "\n",
            "\n",
            " Epoch  |  Batch  |  Train Loss  | F1 Train  |  Val Loss  |  Val Acc  |  F1 Val   |  Elapsed \n",
            "-----------------------------------------------------------------------------------------------\n",
            "   3    |   20    |   0.446265   |   0.80    |     -      |     -     |     -     |   1.25   \n",
            "   3    |   40    |   0.428057   |   0.81    |     -      |     -     |     -     |   1.21   \n",
            "   3    |   60    |   0.454300   |   0.81    |     -      |     -     |     -     |   1.20   \n",
            "   3    |   80    |   0.453873   |   0.79    |     -      |     -     |     -     |   1.21   \n",
            "   3    |   100   |   0.452597   |   0.77    |     -      |     -     |     -     |   1.21   \n",
            "   3    |   120   |   0.445760   |   0.81    |     -      |     -     |     -     |   1.20   \n",
            "   3    |   140   |   0.464893   |   0.80    |     -      |     -     |     -     |   1.20   \n",
            "   3    |   160   |   0.459763   |   0.82    |     -      |     -     |     -     |   1.20   \n",
            "   3    |   180   |   0.470439   |   0.79    |     -      |     -     |     -     |   1.21   \n",
            "   3    |   200   |   0.429786   |   0.80    |     -      |     -     |     -     |   1.21   \n",
            "   3    |   220   |   0.401077   |   0.82    |     -      |     -     |     -     |   1.21   \n",
            "   3    |   240   |   0.415675   |   0.78    |     -      |     -     |     -     |   1.20   \n",
            "   3    |   260   |   0.445179   |   0.78    |     -      |     -     |     -     |   1.21   \n",
            "   3    |   280   |   0.453009   |   0.77    |     -      |     -     |     -     |   1.21   \n",
            "   3    |   300   |   0.442990   |   0.79    |     -      |     -     |     -     |   1.21   \n",
            "   3    |   310   |   0.482454   |   0.78    |     -      |     -     |     -     |   0.59   \n",
            "-----------------------------------------------------------------------------------------------\n",
            "   3    |    -    |   0.445479   |   0.80    |  0.536001  |   76.44   |   73.33   |   20.48  \n",
            "-----------------------------------------------------------------------------------------------\n",
            "\n",
            "\n",
            "Training complete!\n"
          ]
        },
        {
          "output_type": "display_data",
          "data": {
            "text/plain": [
              "<Figure size 432x288 with 2 Axes>"
            ],
            "image/png": "[encoded data removed]"
          },
          "metadata": {
            "needs_background": "light"
          }
        },
        {
          "output_type": "stream",
          "name": "stderr",
          "text": [
            "Some weights of the model checkpoint at prajjwal1/bert-small were not used when initializing BertModel: ['cls.predictions.transform.LayerNorm.bias', 'cls.predictions.decoder.bias', 'cls.predictions.transform.dense.bias', 'cls.predictions.transform.dense.weight', 'cls.seq_relationship.bias', 'cls.predictions.transform.LayerNorm.weight', 'cls.predictions.bias', 'cls.seq_relationship.weight', 'cls.predictions.decoder.weight']\n",
            "- This IS expected if you are initializing BertModel from the checkpoint of a model trained on another task or with another architecture (e.g. initializing a BertForSequenceClassification model from a BertForPreTraining model).\n",
            "- This IS NOT expected if you are initializing BertModel from the checkpoint of a model that you expect to be exactly identical (initializing a BertForSequenceClassification model from a BertForSequenceClassification model).\n"
          ]
        },
        {
          "output_type": "stream",
          "name": "stdout",
          "text": [
            "Sequential(\n",
            "  (0): Linear(in_features=512, out_features=64, bias=True)\n",
            "  (1): ReLU()\n",
            "  (2): Dropout(p=0.5, inplace=False)\n",
            "  (3): Linear(in_features=64, out_features=32, bias=True)\n",
            "  (4): ReLU()\n",
            "  (5): Dropout(p=0.5, inplace=False)\n",
            "  (6): Linear(in_features=32, out_features=2, bias=True)\n",
            ")\n",
            "Start training...\n",
            "\n",
            " Epoch  |  Batch  |  Train Loss  | F1 Train  |  Val Loss  |  Val Acc  |  F1 Val   |  Elapsed \n",
            "-----------------------------------------------------------------------------------------------\n",
            "   1    |   20    |   0.652104   |   0.45    |     -      |     -     |     -     |   1.23   \n",
            "   1    |   40    |   0.651444   |   0.43    |     -      |     -     |     -     |   1.20   \n",
            "   1    |   60    |   0.623324   |   0.56    |     -      |     -     |     -     |   1.20   \n",
            "   1    |   80    |   0.602198   |   0.62    |     -      |     -     |     -     |   1.20   \n",
            "   1    |   100   |   0.554139   |   0.69    |     -      |     -     |     -     |   1.20   \n",
            "   1    |   120   |   0.537824   |   0.65    |     -      |     -     |     -     |   1.21   \n",
            "   1    |   140   |   0.615120   |   0.62    |     -      |     -     |     -     |   1.20   \n",
            "   1    |   160   |   0.568797   |   0.68    |     -      |     -     |     -     |   1.21   \n",
            "   1    |   180   |   0.530271   |   0.68    |     -      |     -     |     -     |   1.21   \n",
            "   1    |   200   |   0.531198   |   0.69    |     -      |     -     |     -     |   1.21   \n",
            "   1    |   220   |   0.552322   |   0.67    |     -      |     -     |     -     |   1.22   \n",
            "   1    |   240   |   0.553818   |   0.62    |     -      |     -     |     -     |   1.21   \n",
            "   1    |   260   |   0.506816   |   0.71    |     -      |     -     |     -     |   1.20   \n",
            "   1    |   280   |   0.531564   |   0.70    |     -      |     -     |     -     |   1.22   \n",
            "   1    |   300   |   0.529210   |   0.69    |     -      |     -     |     -     |   1.21   \n",
            "   1    |   310   |   0.517826   |   0.71    |     -      |     -     |     -     |   0.60   \n",
            "-----------------------------------------------------------------------------------------------\n",
            "   1    |    -    |   0.567953   |   0.63    |  0.489348  |   76.53   |   73.26   |   20.49  \n",
            "-----------------------------------------------------------------------------------------------\n",
            "\n",
            "\n",
            " Epoch  |  Batch  |  Train Loss  | F1 Train  |  Val Loss  |  Val Acc  |  F1 Val   |  Elapsed \n",
            "-----------------------------------------------------------------------------------------------\n",
            "   2    |   20    |   0.473323   |   0.76    |     -      |     -     |     -     |   1.28   \n",
            "   2    |   40    |   0.486044   |   0.75    |     -      |     -     |     -     |   1.20   \n",
            "   2    |   60    |   0.500701   |   0.74    |     -      |     -     |     -     |   1.22   \n",
            "   2    |   80    |   0.480839   |   0.75    |     -      |     -     |     -     |   1.22   \n",
            "   2    |   100   |   0.518398   |   0.71    |     -      |     -     |     -     |   1.21   \n",
            "   2    |   120   |   0.487008   |   0.76    |     -      |     -     |     -     |   1.22   \n",
            "   2    |   140   |   0.514033   |   0.74    |     -      |     -     |     -     |   1.21   \n",
            "   2    |   160   |   0.466994   |   0.76    |     -      |     -     |     -     |   1.22   \n",
            "   2    |   180   |   0.469427   |   0.73    |     -      |     -     |     -     |   1.22   \n",
            "   2    |   200   |   0.546103   |   0.73    |     -      |     -     |     -     |   1.22   \n",
            "   2    |   220   |   0.467112   |   0.73    |     -      |     -     |     -     |   1.21   \n",
            "   2    |   240   |   0.492565   |   0.75    |     -      |     -     |     -     |   1.22   \n",
            "   2    |   260   |   0.464480   |   0.77    |     -      |     -     |     -     |   1.22   \n",
            "   2    |   280   |   0.453450   |   0.77    |     -      |     -     |     -     |   1.21   \n",
            "   2    |   300   |   0.435872   |   0.75    |     -      |     -     |     -     |   1.22   \n",
            "   2    |   310   |   0.400768   |   0.79    |     -      |     -     |     -     |   0.60   \n",
            "-----------------------------------------------------------------------------------------------\n",
            "   2    |    -    |   0.481055   |   0.75    |  0.511679  |   78.49   |   73.40   |   20.65  \n",
            "-----------------------------------------------------------------------------------------------\n",
            "\n",
            "\n",
            " Epoch  |  Batch  |  Train Loss  | F1 Train  |  Val Loss  |  Val Acc  |  F1 Val   |  Elapsed \n",
            "-----------------------------------------------------------------------------------------------\n",
            "   3    |   20    |   0.437000   |   0.79    |     -      |     -     |     -     |   1.25   \n",
            "   3    |   40    |   0.412871   |   0.81    |     -      |     -     |     -     |   1.21   \n",
            "   3    |   60    |   0.452210   |   0.79    |     -      |     -     |     -     |   1.22   \n",
            "   3    |   80    |   0.411982   |   0.82    |     -      |     -     |     -     |   1.21   \n",
            "   3    |   100   |   0.412449   |   0.81    |     -      |     -     |     -     |   1.21   \n",
            "   3    |   120   |   0.426318   |   0.82    |     -      |     -     |     -     |   1.21   \n",
            "   3    |   140   |   0.400424   |   0.83    |     -      |     -     |     -     |   1.21   \n",
            "   3    |   160   |   0.428513   |   0.80    |     -      |     -     |     -     |   1.22   \n",
            "   3    |   180   |   0.409009   |   0.81    |     -      |     -     |     -     |   1.22   \n",
            "   3    |   200   |   0.424055   |   0.78    |     -      |     -     |     -     |   1.21   \n",
            "   3    |   220   |   0.413994   |   0.81    |     -      |     -     |     -     |   1.22   \n",
            "   3    |   240   |   0.395053   |   0.80    |     -      |     -     |     -     |   1.22   \n",
            "   3    |   260   |   0.386480   |   0.81    |     -      |     -     |     -     |   1.22   \n",
            "   3    |   280   |   0.391965   |   0.82    |     -      |     -     |     -     |   1.22   \n",
            "   3    |   300   |   0.433387   |   0.81    |     -      |     -     |     -     |   1.20   \n",
            "   3    |   310   |   0.335512   |   0.78    |     -      |     -     |     -     |   0.60   \n",
            "-----------------------------------------------------------------------------------------------\n",
            "   3    |    -    |   0.413203   |   0.81    |  0.574106  |   77.52   |   73.54   |   20.60  \n",
            "-----------------------------------------------------------------------------------------------\n",
            "\n",
            "\n",
            "Training complete!\n"
          ]
        },
        {
          "output_type": "display_data",
          "data": {
            "text/plain": [
              "<Figure size 432x288 with 2 Axes>"
            ],
            "image/png": "[encoded data removed]"
          },
          "metadata": {
            "needs_background": "light"
          }
        },
        {
          "output_type": "stream",
          "name": "stdout",
          "text": [
            "------RESULT------\n"
          ]
        },
        {
          "output_type": "display_data",
          "data": {
            "text/plain": [
              "<Figure size 432x288 with 2 Axes>"
            ],
            "image/png": "[encoded data removed]"
          },
          "metadata": {
            "needs_background": "light"
          }
        },
        {
          "output_type": "stream",
          "name": "stdout",
          "text": [
            "              precision    recall  f1-score   support\n",
            "\n",
            "     Not Off     0.8411    0.9306    0.8836       620\n",
            "         Off     0.7529    0.5458    0.6329       240\n",
            "\n",
            "    accuracy                         0.8233       860\n",
            "   macro avg     0.7970    0.7382    0.7582       860\n",
            "weighted avg     0.8165    0.8233    0.8136       860\n",
            "\n",
            "f1_score test tweets: 0.7582321651833603\n"
          ]
        }
      ]
    },
    {
      "cell_type": "code",
      "source": [
        "for i in range(len(models)):\n",
        "  models[i].to(device)\n",
        "  val_loss, val_accuracys, f1_value_tweets = evaluateFinal(models[i], test_dataloader, H_PARAMETERS['device'], H_PARAMETERS['loss'])\n",
        "  models[i].to('cpu')\n",
        "  print(\"Bert model {0} tweets testset result => Loss: {1} Accuracy: {2} F1 score: {3}\".format(i, val_loss, val_accuracys, f1_value_tweets))"
      ],
      "metadata": {
        "id": "a7LFlcq-m1GV",
        "colab": {
          "base_uri": "https://localhost:8080/",
          "height": 1000
        },
        "outputId": "ee9dab32-abdb-4b18-aad1-0f71eec08916"
      },
      "id": "a7LFlcq-m1GV",
      "execution_count": null,
      "outputs": [
        {
          "output_type": "display_data",
          "data": {
            "text/plain": [
              "<Figure size 432x288 with 2 Axes>"
            ],
            "image/png": "[encoded data removed]"
          },
          "metadata": {
            "needs_background": "light"
          }
        },
        {
          "output_type": "stream",
          "name": "stdout",
          "text": [
            "              precision    recall  f1-score   support\n",
            "\n",
            "     Not Off     0.8364    0.9403    0.8853       620\n",
            "         Off     0.7730    0.5250    0.6253       240\n",
            "\n",
            "    accuracy                         0.8244       860\n",
            "   macro avg     0.8047    0.7327    0.7553       860\n",
            "weighted avg     0.8187    0.8244    0.8128       860\n",
            "\n",
            "Bert model 0 tweets testset result => Loss: 0.4317060708999634 Accuracy: 82.44186046511628 F1 score: 75.53278279268433\n"
          ]
        },
        {
          "output_type": "display_data",
          "data": {
            "text/plain": [
              "<Figure size 432x288 with 2 Axes>"
            ],
            "image/png": "[encoded data removed]"
          },
          "metadata": {
            "needs_background": "light"
          }
        },
        {
          "output_type": "stream",
          "name": "stdout",
          "text": [
            "              precision    recall  f1-score   support\n",
            "\n",
            "     Not Off     0.8613    0.8613    0.8613       620\n",
            "         Off     0.6417    0.6417    0.6417       240\n",
            "\n",
            "    accuracy                         0.8000       860\n",
            "   macro avg     0.7515    0.7515    0.7515       860\n",
            "weighted avg     0.8000    0.8000    0.8000       860\n",
            "\n",
            "Bert model 1 tweets testset result => Loss: 0.44574496150016785 Accuracy: 80.0 F1 score: 75.14784946236558\n"
          ]
        },
        {
          "output_type": "display_data",
          "data": {
            "text/plain": [
              "<Figure size 432x288 with 2 Axes>"
            ],
            "image/png": "[encoded data removed]"
          },
          "metadata": {
            "needs_background": "light"
          }
        },
        {
          "output_type": "stream",
          "name": "stdout",
          "text": [
            "              precision    recall  f1-score   support\n",
            "\n",
            "     Not Off     0.8663    0.8677    0.8670       620\n",
            "         Off     0.6569    0.6542    0.6555       240\n",
            "\n",
            "    accuracy                         0.8081       860\n",
            "   macro avg     0.7616    0.7610    0.7613       860\n",
            "weighted avg     0.8079    0.8081    0.8080       860\n",
            "\n",
            "Bert model 2 tweets testset result => Loss: 0.4303770065307617 Accuracy: 80.81395348837209 F1 score: 76.12875332876881\n"
          ]
        },
        {
          "output_type": "display_data",
          "data": {
            "text/plain": [
              "<Figure size 432x288 with 2 Axes>"
            ],
            "image/png": "[encoded data removed]"
          },
          "metadata": {
            "needs_background": "light"
          }
        },
        {
          "output_type": "stream",
          "name": "stdout",
          "text": [
            "              precision    recall  f1-score   support\n",
            "\n",
            "     Not Off     0.8465    0.8984    0.8717       620\n",
            "         Off     0.6881    0.5792    0.6290       240\n",
            "\n",
            "    accuracy                         0.8093       860\n",
            "   macro avg     0.7673    0.7388    0.7503       860\n",
            "weighted avg     0.8023    0.8093    0.8039       860\n",
            "\n",
            "Bert model 3 tweets testset result => Loss: 0.49583733081817627 Accuracy: 80.93023255813954 F1 score: 75.03168837054504\n"
          ]
        }
      ]
    },
    {
      "cell_type": "code",
      "source": [
        "showWrongPredictions(test_data, torch.tensor(label), preds_ensemble)"
      ],
      "metadata": {
        "colab": {
          "base_uri": "https://localhost:8080/"
        },
        "id": "d4rWiStlq0ON",
        "outputId": "329595b2-3143-4277-fb1f-da4ec4263ff3"
      },
      "id": "d4rWiStlq0ON",
      "execution_count": null,
      "outputs": [
        {
          "output_type": "stream",
          "name": "stdout",
          "text": [
            "       id                   tweet\n",
            "14  12588  user nigga ware da hit\n",
            "       id                                   tweet\n",
            "15  34263  stop kavanaugh liar like rest gop http\n",
            "       id                                              tweet\n",
            "38  46444  ariana asesina serious holy shit please fuck a...\n",
            "       id                             tweet\n",
            "39  60587  user hide ugly personality worst\n",
            "       id       tweet\n",
            "40  70569  bitch http\n",
            "      id                                              tweet\n",
            "0  15923  isq wheres server dump nike dec las fisa democ...\n",
            "      id                                              tweet\n",
            "1  27014  constitution day revere conservatives hat prog...\n",
            "      id                                              tweet\n",
            "3  13876  watch boomer get news still parole always make...\n",
            "      id                                              tweet\n",
            "6  96874  rap form art use express freely gv green light...\n",
            "      id                                      tweet\n",
            "7  65507  user get feel kiss behind humiliate later\n"
          ]
        }
      ]
    }
  ]
}
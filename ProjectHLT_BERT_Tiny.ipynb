{
  "nbformat": 4,
  "nbformat_minor": 5,
  "metadata": {
    "kernelspec": {
      "display_name": "Python 3",
      "language": "python",
      "name": "python3"
    },
    "language_info": {
      "codemirror_mode": {
        "name": "ipython",
        "version": 3
      },
      "file_extension": ".py",
      "mimetype": "text/x-python",
      "name": "python",
      "nbconvert_exporter": "python",
      "pygments_lexer": "ipython3",
      "version": "3.8.8"
    },
    "colab": {
      "provenance": [],
      "collapsed_sections": []
    }
  },
  "cells": [
    {
      "cell_type": "markdown",
      "metadata": {
        "id": "appreciated-bracket"
      },
      "source": [
        "# Project Human Language Technology - OffensEval2019\n",
        "# Task 1\n",
        "## BERT Tiny\n",
        "This notebook will explore a model for competition \"OffensEval 2019: Identifying and Categorizing Offensive Language in Social Media\" using BERT Tiny. \\\\\n",
        "BERT Tiny a pre-trained model with structure is __L = 2 and H = 128__ \\\\\n",
        "Matricola: 505252 Michele Morisco"
      ],
      "id": "appreciated-bracket"
    },
    {
      "cell_type": "code",
      "metadata": {
        "colab": {
          "base_uri": "https://localhost:8080/"
        },
        "id": "WWIOvmPxPQQE",
        "outputId": "2c5f551d-ebcb-4ab6-c7dd-c8e49a6c036e"
      },
      "source": [
        "from google.colab import drive\n",
        "drive.mount('/content/drive')"
      ],
      "id": "WWIOvmPxPQQE",
      "execution_count": null,
      "outputs": [
        {
          "output_type": "stream",
          "name": "stdout",
          "text": [
            "Mounted at /content/drive\n"
          ]
        }
      ]
    },
    {
      "cell_type": "code",
      "source": [
        "!cp drive/MyDrive/Library/PreProcessing.py .\n",
        "!cp drive/MyDrive/Library/BERTBase.py .\n",
        "!cp drive/MyDrive/Library/AnalysisGraph.py ."
      ],
      "metadata": {
        "id": "IweEf5Cso-Nt"
      },
      "id": "IweEf5Cso-Nt",
      "execution_count": null,
      "outputs": []
    },
    {
      "cell_type": "code",
      "metadata": {
        "colab": {
          "base_uri": "https://localhost:8080/"
        },
        "id": "Zbr5fIa5jgwX",
        "outputId": "92ff18c2-aa83-4387-ea13-acd4d4ed6302"
      },
      "source": [
        "#!pip install pytorch-pretrained-bert pytorch-nlp\n",
        "!pip install emoji --upgrade\n",
        "!pip install wordsegment\n",
        "!pip install transformers \n",
        "!pip install ekphrasis"
      ],
      "id": "Zbr5fIa5jgwX",
      "execution_count": null,
      "outputs": [
        {
          "output_type": "stream",
          "name": "stdout",
          "text": [
            "Looking in indexes: https://pypi.org/simple, https://us-python.pkg.dev/colab-wheels/public/simple/\n",
            "Collecting emoji\n",
            "  Downloading emoji-2.1.0.tar.gz (216 kB)\n",
            "\u001b[K     |████████████████████████████████| 216 kB 3.2 MB/s \n",
            "\u001b[?25hBuilding wheels for collected packages: emoji\n",
            "  Building wheel for emoji (setup.py) ... \u001b[?25l\u001b[?25hdone\n",
            "  Created wheel for emoji: filename=emoji-2.1.0-py3-none-any.whl size=212392 sha256=4a28e51cbec6e35785f642c78ad4e3486284dd85db575709313ce37fa5061688\n",
            "  Stored in directory: /root/.cache/pip/wheels/77/75/99/51c2a119f4cfd3af7b49cc57e4f737bed7e40b348a85d82804\n",
            "Successfully built emoji\n",
            "Installing collected packages: emoji\n",
            "Successfully installed emoji-2.1.0\n",
            "Looking in indexes: https://pypi.org/simple, https://us-python.pkg.dev/colab-wheels/public/simple/\n",
            "Collecting wordsegment\n",
            "  Downloading wordsegment-1.3.1-py2.py3-none-any.whl (4.8 MB)\n",
            "\u001b[K     |████████████████████████████████| 4.8 MB 4.1 MB/s \n",
            "\u001b[?25hInstalling collected packages: wordsegment\n",
            "Successfully installed wordsegment-1.3.1\n",
            "Looking in indexes: https://pypi.org/simple, https://us-python.pkg.dev/colab-wheels/public/simple/\n",
            "Collecting transformers\n",
            "  Downloading transformers-4.23.1-py3-none-any.whl (5.3 MB)\n",
            "\u001b[K     |████████████████████████████████| 5.3 MB 4.1 MB/s \n",
            "\u001b[?25hRequirement already satisfied: packaging>=20.0 in /usr/local/lib/python3.7/dist-packages (from transformers) (21.3)\n",
            "Requirement already satisfied: numpy>=1.17 in /usr/local/lib/python3.7/dist-packages (from transformers) (1.21.6)\n",
            "Requirement already satisfied: importlib-metadata in /usr/local/lib/python3.7/dist-packages (from transformers) (5.0.0)\n",
            "Requirement already satisfied: requests in /usr/local/lib/python3.7/dist-packages (from transformers) (2.23.0)\n",
            "Collecting huggingface-hub<1.0,>=0.10.0\n",
            "  Downloading huggingface_hub-0.10.1-py3-none-any.whl (163 kB)\n",
            "\u001b[K     |████████████████████████████████| 163 kB 47.5 MB/s \n",
            "\u001b[?25hCollecting tokenizers!=0.11.3,<0.14,>=0.11.1\n",
            "  Downloading tokenizers-0.13.1-cp37-cp37m-manylinux_2_17_x86_64.manylinux2014_x86_64.whl (7.6 MB)\n",
            "\u001b[K     |████████████████████████████████| 7.6 MB 36.2 MB/s \n",
            "\u001b[?25hRequirement already satisfied: regex!=2019.12.17 in /usr/local/lib/python3.7/dist-packages (from transformers) (2022.6.2)\n",
            "Requirement already satisfied: filelock in /usr/local/lib/python3.7/dist-packages (from transformers) (3.8.0)\n",
            "Requirement already satisfied: pyyaml>=5.1 in /usr/local/lib/python3.7/dist-packages (from transformers) (6.0)\n",
            "Requirement already satisfied: tqdm>=4.27 in /usr/local/lib/python3.7/dist-packages (from transformers) (4.64.1)\n",
            "Requirement already satisfied: typing-extensions>=3.7.4.3 in /usr/local/lib/python3.7/dist-packages (from huggingface-hub<1.0,>=0.10.0->transformers) (4.1.1)\n",
            "Requirement already satisfied: pyparsing!=3.0.5,>=2.0.2 in /usr/local/lib/python3.7/dist-packages (from packaging>=20.0->transformers) (3.0.9)\n",
            "Requirement already satisfied: zipp>=0.5 in /usr/local/lib/python3.7/dist-packages (from importlib-metadata->transformers) (3.9.0)\n",
            "Requirement already satisfied: chardet<4,>=3.0.2 in /usr/local/lib/python3.7/dist-packages (from requests->transformers) (3.0.4)\n",
            "Requirement already satisfied: idna<3,>=2.5 in /usr/local/lib/python3.7/dist-packages (from requests->transformers) (2.10)\n",
            "Requirement already satisfied: urllib3!=1.25.0,!=1.25.1,<1.26,>=1.21.1 in /usr/local/lib/python3.7/dist-packages (from requests->transformers) (1.24.3)\n",
            "Requirement already satisfied: certifi>=2017.4.17 in /usr/local/lib/python3.7/dist-packages (from requests->transformers) (2022.9.24)\n",
            "Installing collected packages: tokenizers, huggingface-hub, transformers\n",
            "Successfully installed huggingface-hub-0.10.1 tokenizers-0.13.1 transformers-4.23.1\n",
            "Looking in indexes: https://pypi.org/simple, https://us-python.pkg.dev/colab-wheels/public/simple/\n",
            "Collecting ekphrasis\n",
            "  Downloading ekphrasis-0.5.4-py3-none-any.whl (83 kB)\n",
            "\u001b[K     |████████████████████████████████| 83 kB 1.8 MB/s \n",
            "\u001b[?25hCollecting colorama\n",
            "  Downloading colorama-0.4.5-py2.py3-none-any.whl (16 kB)\n",
            "Requirement already satisfied: ujson in /usr/local/lib/python3.7/dist-packages (from ekphrasis) (5.5.0)\n",
            "Collecting ftfy\n",
            "  Downloading ftfy-6.1.1-py3-none-any.whl (53 kB)\n",
            "\u001b[K     |████████████████████████████████| 53 kB 1.6 MB/s \n",
            "\u001b[?25hRequirement already satisfied: tqdm in /usr/local/lib/python3.7/dist-packages (from ekphrasis) (4.64.1)\n",
            "Requirement already satisfied: matplotlib in /usr/local/lib/python3.7/dist-packages (from ekphrasis) (3.2.2)\n",
            "Requirement already satisfied: numpy in /usr/local/lib/python3.7/dist-packages (from ekphrasis) (1.21.6)\n",
            "Requirement already satisfied: termcolor in /usr/local/lib/python3.7/dist-packages (from ekphrasis) (2.0.1)\n",
            "Requirement already satisfied: nltk in /usr/local/lib/python3.7/dist-packages (from ekphrasis) (3.7)\n",
            "Requirement already satisfied: wcwidth>=0.2.5 in /usr/local/lib/python3.7/dist-packages (from ftfy->ekphrasis) (0.2.5)\n",
            "Requirement already satisfied: kiwisolver>=1.0.1 in /usr/local/lib/python3.7/dist-packages (from matplotlib->ekphrasis) (1.4.4)\n",
            "Requirement already satisfied: python-dateutil>=2.1 in /usr/local/lib/python3.7/dist-packages (from matplotlib->ekphrasis) (2.8.2)\n",
            "Requirement already satisfied: cycler>=0.10 in /usr/local/lib/python3.7/dist-packages (from matplotlib->ekphrasis) (0.11.0)\n",
            "Requirement already satisfied: pyparsing!=2.0.4,!=2.1.2,!=2.1.6,>=2.0.1 in /usr/local/lib/python3.7/dist-packages (from matplotlib->ekphrasis) (3.0.9)\n",
            "Requirement already satisfied: typing-extensions in /usr/local/lib/python3.7/dist-packages (from kiwisolver>=1.0.1->matplotlib->ekphrasis) (4.1.1)\n",
            "Requirement already satisfied: six>=1.5 in /usr/local/lib/python3.7/dist-packages (from python-dateutil>=2.1->matplotlib->ekphrasis) (1.15.0)\n",
            "Requirement already satisfied: joblib in /usr/local/lib/python3.7/dist-packages (from nltk->ekphrasis) (1.2.0)\n",
            "Requirement already satisfied: regex>=2021.8.3 in /usr/local/lib/python3.7/dist-packages (from nltk->ekphrasis) (2022.6.2)\n",
            "Requirement already satisfied: click in /usr/local/lib/python3.7/dist-packages (from nltk->ekphrasis) (7.1.2)\n",
            "Installing collected packages: ftfy, colorama, ekphrasis\n",
            "Successfully installed colorama-0.4.5 ekphrasis-0.5.4 ftfy-6.1.1\n"
          ]
        }
      ]
    },
    {
      "cell_type": "code",
      "source": [
        "from PreProcessing import load_dataset\n",
        "from BERTBase import run_with_kfold, evaluateFinal\n",
        "from AnalysisGraph import show_confusion_matrix, show_report, showWrongPredictions"
      ],
      "metadata": {
        "id": "8FVXjrepqtU_",
        "colab": {
          "base_uri": "https://localhost:8080/"
        },
        "outputId": "929ecd35-3c2a-4b25-aead-30d6a4bb0709"
      },
      "id": "8FVXjrepqtU_",
      "execution_count": null,
      "outputs": [
        {
          "output_type": "stream",
          "name": "stderr",
          "text": [
            "[nltk_data] Downloading package stopwords to /root/nltk_data...\n",
            "[nltk_data]   Unzipping corpora/stopwords.zip.\n",
            "[nltk_data] Downloading package wordnet to /root/nltk_data...\n",
            "[nltk_data] Downloading package omw-1.4 to /root/nltk_data...\n"
          ]
        }
      ]
    },
    {
      "cell_type": "code",
      "metadata": {
        "id": "advanced-income"
      },
      "source": [
        "import string\n",
        "string.punctuation\n",
        "import csv\n",
        "import pandas as pd\n",
        "import numpy as np\n",
        "\n",
        "from transformers import BertForSequenceClassification, BertConfig, BertModel, BertTokenizer, AdamW, get_linear_schedule_with_warmup\n",
        "from sklearn.model_selection import train_test_split\n",
        "from torch.utils.data import TensorDataset, DataLoader, RandomSampler, SequentialSampler\n",
        "from sklearn.utils import shuffle\n",
        "from sklearn.model_selection import train_test_split, StratifiedKFold\n",
        "from sklearn.metrics import f1_score\n",
        "import torch\n",
        "from torch import tensor\n",
        "import torch.nn as nn\n",
        "from tqdm import tqdm, trange\n",
        "import matplotlib.pyplot as plt\n",
        "import random\n",
        "\n",
        "#% matplotlib inline\n",
        "\n",
        "#Random seed initialization for replicability of results\n",
        "torch.manual_seed(0)\n",
        "random.seed(0)\n",
        "np.random.seed(0)\n",
        "\n",
        "import warnings\n",
        "warnings.filterwarnings(\"ignore\")"
      ],
      "id": "advanced-income",
      "execution_count": null,
      "outputs": []
    },
    {
      "cell_type": "code",
      "source": [
        "if torch.cuda.is_available():       \n",
        "    device = torch.device(\"cuda\")\n",
        "    print(f'There are {torch.cuda.device_count()} GPU(s) available.')\n",
        "    print('Device name:', torch.cuda.get_device_name(0))\n",
        "    !nvidia-smi\n",
        "else:\n",
        "    print('No GPU available, using the CPU instead.')\n",
        "    device = torch.device(\"cpu\")"
      ],
      "metadata": {
        "colab": {
          "base_uri": "https://localhost:8080/"
        },
        "id": "AgRC7rVD7JyD",
        "outputId": "67775fa7-7718-42a7-e8d5-cdfe5adb1f4e"
      },
      "id": "AgRC7rVD7JyD",
      "execution_count": null,
      "outputs": [
        {
          "output_type": "stream",
          "name": "stdout",
          "text": [
            "There are 1 GPU(s) available.\n",
            "Device name: Tesla T4\n",
            "Thu Oct 13 09:10:31 2022       \n",
            "+-----------------------------------------------------------------------------+\n",
            "| NVIDIA-SMI 460.32.03    Driver Version: 460.32.03    CUDA Version: 11.2     |\n",
            "|-------------------------------+----------------------+----------------------+\n",
            "| GPU  Name        Persistence-M| Bus-Id        Disp.A | Volatile Uncorr. ECC |\n",
            "| Fan  Temp  Perf  Pwr:Usage/Cap|         Memory-Usage | GPU-Util  Compute M. |\n",
            "|                               |                      |               MIG M. |\n",
            "|===============================+======================+======================|\n",
            "|   0  Tesla T4            Off  | 00000000:00:04.0 Off |                    0 |\n",
            "| N/A   67C    P8    14W /  70W |      3MiB / 15109MiB |      0%      Default |\n",
            "|                               |                      |                  N/A |\n",
            "+-------------------------------+----------------------+----------------------+\n",
            "                                                                               \n",
            "+-----------------------------------------------------------------------------+\n",
            "| Processes:                                                                  |\n",
            "|  GPU   GI   CI        PID   Type   Process name                  GPU Memory |\n",
            "|        ID   ID                                                   Usage      |\n",
            "|=============================================================================|\n",
            "|  No running processes found                                                 |\n",
            "+-----------------------------------------------------------------------------+\n"
          ]
        }
      ]
    },
    {
      "cell_type": "code",
      "source": [
        "#SET THE PARAMETERS FOR TRAINING \n",
        "H_PARAMETERS = {'model_name': 'prajjwal1/bert-tiny', 'unit_layers' : [128, 64, 32, 2], 'dropout': 0.5, 'folds' : 4, 'batch_size': 32, \n",
        "                'warmup_proportion' : 0.1, 'learning_rate': 1e-3, 'loss' : nn.CrossEntropyLoss(), 'num_epochs': 3, 'device' : device}"
      ],
      "metadata": {
        "id": "_h0TCO47CZsa"
      },
      "id": "_h0TCO47CZsa",
      "execution_count": null,
      "outputs": []
    },
    {
      "cell_type": "code",
      "metadata": {
        "id": "rYkU58w_xwop"
      },
      "source": [
        "# Function to calculate the accuracy of our predictions vs labels\n",
        "def flat_accuracy(preds, labels):\n",
        "    pred_flat = np.argmax(preds, axis=1).flatten()\n",
        "    labels_flat = labels.flatten()\n",
        "    return np.sum(pred_flat == labels_flat) / len(labels_flat)"
      ],
      "id": "rYkU58w_xwop",
      "execution_count": null,
      "outputs": []
    },
    {
      "cell_type": "markdown",
      "metadata": {
        "id": "FNtqr8YUqGc8"
      },
      "source": [],
      "id": "FNtqr8YUqGc8"
    },
    {
      "cell_type": "code",
      "metadata": {
        "scrolled": false,
        "colab": {
          "base_uri": "https://localhost:8080/"
        },
        "id": "seven-airline",
        "outputId": "ccbf7a72-0969-4631-d32d-00386e29f50a"
      },
      "source": [
        "#dataset = open(\"OLID/olid-training-v1.0.tsv\")\n",
        "data, label = load_dataset(dataset_path = 'drive/MyDrive/HLT/OLID/')\n",
        "data.subtask_a.value_counts()"
      ],
      "id": "seven-airline",
      "execution_count": null,
      "outputs": [
        {
          "output_type": "stream",
          "name": "stdout",
          "text": [
            "Word statistics files not found!\n",
            "Downloading... done!\n",
            "Unpacking... done!\n",
            "Reading english - 1grams ...\n",
            "generating cache file for faster loading...\n",
            "reading ngrams /root/.ekphrasis/stats/english/counts_1grams.txt\n",
            "Reading english - 2grams ...\n",
            "generating cache file for faster loading...\n",
            "reading ngrams /root/.ekphrasis/stats/english/counts_2grams.txt\n",
            "Reading english - 1grams ...\n",
            "user canada need another cuck already enough looney leave liberals fking great country qp roof trudeau must go\n"
          ]
        },
        {
          "output_type": "execute_result",
          "data": {
            "text/plain": [
              "NOT    8840\n",
              "OFF    4400\n",
              "Name: subtask_a, dtype: int64"
            ]
          },
          "metadata": {},
          "execution_count": 7
        }
      ]
    },
    {
      "cell_type": "code",
      "metadata": {
        "colab": {
          "base_uri": "https://localhost:8080/"
        },
        "id": "pIPROShzcWWo",
        "outputId": "29e4167f-10f7-4b9f-ae75-292ca3233714"
      },
      "source": [
        "data.tweet.sample(20)"
      ],
      "id": "pIPROShzcWWo",
      "execution_count": null,
      "outputs": [
        {
          "output_type": "execute_result",
          "data": {
            "text/plain": [
              "12823                     user good antifa violent fascism\n",
              "12290    user de create slowly stealthily since conserv...\n",
              "8474     christian kabasele reveal secrets behind watfo...\n",
              "4676     user oppose neutral jurist sit scotus weigh me...\n",
              "397      user wonder apologize diamond silk call minstr...\n",
              "10957    user know canada want seem enough problems lib...\n",
              "3311                                        user love maga\n",
              "12936    user agree still conservatives heart may hate ...\n",
              "8575                         play water slider summer http\n",
              "4392     kyky u love u anfield putain la cliiimmmm liv psg\n",
              "7673     user compromise active investigation sound lik...\n",
              "12966    fill sky chemicals frequencies ido consent con...\n",
              "12215    love one another starlight darkness surround m...\n",
              "5480     verge collapse break wave cannot explain whole...\n",
              "3535                user hair polyester fibers yoda puppet\n",
              "4425                           user first regression laugh\n",
              "5523     user well brandon conservatives get elect red ...\n",
              "11758    user california need man worst way liberals al...\n",
              "7037                             user two word gun control\n",
              "6518     user everyone know kerry clue hear numerous an...\n",
              "Name: tweet, dtype: object"
            ]
          },
          "metadata": {},
          "execution_count": 10
        }
      ]
    },
    {
      "cell_type": "code",
      "source": [
        "X_train = list(data.tweet.values)"
      ],
      "metadata": {
        "id": "1kIX0_tKeYmN"
      },
      "id": "1kIX0_tKeYmN",
      "execution_count": null,
      "outputs": []
    },
    {
      "cell_type": "code",
      "metadata": {
        "id": "L6gdFvWw710F"
      },
      "source": [
        "MAX_SEQ_LENGTH = 64\n",
        "\n",
        "tokenizer = BertTokenizer.from_pretrained(H_PARAMETERS['model_name'], do_lower_case=True)\n",
        "sentences = data.tweet.values\n",
        "tokens = tokenizer(X_train, padding=True, truncation=True, max_length=MAX_SEQ_LENGTH)\n",
        "\n",
        "# Create input ids\n",
        "input_ids = []\n",
        "# Create attention masks\n",
        "attention_masks = []\n",
        "\n",
        "input_ids_train = torch.tensor(tokens['input_ids'])\n",
        "attention_masks_train  = torch.tensor(tokens['attention_mask'])"
      ],
      "id": "L6gdFvWw710F",
      "execution_count": null,
      "outputs": []
    },
    {
      "cell_type": "code",
      "metadata": {
        "colab": {
          "base_uri": "https://localhost:8080/"
        },
        "id": "r0ifKXcVBuTf",
        "outputId": "e76cb5fa-c518-4505-d6b7-d365161b8fd2"
      },
      "source": [
        "print('Original: ', sentences[0])\n",
        "print('Token IDs:', input_ids_train[0])"
      ],
      "id": "r0ifKXcVBuTf",
      "execution_count": null,
      "outputs": [
        {
          "output_type": "stream",
          "name": "stdout",
          "text": [
            "Original:  user ask native americans take\n",
            "Token IDs: tensor([ 101, 5310, 3198, 3128, 4841, 2202,  102,    0,    0,    0,    0,    0,\n",
            "           0,    0,    0,    0,    0,    0,    0,    0,    0,    0,    0,    0,\n",
            "           0,    0,    0,    0,    0,    0,    0,    0,    0,    0,    0,    0,\n",
            "           0,    0,    0,    0,    0,    0,    0,    0,    0,    0,    0,    0,\n",
            "           0,    0,    0,    0,    0,    0,    0,    0,    0,    0,    0,    0,\n",
            "           0,    0,    0,    0])\n"
          ]
        }
      ]
    },
    {
      "cell_type": "code",
      "source": [
        "loss_fn = nn.CrossEntropyLoss()"
      ],
      "metadata": {
        "id": "mUK6dAWoQHms"
      },
      "id": "mUK6dAWoQHms",
      "execution_count": null,
      "outputs": []
    },
    {
      "cell_type": "code",
      "source": [
        "test_data, label_test = load_dataset(dataset_path = 'drive/MyDrive/HLT/OLID/', dataset='testset-levela.tsv', dataset_label='labels-levela.csv')\n",
        "X_test = list(test_data.tweet.values)"
      ],
      "metadata": {
        "colab": {
          "base_uri": "https://localhost:8080/"
        },
        "id": "AGZ2gCaxoPm0",
        "outputId": "c5d0628b-681e-4bc6-d93c-89c263d37f22"
      },
      "id": "AGZ2gCaxoPm0",
      "execution_count": null,
      "outputs": [
        {
          "output_type": "stream",
          "name": "stdout",
          "text": [
            "Reading english - 1grams ...\n",
            "Reading english - 2grams ...\n",
            "Reading english - 1grams ...\n",
            "bigg boss tamil janani task go first final listclapping hand clap hand clap hand clap hand\n"
          ]
        }
      ]
    },
    {
      "cell_type": "code",
      "source": [
        "tokens = tokenizer(X_test, padding=True, truncation=True, max_length=MAX_SEQ_LENGTH)\n",
        "\n",
        "# Create input ids\n",
        "input_ids = []\n",
        "# Create attention masks\n",
        "attention_masks = []\n",
        "\n",
        "input_ids_test = torch.tensor(tokens['input_ids'])\n",
        "attention_masks_test  = torch.tensor(tokens['attention_mask'])\n",
        "\n",
        "test_dataset = TensorDataset(input_ids_test, attention_masks_test, torch.tensor(label_test))\n",
        "test_sampler = SequentialSampler(test_dataset)\n",
        "test_dataloader = DataLoader(test_dataset, sampler=test_sampler, batch_size=len(test_dataset))"
      ],
      "metadata": {
        "id": "wf61sK-xqCDf"
      },
      "id": "wf61sK-xqCDf",
      "execution_count": null,
      "outputs": []
    },
    {
      "cell_type": "code",
      "source": [
        "models, preds_ensemble = run_with_kfold(input_ids_train, attention_masks_train, test_dataloader, torch.tensor(label), label_test, H_PARAMETERS)"
      ],
      "metadata": {
        "colab": {
          "base_uri": "https://localhost:8080/",
          "height": 1000
        },
        "id": "ogq3xfRrooB_",
        "outputId": "42b4bdac-2d3d-44de-8a58-3455b40e16d8"
      },
      "id": "ogq3xfRrooB_",
      "execution_count": null,
      "outputs": [
        {
          "output_type": "stream",
          "name": "stderr",
          "text": [
            "Some weights of the model checkpoint at prajjwal1/bert-tiny were not used when initializing BertModel: ['cls.predictions.transform.LayerNorm.bias', 'cls.seq_relationship.bias', 'cls.predictions.decoder.bias', 'cls.seq_relationship.weight', 'cls.predictions.transform.dense.bias', 'cls.predictions.decoder.weight', 'cls.predictions.transform.dense.weight', 'cls.predictions.bias', 'cls.predictions.transform.LayerNorm.weight']\n",
            "- This IS expected if you are initializing BertModel from the checkpoint of a model trained on another task or with another architecture (e.g. initializing a BertForSequenceClassification model from a BertForPreTraining model).\n",
            "- This IS NOT expected if you are initializing BertModel from the checkpoint of a model that you expect to be exactly identical (initializing a BertForSequenceClassification model from a BertForSequenceClassification model).\n"
          ]
        },
        {
          "output_type": "stream",
          "name": "stdout",
          "text": [
            "Sequential(\n",
            "  (0): Linear(in_features=128, out_features=64, bias=True)\n",
            "  (1): ReLU()\n",
            "  (2): Dropout(p=0.5, inplace=False)\n",
            "  (3): Linear(in_features=64, out_features=32, bias=True)\n",
            "  (4): ReLU()\n",
            "  (5): Dropout(p=0.5, inplace=False)\n",
            "  (6): Linear(in_features=32, out_features=2, bias=True)\n",
            ")\n",
            "Start training...\n",
            "\n",
            " Epoch  |  Batch  |  Train Loss  | F1 Train  |  Val Loss  |  Val Acc  |  F1 Val   |  Elapsed \n",
            "-----------------------------------------------------------------------------------------------\n",
            "   1    |   20    |   0.652799   |   0.44    |     -      |     -     |     -     |   0.93   \n",
            "   1    |   40    |   0.647256   |   0.41    |     -      |     -     |     -     |   0.28   \n",
            "   1    |   60    |   0.654387   |   0.39    |     -      |     -     |     -     |   0.27   \n",
            "   1    |   80    |   0.604615   |   0.45    |     -      |     -     |     -     |   0.27   \n",
            "   1    |   100   |   0.564669   |   0.61    |     -      |     -     |     -     |   0.26   \n",
            "   1    |   120   |   0.613062   |   0.55    |     -      |     -     |     -     |   0.27   \n",
            "   1    |   140   |   0.615159   |   0.57    |     -      |     -     |     -     |   0.27   \n",
            "   1    |   160   |   0.566920   |   0.67    |     -      |     -     |     -     |   0.27   \n",
            "   1    |   180   |   0.557956   |   0.65    |     -      |     -     |     -     |   0.26   \n",
            "   1    |   200   |   0.549943   |   0.68    |     -      |     -     |     -     |   0.29   \n",
            "   1    |   220   |   0.554798   |   0.67    |     -      |     -     |     -     |   0.27   \n",
            "   1    |   240   |   0.589812   |   0.66    |     -      |     -     |     -     |   0.26   \n",
            "   1    |   260   |   0.531636   |   0.69    |     -      |     -     |     -     |   0.28   \n",
            "   1    |   280   |   0.508097   |   0.69    |     -      |     -     |     -     |   0.28   \n",
            "   1    |   300   |   0.538171   |   0.68    |     -      |     -     |     -     |   0.27   \n",
            "   1    |   310   |   0.593382   |   0.69    |     -      |     -     |     -     |   0.13   \n",
            "-----------------------------------------------------------------------------------------------\n",
            "   1    |    -    |   0.583834   |   0.59    |  0.518621  |   76.68   |   72.71   |   5.08   \n",
            "-----------------------------------------------------------------------------------------------\n",
            "\n",
            "\n",
            " Epoch  |  Batch  |  Train Loss  | F1 Train  |  Val Loss  |  Val Acc  |  F1 Val   |  Elapsed \n",
            "-----------------------------------------------------------------------------------------------\n",
            "   2    |   20    |   0.517459   |   0.71    |     -      |     -     |     -     |   0.47   \n",
            "   2    |   40    |   0.536395   |   0.73    |     -      |     -     |     -     |   0.27   \n",
            "   2    |   60    |   0.497544   |   0.74    |     -      |     -     |     -     |   0.54   \n",
            "   2    |   80    |   0.486237   |   0.73    |     -      |     -     |     -     |   0.27   \n",
            "   2    |   100   |   0.478044   |   0.74    |     -      |     -     |     -     |   0.50   \n",
            "   2    |   120   |   0.502641   |   0.76    |     -      |     -     |     -     |   0.29   \n",
            "   2    |   140   |   0.497640   |   0.77    |     -      |     -     |     -     |   0.27   \n",
            "   2    |   160   |   0.525195   |   0.73    |     -      |     -     |     -     |   0.27   \n",
            "   2    |   180   |   0.556568   |   0.61    |     -      |     -     |     -     |   0.27   \n",
            "   2    |   200   |   0.498665   |   0.69    |     -      |     -     |     -     |   0.27   \n",
            "   2    |   220   |   0.481723   |   0.71    |     -      |     -     |     -     |   0.27   \n",
            "   2    |   240   |   0.533457   |   0.68    |     -      |     -     |     -     |   0.27   \n",
            "   2    |   260   |   0.511340   |   0.71    |     -      |     -     |     -     |   0.28   \n",
            "   2    |   280   |   0.514217   |   0.74    |     -      |     -     |     -     |   0.27   \n",
            "   2    |   300   |   0.537178   |   0.68    |     -      |     -     |     -     |   0.27   \n",
            "   2    |   310   |   0.482349   |   0.73    |     -      |     -     |     -     |   0.13   \n",
            "-----------------------------------------------------------------------------------------------\n",
            "   2    |    -    |   0.510698   |   0.71    |  0.517128  |   76.19   |   71.66   |   5.10   \n",
            "-----------------------------------------------------------------------------------------------\n",
            "\n",
            "\n",
            " Epoch  |  Batch  |  Train Loss  | F1 Train  |  Val Loss  |  Val Acc  |  F1 Val   |  Elapsed \n",
            "-----------------------------------------------------------------------------------------------\n",
            "   3    |   20    |   0.488382   |   0.75    |     -      |     -     |     -     |   0.31   \n",
            "   3    |   40    |   0.465511   |   0.75    |     -      |     -     |     -     |   0.28   \n",
            "   3    |   60    |   0.452666   |   0.75    |     -      |     -     |     -     |   0.27   \n",
            "   3    |   80    |   0.443729   |   0.77    |     -      |     -     |     -     |   0.28   \n",
            "   3    |   100   |   0.476271   |   0.74    |     -      |     -     |     -     |   0.28   \n",
            "   3    |   120   |   0.473074   |   0.73    |     -      |     -     |     -     |   0.27   \n",
            "   3    |   140   |   0.495257   |   0.73    |     -      |     -     |     -     |   0.27   \n",
            "   3    |   160   |   0.431501   |   0.78    |     -      |     -     |     -     |   0.29   \n",
            "   3    |   180   |   0.516228   |   0.75    |     -      |     -     |     -     |   0.28   \n",
            "   3    |   200   |   0.483012   |   0.74    |     -      |     -     |     -     |   0.27   \n",
            "   3    |   220   |   0.463219   |   0.74    |     -      |     -     |     -     |   0.27   \n",
            "   3    |   240   |   0.443684   |   0.77    |     -      |     -     |     -     |   0.31   \n",
            "   3    |   260   |   0.445031   |   0.79    |     -      |     -     |     -     |   0.27   \n",
            "   3    |   280   |   0.482811   |   0.72    |     -      |     -     |     -     |   0.26   \n",
            "   3    |   300   |   0.513648   |   0.73    |     -      |     -     |     -     |   0.26   \n",
            "   3    |   310   |   0.462342   |   0.76    |     -      |     -     |     -     |   0.14   \n",
            "-----------------------------------------------------------------------------------------------\n",
            "   3    |    -    |   0.471358   |   0.75    |  0.527558  |   76.86   |   69.38   |   4.49   \n",
            "-----------------------------------------------------------------------------------------------\n",
            "\n",
            "\n",
            "Training complete!\n"
          ]
        },
        {
          "output_type": "display_data",
          "data": {
            "text/plain": [
              "<Figure size 432x288 with 2 Axes>"
            ],
            "image/png": "[encoded data removed]"
          },
          "metadata": {
            "needs_background": "light"
          }
        },
        {
          "output_type": "stream",
          "name": "stderr",
          "text": [
            "Some weights of the model checkpoint at prajjwal1/bert-tiny were not used when initializing BertModel: ['cls.predictions.transform.LayerNorm.bias', 'cls.seq_relationship.bias', 'cls.predictions.decoder.bias', 'cls.seq_relationship.weight', 'cls.predictions.transform.dense.bias', 'cls.predictions.decoder.weight', 'cls.predictions.transform.dense.weight', 'cls.predictions.bias', 'cls.predictions.transform.LayerNorm.weight']\n",
            "- This IS expected if you are initializing BertModel from the checkpoint of a model trained on another task or with another architecture (e.g. initializing a BertForSequenceClassification model from a BertForPreTraining model).\n",
            "- This IS NOT expected if you are initializing BertModel from the checkpoint of a model that you expect to be exactly identical (initializing a BertForSequenceClassification model from a BertForSequenceClassification model).\n"
          ]
        },
        {
          "output_type": "stream",
          "name": "stdout",
          "text": [
            "Sequential(\n",
            "  (0): Linear(in_features=128, out_features=64, bias=True)\n",
            "  (1): ReLU()\n",
            "  (2): Dropout(p=0.5, inplace=False)\n",
            "  (3): Linear(in_features=64, out_features=32, bias=True)\n",
            "  (4): ReLU()\n",
            "  (5): Dropout(p=0.5, inplace=False)\n",
            "  (6): Linear(in_features=32, out_features=2, bias=True)\n",
            ")\n",
            "Start training...\n",
            "\n",
            " Epoch  |  Batch  |  Train Loss  | F1 Train  |  Val Loss  |  Val Acc  |  F1 Val   |  Elapsed \n",
            "-----------------------------------------------------------------------------------------------\n",
            "   1    |   20    |   0.684724   |   0.46    |     -      |     -     |     -     |   0.29   \n",
            "   1    |   40    |   0.665328   |   0.44    |     -      |     -     |     -     |   0.28   \n",
            "   1    |   60    |   0.620057   |   0.45    |     -      |     -     |     -     |   0.27   \n",
            "   1    |   80    |   0.581878   |   0.61    |     -      |     -     |     -     |   0.27   \n",
            "   1    |   100   |   0.603275   |   0.60    |     -      |     -     |     -     |   0.27   \n",
            "   1    |   120   |   0.569576   |   0.63    |     -      |     -     |     -     |   0.27   \n",
            "   1    |   140   |   0.574776   |   0.63    |     -      |     -     |     -     |   0.27   \n",
            "   1    |   160   |   0.574491   |   0.64    |     -      |     -     |     -     |   0.26   \n",
            "   1    |   180   |   0.593617   |   0.64    |     -      |     -     |     -     |   0.28   \n",
            "   1    |   200   |   0.554131   |   0.68    |     -      |     -     |     -     |   0.27   \n",
            "   1    |   220   |   0.532330   |   0.71    |     -      |     -     |     -     |   0.27   \n",
            "   1    |   240   |   0.552016   |   0.67    |     -      |     -     |     -     |   0.26   \n",
            "   1    |   260   |   0.545597   |   0.71    |     -      |     -     |     -     |   0.28   \n",
            "   1    |   280   |   0.548935   |   0.70    |     -      |     -     |     -     |   0.27   \n",
            "   1    |   300   |   0.521733   |   0.66    |     -      |     -     |     -     |   0.27   \n",
            "   1    |   310   |   0.528492   |   0.65    |     -      |     -     |     -     |   0.14   \n",
            "-----------------------------------------------------------------------------------------------\n",
            "   1    |    -    |   0.580125   |   0.62    |  0.528730  |   75.47   |   68.51   |   4.41   \n",
            "-----------------------------------------------------------------------------------------------\n",
            "\n",
            "\n",
            " Epoch  |  Batch  |  Train Loss  | F1 Train  |  Val Loss  |  Val Acc  |  F1 Val   |  Elapsed \n",
            "-----------------------------------------------------------------------------------------------\n",
            "   2    |   20    |   0.518412   |   0.68    |     -      |     -     |     -     |   0.31   \n",
            "   2    |   40    |   0.491065   |   0.71    |     -      |     -     |     -     |   0.27   \n",
            "   2    |   60    |   0.506659   |   0.68    |     -      |     -     |     -     |   0.26   \n",
            "   2    |   80    |   0.489695   |   0.73    |     -      |     -     |     -     |   0.28   \n",
            "   2    |   100   |   0.497393   |   0.72    |     -      |     -     |     -     |   0.27   \n",
            "   2    |   120   |   0.524374   |   0.72    |     -      |     -     |     -     |   0.27   \n",
            "   2    |   140   |   0.526236   |   0.69    |     -      |     -     |     -     |   0.28   \n",
            "   2    |   160   |   0.549165   |   0.75    |     -      |     -     |     -     |   0.27   \n",
            "   2    |   180   |   0.519297   |   0.67    |     -      |     -     |     -     |   0.27   \n",
            "   2    |   200   |   0.509055   |   0.75    |     -      |     -     |     -     |   0.27   \n",
            "   2    |   220   |   0.444041   |   0.75    |     -      |     -     |     -     |   0.27   \n",
            "   2    |   240   |   0.504794   |   0.74    |     -      |     -     |     -     |   0.29   \n",
            "   2    |   260   |   0.481658   |   0.73    |     -      |     -     |     -     |   0.27   \n",
            "   2    |   280   |   0.503931   |   0.70    |     -      |     -     |     -     |   0.27   \n",
            "   2    |   300   |   0.529097   |   0.69    |     -      |     -     |     -     |   0.28   \n",
            "   2    |   310   |   0.468927   |   0.77    |     -      |     -     |     -     |   0.13   \n",
            "-----------------------------------------------------------------------------------------------\n",
            "   2    |    -    |   0.505161   |   0.72    |  0.508179  |   77.10   |   72.43   |   4.45   \n",
            "-----------------------------------------------------------------------------------------------\n",
            "\n",
            "\n",
            " Epoch  |  Batch  |  Train Loss  | F1 Train  |  Val Loss  |  Val Acc  |  F1 Val   |  Elapsed \n",
            "-----------------------------------------------------------------------------------------------\n",
            "   3    |   20    |   0.458171   |   0.79    |     -      |     -     |     -     |   0.29   \n",
            "   3    |   40    |   0.470203   |   0.78    |     -      |     -     |     -     |   0.27   \n",
            "   3    |   60    |   0.485158   |   0.77    |     -      |     -     |     -     |   0.27   \n",
            "   3    |   80    |   0.411384   |   0.77    |     -      |     -     |     -     |   0.27   \n",
            "   3    |   100   |   0.457595   |   0.76    |     -      |     -     |     -     |   0.27   \n",
            "   3    |   120   |   0.506074   |   0.73    |     -      |     -     |     -     |   0.28   \n",
            "   3    |   140   |   0.477666   |   0.77    |     -      |     -     |     -     |   0.27   \n",
            "   3    |   160   |   0.455276   |   0.76    |     -      |     -     |     -     |   0.27   \n",
            "   3    |   180   |   0.456340   |   0.79    |     -      |     -     |     -     |   0.27   \n",
            "   3    |   200   |   0.446914   |   0.76    |     -      |     -     |     -     |   0.27   \n",
            "   3    |   220   |   0.486117   |   0.76    |     -      |     -     |     -     |   0.26   \n",
            "   3    |   240   |   0.476554   |   0.77    |     -      |     -     |     -     |   0.28   \n",
            "   3    |   260   |   0.443646   |   0.77    |     -      |     -     |     -     |   0.27   \n",
            "   3    |   280   |   0.425013   |   0.78    |     -      |     -     |     -     |   0.28   \n",
            "   3    |   300   |   0.452175   |   0.76    |     -      |     -     |     -     |   0.27   \n",
            "   3    |   310   |   0.429774   |   0.78    |     -      |     -     |     -     |   0.13   \n",
            "-----------------------------------------------------------------------------------------------\n",
            "   3    |    -    |   0.459555   |   0.77    |  0.568028  |   77.07   |   73.04   |   4.43   \n",
            "-----------------------------------------------------------------------------------------------\n",
            "\n",
            "\n",
            "Training complete!\n"
          ]
        },
        {
          "output_type": "display_data",
          "data": {
            "text/plain": [
              "<Figure size 432x288 with 2 Axes>"
            ],
            "image/png": "[encoded data removed]"
          },
          "metadata": {
            "needs_background": "light"
          }
        },
        {
          "output_type": "stream",
          "name": "stderr",
          "text": [
            "Some weights of the model checkpoint at prajjwal1/bert-tiny were not used when initializing BertModel: ['cls.predictions.transform.LayerNorm.bias', 'cls.seq_relationship.bias', 'cls.predictions.decoder.bias', 'cls.seq_relationship.weight', 'cls.predictions.transform.dense.bias', 'cls.predictions.decoder.weight', 'cls.predictions.transform.dense.weight', 'cls.predictions.bias', 'cls.predictions.transform.LayerNorm.weight']\n",
            "- This IS expected if you are initializing BertModel from the checkpoint of a model trained on another task or with another architecture (e.g. initializing a BertForSequenceClassification model from a BertForPreTraining model).\n",
            "- This IS NOT expected if you are initializing BertModel from the checkpoint of a model that you expect to be exactly identical (initializing a BertForSequenceClassification model from a BertForSequenceClassification model).\n"
          ]
        },
        {
          "output_type": "stream",
          "name": "stdout",
          "text": [
            "Sequential(\n",
            "  (0): Linear(in_features=128, out_features=64, bias=True)\n",
            "  (1): ReLU()\n",
            "  (2): Dropout(p=0.5, inplace=False)\n",
            "  (3): Linear(in_features=64, out_features=32, bias=True)\n",
            "  (4): ReLU()\n",
            "  (5): Dropout(p=0.5, inplace=False)\n",
            "  (6): Linear(in_features=32, out_features=2, bias=True)\n",
            ")\n",
            "Start training...\n",
            "\n",
            " Epoch  |  Batch  |  Train Loss  | F1 Train  |  Val Loss  |  Val Acc  |  F1 Val   |  Elapsed \n",
            "-----------------------------------------------------------------------------------------------\n",
            "   1    |   20    |   0.661957   |   0.44    |     -      |     -     |     -     |   0.29   \n",
            "   1    |   40    |   0.657243   |   0.41    |     -      |     -     |     -     |   0.28   \n",
            "   1    |   60    |   0.622964   |   0.41    |     -      |     -     |     -     |   0.29   \n",
            "   1    |   80    |   0.660905   |   0.41    |     -      |     -     |     -     |   0.29   \n",
            "   1    |   100   |   0.606689   |   0.49    |     -      |     -     |     -     |   0.27   \n",
            "   1    |   120   |   0.586086   |   0.54    |     -      |     -     |     -     |   0.27   \n",
            "   1    |   140   |   0.559881   |   0.55    |     -      |     -     |     -     |   0.28   \n",
            "   1    |   160   |   0.574969   |   0.63    |     -      |     -     |     -     |   0.28   \n",
            "   1    |   180   |   0.535705   |   0.67    |     -      |     -     |     -     |   0.28   \n",
            "   1    |   200   |   0.529726   |   0.69    |     -      |     -     |     -     |   0.28   \n",
            "   1    |   220   |   0.540022   |   0.64    |     -      |     -     |     -     |   0.28   \n",
            "   1    |   240   |   0.552777   |   0.61    |     -      |     -     |     -     |   0.27   \n",
            "   1    |   260   |   0.562713   |   0.68    |     -      |     -     |     -     |   0.28   \n",
            "   1    |   280   |   0.576474   |   0.64    |     -      |     -     |     -     |   0.27   \n",
            "   1    |   300   |   0.546318   |   0.67    |     -      |     -     |     -     |   0.28   \n",
            "   1    |   310   |   0.546209   |   0.65    |     -      |     -     |     -     |   0.13   \n",
            "-----------------------------------------------------------------------------------------------\n",
            "   1    |    -    |   0.583964   |   0.57    |  0.505474  |   77.52   |   71.91   |   4.51   \n",
            "-----------------------------------------------------------------------------------------------\n",
            "\n",
            "\n",
            " Epoch  |  Batch  |  Train Loss  | F1 Train  |  Val Loss  |  Val Acc  |  F1 Val   |  Elapsed \n",
            "-----------------------------------------------------------------------------------------------\n",
            "   2    |   20    |   0.507472   |   0.65    |     -      |     -     |     -     |   0.31   \n",
            "   2    |   40    |   0.532545   |   0.69    |     -      |     -     |     -     |   0.29   \n",
            "   2    |   60    |   0.499897   |   0.70    |     -      |     -     |     -     |   0.27   \n",
            "   2    |   80    |   0.499373   |   0.72    |     -      |     -     |     -     |   0.28   \n",
            "   2    |   100   |   0.508736   |   0.71    |     -      |     -     |     -     |   0.27   \n",
            "   2    |   120   |   0.470361   |   0.75    |     -      |     -     |     -     |   0.27   \n",
            "   2    |   140   |   0.526635   |   0.69    |     -      |     -     |     -     |   0.26   \n",
            "   2    |   160   |   0.505364   |   0.70    |     -      |     -     |     -     |   0.28   \n",
            "   2    |   180   |   0.466489   |   0.72    |     -      |     -     |     -     |   0.27   \n",
            "   2    |   200   |   0.503332   |   0.73    |     -      |     -     |     -     |   0.28   \n",
            "   2    |   220   |   0.509888   |   0.70    |     -      |     -     |     -     |   0.28   \n",
            "   2    |   240   |   0.485432   |   0.70    |     -      |     -     |     -     |   0.26   \n",
            "   2    |   260   |   0.525993   |   0.68    |     -      |     -     |     -     |   0.27   \n",
            "   2    |   280   |   0.491640   |   0.69    |     -      |     -     |     -     |   0.26   \n",
            "   2    |   300   |   0.510443   |   0.72    |     -      |     -     |     -     |   0.27   \n",
            "   2    |   310   |   0.451528   |   0.74    |     -      |     -     |     -     |   0.14   \n",
            "-----------------------------------------------------------------------------------------------\n",
            "   2    |    -    |   0.501269   |   0.71    |  0.507315  |   76.98   |   71.62   |   4.46   \n",
            "-----------------------------------------------------------------------------------------------\n",
            "\n",
            "\n",
            " Epoch  |  Batch  |  Train Loss  | F1 Train  |  Val Loss  |  Val Acc  |  F1 Val   |  Elapsed \n",
            "-----------------------------------------------------------------------------------------------\n",
            "   3    |   20    |   0.428856   |   0.77    |     -      |     -     |     -     |   0.30   \n",
            "   3    |   40    |   0.460579   |   0.74    |     -      |     -     |     -     |   0.27   \n",
            "   3    |   60    |   0.486889   |   0.75    |     -      |     -     |     -     |   0.27   \n",
            "   3    |   80    |   0.400965   |   0.80    |     -      |     -     |     -     |   0.27   \n",
            "   3    |   100   |   0.457292   |   0.73    |     -      |     -     |     -     |   0.27   \n",
            "   3    |   120   |   0.416669   |   0.72    |     -      |     -     |     -     |   0.27   \n",
            "   3    |   140   |   0.418562   |   0.79    |     -      |     -     |     -     |   0.27   \n",
            "   3    |   160   |   0.456431   |   0.75    |     -      |     -     |     -     |   0.28   \n",
            "   3    |   180   |   0.478549   |   0.74    |     -      |     -     |     -     |   0.27   \n",
            "   3    |   200   |   0.459919   |   0.76    |     -      |     -     |     -     |   0.27   \n",
            "   3    |   220   |   0.464035   |   0.76    |     -      |     -     |     -     |   0.27   \n",
            "   3    |   240   |   0.443210   |   0.79    |     -      |     -     |     -     |   0.27   \n",
            "   3    |   260   |   0.486475   |   0.74    |     -      |     -     |     -     |   0.27   \n",
            "   3    |   280   |   0.466456   |   0.72    |     -      |     -     |     -     |   0.27   \n",
            "   3    |   300   |   0.466493   |   0.75    |     -      |     -     |     -     |   0.27   \n",
            "   3    |   310   |   0.500633   |   0.67    |     -      |     -     |     -     |   0.14   \n",
            "-----------------------------------------------------------------------------------------------\n",
            "   3    |    -    |   0.454221   |   0.75    |  0.525910  |   76.92   |   71.30   |   4.42   \n",
            "-----------------------------------------------------------------------------------------------\n",
            "\n",
            "\n",
            "Training complete!\n"
          ]
        },
        {
          "output_type": "display_data",
          "data": {
            "text/plain": [
              "<Figure size 432x288 with 2 Axes>"
            ],
            "image/png": "[encoded data removed]"
          },
          "metadata": {
            "needs_background": "light"
          }
        },
        {
          "output_type": "stream",
          "name": "stderr",
          "text": [
            "Some weights of the model checkpoint at prajjwal1/bert-tiny were not used when initializing BertModel: ['cls.predictions.transform.LayerNorm.bias', 'cls.seq_relationship.bias', 'cls.predictions.decoder.bias', 'cls.seq_relationship.weight', 'cls.predictions.transform.dense.bias', 'cls.predictions.decoder.weight', 'cls.predictions.transform.dense.weight', 'cls.predictions.bias', 'cls.predictions.transform.LayerNorm.weight']\n",
            "- This IS expected if you are initializing BertModel from the checkpoint of a model trained on another task or with another architecture (e.g. initializing a BertForSequenceClassification model from a BertForPreTraining model).\n",
            "- This IS NOT expected if you are initializing BertModel from the checkpoint of a model that you expect to be exactly identical (initializing a BertForSequenceClassification model from a BertForSequenceClassification model).\n"
          ]
        },
        {
          "output_type": "stream",
          "name": "stdout",
          "text": [
            "Sequential(\n",
            "  (0): Linear(in_features=128, out_features=64, bias=True)\n",
            "  (1): ReLU()\n",
            "  (2): Dropout(p=0.5, inplace=False)\n",
            "  (3): Linear(in_features=64, out_features=32, bias=True)\n",
            "  (4): ReLU()\n",
            "  (5): Dropout(p=0.5, inplace=False)\n",
            "  (6): Linear(in_features=32, out_features=2, bias=True)\n",
            ")\n",
            "Start training...\n",
            "\n",
            " Epoch  |  Batch  |  Train Loss  | F1 Train  |  Val Loss  |  Val Acc  |  F1 Val   |  Elapsed \n",
            "-----------------------------------------------------------------------------------------------\n",
            "   1    |   20    |   0.663737   |   0.47    |     -      |     -     |     -     |   0.29   \n",
            "   1    |   40    |   0.647734   |   0.42    |     -      |     -     |     -     |   0.28   \n",
            "   1    |   60    |   0.645347   |   0.41    |     -      |     -     |     -     |   0.28   \n",
            "   1    |   80    |   0.612046   |   0.50    |     -      |     -     |     -     |   0.28   \n",
            "   1    |   100   |   0.573123   |   0.58    |     -      |     -     |     -     |   0.28   \n",
            "   1    |   120   |   0.559385   |   0.64    |     -      |     -     |     -     |   0.28   \n",
            "   1    |   140   |   0.593733   |   0.66    |     -      |     -     |     -     |   0.28   \n",
            "   1    |   160   |   0.543655   |   0.68    |     -      |     -     |     -     |   0.27   \n",
            "   1    |   180   |   0.572411   |   0.67    |     -      |     -     |     -     |   0.27   \n",
            "   1    |   200   |   0.563673   |   0.65    |     -      |     -     |     -     |   0.26   \n",
            "   1    |   220   |   0.540653   |   0.72    |     -      |     -     |     -     |   0.28   \n",
            "   1    |   240   |   0.563832   |   0.67    |     -      |     -     |     -     |   0.27   \n",
            "   1    |   260   |   0.567364   |   0.69    |     -      |     -     |     -     |   0.28   \n",
            "   1    |   280   |   0.552075   |   0.67    |     -      |     -     |     -     |   0.27   \n",
            "   1    |   300   |   0.563553   |   0.68    |     -      |     -     |     -     |   0.28   \n",
            "   1    |   310   |   0.486351   |   0.77    |     -      |     -     |     -     |   0.13   \n",
            "-----------------------------------------------------------------------------------------------\n",
            "   1    |    -    |   0.581266   |   0.61    |  0.536064  |   76.25   |   68.58   |   4.48   \n",
            "-----------------------------------------------------------------------------------------------\n",
            "\n",
            "\n",
            " Epoch  |  Batch  |  Train Loss  | F1 Train  |  Val Loss  |  Val Acc  |  F1 Val   |  Elapsed \n",
            "-----------------------------------------------------------------------------------------------\n",
            "   2    |   20    |   0.484593   |   0.70    |     -      |     -     |     -     |   0.30   \n",
            "   2    |   40    |   0.501939   |   0.73    |     -      |     -     |     -     |   0.27   \n",
            "   2    |   60    |   0.498962   |   0.72    |     -      |     -     |     -     |   0.28   \n",
            "   2    |   80    |   0.502802   |   0.74    |     -      |     -     |     -     |   0.28   \n",
            "   2    |   100   |   0.511525   |   0.71    |     -      |     -     |     -     |   0.27   \n",
            "   2    |   120   |   0.530494   |   0.69    |     -      |     -     |     -     |   0.27   \n",
            "   2    |   140   |   0.518344   |   0.74    |     -      |     -     |     -     |   0.28   \n",
            "   2    |   160   |   0.500724   |   0.72    |     -      |     -     |     -     |   0.29   \n",
            "   2    |   180   |   0.497681   |   0.71    |     -      |     -     |     -     |   0.29   \n",
            "   2    |   200   |   0.494007   |   0.72    |     -      |     -     |     -     |   0.28   \n",
            "   2    |   220   |   0.475373   |   0.72    |     -      |     -     |     -     |   0.28   \n",
            "   2    |   240   |   0.532088   |   0.69    |     -      |     -     |     -     |   0.28   \n",
            "   2    |   260   |   0.492565   |   0.74    |     -      |     -     |     -     |   0.27   \n",
            "   2    |   280   |   0.456050   |   0.73    |     -      |     -     |     -     |   0.27   \n",
            "   2    |   300   |   0.481412   |   0.70    |     -      |     -     |     -     |   0.27   \n",
            "   2    |   310   |   0.544319   |   0.70    |     -      |     -     |     -     |   0.13   \n",
            "-----------------------------------------------------------------------------------------------\n",
            "   2    |    -    |   0.499997   |   0.72    |  0.519458  |   76.53   |   71.88   |   4.50   \n",
            "-----------------------------------------------------------------------------------------------\n",
            "\n",
            "\n",
            " Epoch  |  Batch  |  Train Loss  | F1 Train  |  Val Loss  |  Val Acc  |  F1 Val   |  Elapsed \n",
            "-----------------------------------------------------------------------------------------------\n",
            "   3    |   20    |   0.483582   |   0.77    |     -      |     -     |     -     |   0.30   \n",
            "   3    |   40    |   0.535619   |   0.71    |     -      |     -     |     -     |   0.29   \n",
            "   3    |   60    |   0.494914   |   0.72    |     -      |     -     |     -     |   0.28   \n",
            "   3    |   80    |   0.459584   |   0.77    |     -      |     -     |     -     |   0.27   \n",
            "   3    |   100   |   0.469977   |   0.77    |     -      |     -     |     -     |   0.28   \n",
            "   3    |   120   |   0.487129   |   0.73    |     -      |     -     |     -     |   0.28   \n",
            "   3    |   140   |   0.448084   |   0.72    |     -      |     -     |     -     |   0.27   \n",
            "   3    |   160   |   0.496204   |   0.69    |     -      |     -     |     -     |   0.27   \n",
            "   3    |   180   |   0.484873   |   0.74    |     -      |     -     |     -     |   0.27   \n",
            "   3    |   200   |   0.490403   |   0.72    |     -      |     -     |     -     |   0.28   \n",
            "   3    |   220   |   0.481718   |   0.73    |     -      |     -     |     -     |   0.28   \n",
            "   3    |   240   |   0.509193   |   0.72    |     -      |     -     |     -     |   0.27   \n",
            "   3    |   260   |   0.501815   |   0.74    |     -      |     -     |     -     |   0.27   \n",
            "   3    |   280   |   0.428096   |   0.79    |     -      |     -     |     -     |   0.28   \n",
            "   3    |   300   |   0.458014   |   0.77    |     -      |     -     |     -     |   0.27   \n",
            "   3    |   310   |   0.419822   |   0.80    |     -      |     -     |     -     |   0.14   \n",
            "-----------------------------------------------------------------------------------------------\n",
            "   3    |    -    |   0.479955   |   0.74    |  0.525319  |   74.26   |   71.49   |   4.49   \n",
            "-----------------------------------------------------------------------------------------------\n",
            "\n",
            "\n",
            "Training complete!\n"
          ]
        },
        {
          "output_type": "display_data",
          "data": {
            "text/plain": [
              "<Figure size 432x288 with 2 Axes>"
            ],
            "image/png": "[encoded data removed]"
          },
          "metadata": {
            "needs_background": "light"
          }
        },
        {
          "output_type": "stream",
          "name": "stdout",
          "text": [
            "------RESULT------\n"
          ]
        },
        {
          "output_type": "display_data",
          "data": {
            "text/plain": [
              "<Figure size 432x288 with 2 Axes>"
            ],
            "image/png": "[encoded data removed]"
          },
          "metadata": {
            "needs_background": "light"
          }
        },
        {
          "output_type": "stream",
          "name": "stdout",
          "text": [
            "              precision    recall  f1-score   support\n",
            "\n",
            "     Not Off     0.8272    0.9500    0.8844       620\n",
            "         Off     0.7905    0.4875    0.6031       240\n",
            "\n",
            "    accuracy                         0.8209       860\n",
            "   macro avg     0.8089    0.7188    0.7437       860\n",
            "weighted avg     0.8170    0.8209    0.8059       860\n",
            "\n",
            "f1_score test tweets: 0.7437385839447694\n"
          ]
        }
      ]
    },
    {
      "cell_type": "code",
      "source": [
        "for i in range(len(models)):\n",
        "  models[i].to(device)\n",
        "  val_loss, val_accuracys, f1_value_tweets = evaluateFinal(models[i], test_dataloader, H_PARAMETERS['device'], H_PARAMETERS['loss'])\n",
        "  models[i].to('cpu')\n",
        "  print(\"Bert model {0} Test result => Loss: {1} Accuracy: {2} F1 score: {3}\".format(i, val_loss, val_accuracys, f1_value_tweets))"
      ],
      "metadata": {
        "id": "a7LFlcq-m1GV",
        "colab": {
          "base_uri": "https://localhost:8080/",
          "height": 1000
        },
        "outputId": "4059d524-5314-450a-efa9-218a99aaf907"
      },
      "id": "a7LFlcq-m1GV",
      "execution_count": null,
      "outputs": [
        {
          "output_type": "display_data",
          "data": {
            "text/plain": [
              "<Figure size 432x288 with 2 Axes>"
            ],
            "image/png": "[encoded data removed]"
          },
          "metadata": {
            "needs_background": "light"
          }
        },
        {
          "output_type": "stream",
          "name": "stdout",
          "text": [
            "              precision    recall  f1-score   support\n",
            "\n",
            "     Not Off     0.8093    0.9581    0.8774       620\n",
            "         Off     0.7937    0.4167    0.5464       240\n",
            "\n",
            "    accuracy                         0.8070       860\n",
            "   macro avg     0.8015    0.6874    0.7119       860\n",
            "weighted avg     0.8049    0.8070    0.7850       860\n",
            "\n",
            "Bert model 0 Test result => Loss: 0.46122777462005615 Accuracy: 80.69767441860465 F1 score: 71.19241914263344\n"
          ]
        },
        {
          "output_type": "display_data",
          "data": {
            "text/plain": [
              "<Figure size 432x288 with 2 Axes>"
            ],
            "image/png": "[encoded data removed]"
          },
          "metadata": {
            "needs_background": "light"
          }
        },
        {
          "output_type": "stream",
          "name": "stdout",
          "text": [
            "              precision    recall  f1-score   support\n",
            "\n",
            "     Not Off     0.8431    0.8839    0.8630       620\n",
            "         Off     0.6571    0.5750    0.6133       240\n",
            "\n",
            "    accuracy                         0.7977       860\n",
            "   macro avg     0.7501    0.7294    0.7382       860\n",
            "weighted avg     0.7912    0.7977    0.7933       860\n",
            "\n",
            "Bert model 1 Test result => Loss: 0.4956109821796417 Accuracy: 79.76744186046511 F1 score: 73.81627296587926\n"
          ]
        },
        {
          "output_type": "display_data",
          "data": {
            "text/plain": [
              "<Figure size 432x288 with 2 Axes>"
            ],
            "image/png": "[encoded data removed]"
          },
          "metadata": {
            "needs_background": "light"
          }
        },
        {
          "output_type": "stream",
          "name": "stdout",
          "text": [
            "              precision    recall  f1-score   support\n",
            "\n",
            "     Not Off     0.8346    0.9032    0.8675       620\n",
            "         Off     0.6825    0.5375    0.6014       240\n",
            "\n",
            "    accuracy                         0.8012       860\n",
            "   macro avg     0.7586    0.7204    0.7345       860\n",
            "weighted avg     0.7921    0.8012    0.7933       860\n",
            "\n",
            "Bert model 2 Test result => Loss: 0.4601351022720337 Accuracy: 80.11627906976744 F1 score: 73.44715702577824\n"
          ]
        },
        {
          "output_type": "display_data",
          "data": {
            "text/plain": [
              "<Figure size 432x288 with 2 Axes>"
            ],
            "image/png": "[encoded data removed]"
          },
          "metadata": {
            "needs_background": "light"
          }
        },
        {
          "output_type": "stream",
          "name": "stdout",
          "text": [
            "              precision    recall  f1-score   support\n",
            "\n",
            "     Not Off     0.8607    0.7774    0.8169       620\n",
            "         Off     0.5400    0.6750    0.6000       240\n",
            "\n",
            "    accuracy                         0.7488       860\n",
            "   macro avg     0.7004    0.7262    0.7085       860\n",
            "weighted avg     0.7712    0.7488    0.7564       860\n",
            "\n",
            "Bert model 3 Test result => Loss: 0.47664010524749756 Accuracy: 74.88372093023256 F1 score: 70.84745762711866\n"
          ]
        }
      ]
    },
    {
      "cell_type": "code",
      "source": [
        "showWrongPredictions(test_data, torch.tensor(label), preds_ensemble)"
      ],
      "metadata": {
        "colab": {
          "base_uri": "https://localhost:8080/"
        },
        "id": "N0DD2VZlcZAd",
        "outputId": "c946740a-3716-4af0-c5e8-343c67a2337f"
      },
      "id": "N0DD2VZlcZAd",
      "execution_count": null,
      "outputs": [
        {
          "output_type": "stream",
          "name": "stdout",
          "text": [
            "       id                   tweet\n",
            "14  12588  user nigga ware da hit\n",
            "       id                                   tweet\n",
            "15  34263  stop kavanaugh liar like rest gop http\n",
            "       id                                              tweet\n",
            "38  46444  ariana asesina serious holy shit please fuck a...\n",
            "       id                             tweet\n",
            "39  60587  user hide ugly personality worst\n",
            "       id       tweet\n",
            "40  70569  bitch http\n",
            "      id                                              tweet\n",
            "1  27014  constitution day revere conservatives hat prog...\n",
            "      id                                              tweet\n",
            "3  13876  watch boomer get news still parole always make...\n",
            "      id                                      tweet\n",
            "7  65507  user get feel kiss behind humiliate later\n",
            "      id                                              tweet\n",
            "9  46363  bigg boss tamil janani task go first final lis...\n",
            "       id                         tweet\n",
            "12  15565  con place feed conservatives\n"
          ]
        }
      ]
    }
  ]
}
{
  "nbformat": 4,
  "nbformat_minor": 5,
  "metadata": {
    "kernelspec": {
      "display_name": "Python 3",
      "language": "python",
      "name": "python3"
    },
    "language_info": {
      "codemirror_mode": {
        "name": "ipython",
        "version": 3
      },
      "file_extension": ".py",
      "mimetype": "text/x-python",
      "name": "python",
      "nbconvert_exporter": "python",
      "pygments_lexer": "ipython3",
      "version": "3.8.8"
    },
    "colab": {
      "provenance": [],
      "collapsed_sections": []
    },
    "widgets": {
      "application/vnd.jupyter.widget-state+json": {
        "9bebb232d68044c09dc7e253bcf9ffe4": {
          "model_module": "@jupyter-widgets/controls",
          "model_name": "HBoxModel",
          "model_module_version": "1.5.0",
          "state": {
            "_dom_classes": [],
            "_model_module": "@jupyter-widgets/controls",
            "_model_module_version": "1.5.0",
            "_model_name": "HBoxModel",
            "_view_count": null,
            "_view_module": "@jupyter-widgets/controls",
            "_view_module_version": "1.5.0",
            "_view_name": "HBoxView",
            "box_style": "",
            "children": [
              "IPY_MODEL_81bef8a7b9d74b6f8da08e9db5700f1d",
              "IPY_MODEL_48b8412c18d54d24b80625f72ada6fe1",
              "IPY_MODEL_2ff6de122798416c9e2876266f81df3d"
            ],
            "layout": "IPY_MODEL_bd32cf0369294d5199bcba9d59516911"
          }
        },
        "81bef8a7b9d74b6f8da08e9db5700f1d": {
          "model_module": "@jupyter-widgets/controls",
          "model_name": "HTMLModel",
          "model_module_version": "1.5.0",
          "state": {
            "_dom_classes": [],
            "_model_module": "@jupyter-widgets/controls",
            "_model_module_version": "1.5.0",
            "_model_name": "HTMLModel",
            "_view_count": null,
            "_view_module": "@jupyter-widgets/controls",
            "_view_module_version": "1.5.0",
            "_view_name": "HTMLView",
            "description": "",
            "description_tooltip": null,
            "layout": "IPY_MODEL_cd703983cabf438f869ba79ff11bd802",
            "placeholder": "​",
            "style": "IPY_MODEL_232513aa94b54dff836dfbbf1c5c6d83",
            "value": "Downloading: 100%"
          }
        },
        "48b8412c18d54d24b80625f72ada6fe1": {
          "model_module": "@jupyter-widgets/controls",
          "model_name": "FloatProgressModel",
          "model_module_version": "1.5.0",
          "state": {
            "_dom_classes": [],
            "_model_module": "@jupyter-widgets/controls",
            "_model_module_version": "1.5.0",
            "_model_name": "FloatProgressModel",
            "_view_count": null,
            "_view_module": "@jupyter-widgets/controls",
            "_view_module_version": "1.5.0",
            "_view_name": "ProgressView",
            "bar_style": "success",
            "description": "",
            "description_tooltip": null,
            "layout": "IPY_MODEL_27cf87210d9c460db4987b7b330167e1",
            "max": 231508,
            "min": 0,
            "orientation": "horizontal",
            "style": "IPY_MODEL_05592a8475d34c5e9e353ce4d7276d28",
            "value": 231508
          }
        },
        "2ff6de122798416c9e2876266f81df3d": {
          "model_module": "@jupyter-widgets/controls",
          "model_name": "HTMLModel",
          "model_module_version": "1.5.0",
          "state": {
            "_dom_classes": [],
            "_model_module": "@jupyter-widgets/controls",
            "_model_module_version": "1.5.0",
            "_model_name": "HTMLModel",
            "_view_count": null,
            "_view_module": "@jupyter-widgets/controls",
            "_view_module_version": "1.5.0",
            "_view_name": "HTMLView",
            "description": "",
            "description_tooltip": null,
            "layout": "IPY_MODEL_0004f058c7924488b211edc5be493905",
            "placeholder": "​",
            "style": "IPY_MODEL_2f40cbfdb83b44a99d7320471fcee6aa",
            "value": " 232k/232k [00:00&lt;00:00, 1.58MB/s]"
          }
        },
        "bd32cf0369294d5199bcba9d59516911": {
          "model_module": "@jupyter-widgets/base",
          "model_name": "LayoutModel",
          "model_module_version": "1.2.0",
          "state": {
            "_model_module": "@jupyter-widgets/base",
            "_model_module_version": "1.2.0",
            "_model_name": "LayoutModel",
            "_view_count": null,
            "_view_module": "@jupyter-widgets/base",
            "_view_module_version": "1.2.0",
            "_view_name": "LayoutView",
            "align_content": null,
            "align_items": null,
            "align_self": null,
            "border": null,
            "bottom": null,
            "display": null,
            "flex": null,
            "flex_flow": null,
            "grid_area": null,
            "grid_auto_columns": null,
            "grid_auto_flow": null,
            "grid_auto_rows": null,
            "grid_column": null,
            "grid_gap": null,
            "grid_row": null,
            "grid_template_areas": null,
            "grid_template_columns": null,
            "grid_template_rows": null,
            "height": null,
            "justify_content": null,
            "justify_items": null,
            "left": null,
            "margin": null,
            "max_height": null,
            "max_width": null,
            "min_height": null,
            "min_width": null,
            "object_fit": null,
            "object_position": null,
            "order": null,
            "overflow": null,
            "overflow_x": null,
            "overflow_y": null,
            "padding": null,
            "right": null,
            "top": null,
            "visibility": null,
            "width": null
          }
        },
        "cd703983cabf438f869ba79ff11bd802": {
          "model_module": "@jupyter-widgets/base",
          "model_name": "LayoutModel",
          "model_module_version": "1.2.0",
          "state": {
            "_model_module": "@jupyter-widgets/base",
            "_model_module_version": "1.2.0",
            "_model_name": "LayoutModel",
            "_view_count": null,
            "_view_module": "@jupyter-widgets/base",
            "_view_module_version": "1.2.0",
            "_view_name": "LayoutView",
            "align_content": null,
            "align_items": null,
            "align_self": null,
            "border": null,
            "bottom": null,
            "display": null,
            "flex": null,
            "flex_flow": null,
            "grid_area": null,
            "grid_auto_columns": null,
            "grid_auto_flow": null,
            "grid_auto_rows": null,
            "grid_column": null,
            "grid_gap": null,
            "grid_row": null,
            "grid_template_areas": null,
            "grid_template_columns": null,
            "grid_template_rows": null,
            "height": null,
            "justify_content": null,
            "justify_items": null,
            "left": null,
            "margin": null,
            "max_height": null,
            "max_width": null,
            "min_height": null,
            "min_width": null,
            "object_fit": null,
            "object_position": null,
            "order": null,
            "overflow": null,
            "overflow_x": null,
            "overflow_y": null,
            "padding": null,
            "right": null,
            "top": null,
            "visibility": null,
            "width": null
          }
        },
        "232513aa94b54dff836dfbbf1c5c6d83": {
          "model_module": "@jupyter-widgets/controls",
          "model_name": "DescriptionStyleModel",
          "model_module_version": "1.5.0",
          "state": {
            "_model_module": "@jupyter-widgets/controls",
            "_model_module_version": "1.5.0",
            "_model_name": "DescriptionStyleModel",
            "_view_count": null,
            "_view_module": "@jupyter-widgets/base",
            "_view_module_version": "1.2.0",
            "_view_name": "StyleView",
            "description_width": ""
          }
        },
        "27cf87210d9c460db4987b7b330167e1": {
          "model_module": "@jupyter-widgets/base",
          "model_name": "LayoutModel",
          "model_module_version": "1.2.0",
          "state": {
            "_model_module": "@jupyter-widgets/base",
            "_model_module_version": "1.2.0",
            "_model_name": "LayoutModel",
            "_view_count": null,
            "_view_module": "@jupyter-widgets/base",
            "_view_module_version": "1.2.0",
            "_view_name": "LayoutView",
            "align_content": null,
            "align_items": null,
            "align_self": null,
            "border": null,
            "bottom": null,
            "display": null,
            "flex": null,
            "flex_flow": null,
            "grid_area": null,
            "grid_auto_columns": null,
            "grid_auto_flow": null,
            "grid_auto_rows": null,
            "grid_column": null,
            "grid_gap": null,
            "grid_row": null,
            "grid_template_areas": null,
            "grid_template_columns": null,
            "grid_template_rows": null,
            "height": null,
            "justify_content": null,
            "justify_items": null,
            "left": null,
            "margin": null,
            "max_height": null,
            "max_width": null,
            "min_height": null,
            "min_width": null,
            "object_fit": null,
            "object_position": null,
            "order": null,
            "overflow": null,
            "overflow_x": null,
            "overflow_y": null,
            "padding": null,
            "right": null,
            "top": null,
            "visibility": null,
            "width": null
          }
        },
        "05592a8475d34c5e9e353ce4d7276d28": {
          "model_module": "@jupyter-widgets/controls",
          "model_name": "ProgressStyleModel",
          "model_module_version": "1.5.0",
          "state": {
            "_model_module": "@jupyter-widgets/controls",
            "_model_module_version": "1.5.0",
            "_model_name": "ProgressStyleModel",
            "_view_count": null,
            "_view_module": "@jupyter-widgets/base",
            "_view_module_version": "1.2.0",
            "_view_name": "StyleView",
            "bar_color": null,
            "description_width": ""
          }
        },
        "0004f058c7924488b211edc5be493905": {
          "model_module": "@jupyter-widgets/base",
          "model_name": "LayoutModel",
          "model_module_version": "1.2.0",
          "state": {
            "_model_module": "@jupyter-widgets/base",
            "_model_module_version": "1.2.0",
            "_model_name": "LayoutModel",
            "_view_count": null,
            "_view_module": "@jupyter-widgets/base",
            "_view_module_version": "1.2.0",
            "_view_name": "LayoutView",
            "align_content": null,
            "align_items": null,
            "align_self": null,
            "border": null,
            "bottom": null,
            "display": null,
            "flex": null,
            "flex_flow": null,
            "grid_area": null,
            "grid_auto_columns": null,
            "grid_auto_flow": null,
            "grid_auto_rows": null,
            "grid_column": null,
            "grid_gap": null,
            "grid_row": null,
            "grid_template_areas": null,
            "grid_template_columns": null,
            "grid_template_rows": null,
            "height": null,
            "justify_content": null,
            "justify_items": null,
            "left": null,
            "margin": null,
            "max_height": null,
            "max_width": null,
            "min_height": null,
            "min_width": null,
            "object_fit": null,
            "object_position": null,
            "order": null,
            "overflow": null,
            "overflow_x": null,
            "overflow_y": null,
            "padding": null,
            "right": null,
            "top": null,
            "visibility": null,
            "width": null
          }
        },
        "2f40cbfdb83b44a99d7320471fcee6aa": {
          "model_module": "@jupyter-widgets/controls",
          "model_name": "DescriptionStyleModel",
          "model_module_version": "1.5.0",
          "state": {
            "_model_module": "@jupyter-widgets/controls",
            "_model_module_version": "1.5.0",
            "_model_name": "DescriptionStyleModel",
            "_view_count": null,
            "_view_module": "@jupyter-widgets/base",
            "_view_module_version": "1.2.0",
            "_view_name": "StyleView",
            "description_width": ""
          }
        },
        "a64025c4811a42daa06f9594b4ae6566": {
          "model_module": "@jupyter-widgets/controls",
          "model_name": "HBoxModel",
          "model_module_version": "1.5.0",
          "state": {
            "_dom_classes": [],
            "_model_module": "@jupyter-widgets/controls",
            "_model_module_version": "1.5.0",
            "_model_name": "HBoxModel",
            "_view_count": null,
            "_view_module": "@jupyter-widgets/controls",
            "_view_module_version": "1.5.0",
            "_view_name": "HBoxView",
            "box_style": "",
            "children": [
              "IPY_MODEL_db28df7f9b624153b204c214092c4e28",
              "IPY_MODEL_0409f0e46887432787de84f297377790",
              "IPY_MODEL_b8e45b161b0c40f4a3c980efb8ae7bbd"
            ],
            "layout": "IPY_MODEL_55f7440618b74c1bb1b76f54b6c6d5da"
          }
        },
        "db28df7f9b624153b204c214092c4e28": {
          "model_module": "@jupyter-widgets/controls",
          "model_name": "HTMLModel",
          "model_module_version": "1.5.0",
          "state": {
            "_dom_classes": [],
            "_model_module": "@jupyter-widgets/controls",
            "_model_module_version": "1.5.0",
            "_model_name": "HTMLModel",
            "_view_count": null,
            "_view_module": "@jupyter-widgets/controls",
            "_view_module_version": "1.5.0",
            "_view_name": "HTMLView",
            "description": "",
            "description_tooltip": null,
            "layout": "IPY_MODEL_057e48b329004bc8ba5c3b5553b0ee06",
            "placeholder": "​",
            "style": "IPY_MODEL_f27cd065913a43c1b9bc267e6246775a",
            "value": "Downloading: 100%"
          }
        },
        "0409f0e46887432787de84f297377790": {
          "model_module": "@jupyter-widgets/controls",
          "model_name": "FloatProgressModel",
          "model_module_version": "1.5.0",
          "state": {
            "_dom_classes": [],
            "_model_module": "@jupyter-widgets/controls",
            "_model_module_version": "1.5.0",
            "_model_name": "FloatProgressModel",
            "_view_count": null,
            "_view_module": "@jupyter-widgets/controls",
            "_view_module_version": "1.5.0",
            "_view_name": "ProgressView",
            "bar_style": "success",
            "description": "",
            "description_tooltip": null,
            "layout": "IPY_MODEL_bfafa686b0b24686a0b9c96bd19573c4",
            "max": 286,
            "min": 0,
            "orientation": "horizontal",
            "style": "IPY_MODEL_0585ea9cba9e49fc9e8eb830c1ed70ee",
            "value": 286
          }
        },
        "b8e45b161b0c40f4a3c980efb8ae7bbd": {
          "model_module": "@jupyter-widgets/controls",
          "model_name": "HTMLModel",
          "model_module_version": "1.5.0",
          "state": {
            "_dom_classes": [],
            "_model_module": "@jupyter-widgets/controls",
            "_model_module_version": "1.5.0",
            "_model_name": "HTMLModel",
            "_view_count": null,
            "_view_module": "@jupyter-widgets/controls",
            "_view_module_version": "1.5.0",
            "_view_name": "HTMLView",
            "description": "",
            "description_tooltip": null,
            "layout": "IPY_MODEL_e11bacb85ce44d6992b91b5adf567c84",
            "placeholder": "​",
            "style": "IPY_MODEL_18b3a7b00f5b4585ba61594ce24ba890",
            "value": " 286/286 [00:00&lt;00:00, 8.56kB/s]"
          }
        },
        "55f7440618b74c1bb1b76f54b6c6d5da": {
          "model_module": "@jupyter-widgets/base",
          "model_name": "LayoutModel",
          "model_module_version": "1.2.0",
          "state": {
            "_model_module": "@jupyter-widgets/base",
            "_model_module_version": "1.2.0",
            "_model_name": "LayoutModel",
            "_view_count": null,
            "_view_module": "@jupyter-widgets/base",
            "_view_module_version": "1.2.0",
            "_view_name": "LayoutView",
            "align_content": null,
            "align_items": null,
            "align_self": null,
            "border": null,
            "bottom": null,
            "display": null,
            "flex": null,
            "flex_flow": null,
            "grid_area": null,
            "grid_auto_columns": null,
            "grid_auto_flow": null,
            "grid_auto_rows": null,
            "grid_column": null,
            "grid_gap": null,
            "grid_row": null,
            "grid_template_areas": null,
            "grid_template_columns": null,
            "grid_template_rows": null,
            "height": null,
            "justify_content": null,
            "justify_items": null,
            "left": null,
            "margin": null,
            "max_height": null,
            "max_width": null,
            "min_height": null,
            "min_width": null,
            "object_fit": null,
            "object_position": null,
            "order": null,
            "overflow": null,
            "overflow_x": null,
            "overflow_y": null,
            "padding": null,
            "right": null,
            "top": null,
            "visibility": null,
            "width": null
          }
        },
        "057e48b329004bc8ba5c3b5553b0ee06": {
          "model_module": "@jupyter-widgets/base",
          "model_name": "LayoutModel",
          "model_module_version": "1.2.0",
          "state": {
            "_model_module": "@jupyter-widgets/base",
            "_model_module_version": "1.2.0",
            "_model_name": "LayoutModel",
            "_view_count": null,
            "_view_module": "@jupyter-widgets/base",
            "_view_module_version": "1.2.0",
            "_view_name": "LayoutView",
            "align_content": null,
            "align_items": null,
            "align_self": null,
            "border": null,
            "bottom": null,
            "display": null,
            "flex": null,
            "flex_flow": null,
            "grid_area": null,
            "grid_auto_columns": null,
            "grid_auto_flow": null,
            "grid_auto_rows": null,
            "grid_column": null,
            "grid_gap": null,
            "grid_row": null,
            "grid_template_areas": null,
            "grid_template_columns": null,
            "grid_template_rows": null,
            "height": null,
            "justify_content": null,
            "justify_items": null,
            "left": null,
            "margin": null,
            "max_height": null,
            "max_width": null,
            "min_height": null,
            "min_width": null,
            "object_fit": null,
            "object_position": null,
            "order": null,
            "overflow": null,
            "overflow_x": null,
            "overflow_y": null,
            "padding": null,
            "right": null,
            "top": null,
            "visibility": null,
            "width": null
          }
        },
        "f27cd065913a43c1b9bc267e6246775a": {
          "model_module": "@jupyter-widgets/controls",
          "model_name": "DescriptionStyleModel",
          "model_module_version": "1.5.0",
          "state": {
            "_model_module": "@jupyter-widgets/controls",
            "_model_module_version": "1.5.0",
            "_model_name": "DescriptionStyleModel",
            "_view_count": null,
            "_view_module": "@jupyter-widgets/base",
            "_view_module_version": "1.2.0",
            "_view_name": "StyleView",
            "description_width": ""
          }
        },
        "bfafa686b0b24686a0b9c96bd19573c4": {
          "model_module": "@jupyter-widgets/base",
          "model_name": "LayoutModel",
          "model_module_version": "1.2.0",
          "state": {
            "_model_module": "@jupyter-widgets/base",
            "_model_module_version": "1.2.0",
            "_model_name": "LayoutModel",
            "_view_count": null,
            "_view_module": "@jupyter-widgets/base",
            "_view_module_version": "1.2.0",
            "_view_name": "LayoutView",
            "align_content": null,
            "align_items": null,
            "align_self": null,
            "border": null,
            "bottom": null,
            "display": null,
            "flex": null,
            "flex_flow": null,
            "grid_area": null,
            "grid_auto_columns": null,
            "grid_auto_flow": null,
            "grid_auto_rows": null,
            "grid_column": null,
            "grid_gap": null,
            "grid_row": null,
            "grid_template_areas": null,
            "grid_template_columns": null,
            "grid_template_rows": null,
            "height": null,
            "justify_content": null,
            "justify_items": null,
            "left": null,
            "margin": null,
            "max_height": null,
            "max_width": null,
            "min_height": null,
            "min_width": null,
            "object_fit": null,
            "object_position": null,
            "order": null,
            "overflow": null,
            "overflow_x": null,
            "overflow_y": null,
            "padding": null,
            "right": null,
            "top": null,
            "visibility": null,
            "width": null
          }
        },
        "0585ea9cba9e49fc9e8eb830c1ed70ee": {
          "model_module": "@jupyter-widgets/controls",
          "model_name": "ProgressStyleModel",
          "model_module_version": "1.5.0",
          "state": {
            "_model_module": "@jupyter-widgets/controls",
            "_model_module_version": "1.5.0",
            "_model_name": "ProgressStyleModel",
            "_view_count": null,
            "_view_module": "@jupyter-widgets/base",
            "_view_module_version": "1.2.0",
            "_view_name": "StyleView",
            "bar_color": null,
            "description_width": ""
          }
        },
        "e11bacb85ce44d6992b91b5adf567c84": {
          "model_module": "@jupyter-widgets/base",
          "model_name": "LayoutModel",
          "model_module_version": "1.2.0",
          "state": {
            "_model_module": "@jupyter-widgets/base",
            "_model_module_version": "1.2.0",
            "_model_name": "LayoutModel",
            "_view_count": null,
            "_view_module": "@jupyter-widgets/base",
            "_view_module_version": "1.2.0",
            "_view_name": "LayoutView",
            "align_content": null,
            "align_items": null,
            "align_self": null,
            "border": null,
            "bottom": null,
            "display": null,
            "flex": null,
            "flex_flow": null,
            "grid_area": null,
            "grid_auto_columns": null,
            "grid_auto_flow": null,
            "grid_auto_rows": null,
            "grid_column": null,
            "grid_gap": null,
            "grid_row": null,
            "grid_template_areas": null,
            "grid_template_columns": null,
            "grid_template_rows": null,
            "height": null,
            "justify_content": null,
            "justify_items": null,
            "left": null,
            "margin": null,
            "max_height": null,
            "max_width": null,
            "min_height": null,
            "min_width": null,
            "object_fit": null,
            "object_position": null,
            "order": null,
            "overflow": null,
            "overflow_x": null,
            "overflow_y": null,
            "padding": null,
            "right": null,
            "top": null,
            "visibility": null,
            "width": null
          }
        },
        "18b3a7b00f5b4585ba61594ce24ba890": {
          "model_module": "@jupyter-widgets/controls",
          "model_name": "DescriptionStyleModel",
          "model_module_version": "1.5.0",
          "state": {
            "_model_module": "@jupyter-widgets/controls",
            "_model_module_version": "1.5.0",
            "_model_name": "DescriptionStyleModel",
            "_view_count": null,
            "_view_module": "@jupyter-widgets/base",
            "_view_module_version": "1.2.0",
            "_view_name": "StyleView",
            "description_width": ""
          }
        },
        "09c2b2ff6dc2440ab8752f1d8f820407": {
          "model_module": "@jupyter-widgets/controls",
          "model_name": "HBoxModel",
          "model_module_version": "1.5.0",
          "state": {
            "_dom_classes": [],
            "_model_module": "@jupyter-widgets/controls",
            "_model_module_version": "1.5.0",
            "_model_name": "HBoxModel",
            "_view_count": null,
            "_view_module": "@jupyter-widgets/controls",
            "_view_module_version": "1.5.0",
            "_view_name": "HBoxView",
            "box_style": "",
            "children": [
              "IPY_MODEL_8d28e9309f26494297a677f26f8b06cb",
              "IPY_MODEL_95d8b1d1d6664fc0b54f93b19292227e",
              "IPY_MODEL_602bb12da07948f5959489526dcb8a97"
            ],
            "layout": "IPY_MODEL_9f81181e8d5a476eb85ef47018e22c4a"
          }
        },
        "8d28e9309f26494297a677f26f8b06cb": {
          "model_module": "@jupyter-widgets/controls",
          "model_name": "HTMLModel",
          "model_module_version": "1.5.0",
          "state": {
            "_dom_classes": [],
            "_model_module": "@jupyter-widgets/controls",
            "_model_module_version": "1.5.0",
            "_model_name": "HTMLModel",
            "_view_count": null,
            "_view_module": "@jupyter-widgets/controls",
            "_view_module_version": "1.5.0",
            "_view_name": "HTMLView",
            "description": "",
            "description_tooltip": null,
            "layout": "IPY_MODEL_e7e4ee3c230243ff99e581b64f06ff83",
            "placeholder": "​",
            "style": "IPY_MODEL_b41d8300bd8e4620b67552e723d3dd4f",
            "value": "Downloading: 100%"
          }
        },
        "95d8b1d1d6664fc0b54f93b19292227e": {
          "model_module": "@jupyter-widgets/controls",
          "model_name": "FloatProgressModel",
          "model_module_version": "1.5.0",
          "state": {
            "_dom_classes": [],
            "_model_module": "@jupyter-widgets/controls",
            "_model_module_version": "1.5.0",
            "_model_name": "FloatProgressModel",
            "_view_count": null,
            "_view_module": "@jupyter-widgets/controls",
            "_view_module_version": "1.5.0",
            "_view_name": "ProgressView",
            "bar_style": "success",
            "description": "",
            "description_tooltip": null,
            "layout": "IPY_MODEL_f5bfd66d4a024d70acefeece13686b7c",
            "max": 166734612,
            "min": 0,
            "orientation": "horizontal",
            "style": "IPY_MODEL_83d403f1040444fdae0be4bc68b9b0d5",
            "value": 166734612
          }
        },
        "602bb12da07948f5959489526dcb8a97": {
          "model_module": "@jupyter-widgets/controls",
          "model_name": "HTMLModel",
          "model_module_version": "1.5.0",
          "state": {
            "_dom_classes": [],
            "_model_module": "@jupyter-widgets/controls",
            "_model_module_version": "1.5.0",
            "_model_name": "HTMLModel",
            "_view_count": null,
            "_view_module": "@jupyter-widgets/controls",
            "_view_module_version": "1.5.0",
            "_view_name": "HTMLView",
            "description": "",
            "description_tooltip": null,
            "layout": "IPY_MODEL_66ae195c864d455493b8546eda4262db",
            "placeholder": "​",
            "style": "IPY_MODEL_f68a079144734cd4afdead20a5c01187",
            "value": " 167M/167M [00:03&lt;00:00, 56.0MB/s]"
          }
        },
        "9f81181e8d5a476eb85ef47018e22c4a": {
          "model_module": "@jupyter-widgets/base",
          "model_name": "LayoutModel",
          "model_module_version": "1.2.0",
          "state": {
            "_model_module": "@jupyter-widgets/base",
            "_model_module_version": "1.2.0",
            "_model_name": "LayoutModel",
            "_view_count": null,
            "_view_module": "@jupyter-widgets/base",
            "_view_module_version": "1.2.0",
            "_view_name": "LayoutView",
            "align_content": null,
            "align_items": null,
            "align_self": null,
            "border": null,
            "bottom": null,
            "display": null,
            "flex": null,
            "flex_flow": null,
            "grid_area": null,
            "grid_auto_columns": null,
            "grid_auto_flow": null,
            "grid_auto_rows": null,
            "grid_column": null,
            "grid_gap": null,
            "grid_row": null,
            "grid_template_areas": null,
            "grid_template_columns": null,
            "grid_template_rows": null,
            "height": null,
            "justify_content": null,
            "justify_items": null,
            "left": null,
            "margin": null,
            "max_height": null,
            "max_width": null,
            "min_height": null,
            "min_width": null,
            "object_fit": null,
            "object_position": null,
            "order": null,
            "overflow": null,
            "overflow_x": null,
            "overflow_y": null,
            "padding": null,
            "right": null,
            "top": null,
            "visibility": null,
            "width": null
          }
        },
        "e7e4ee3c230243ff99e581b64f06ff83": {
          "model_module": "@jupyter-widgets/base",
          "model_name": "LayoutModel",
          "model_module_version": "1.2.0",
          "state": {
            "_model_module": "@jupyter-widgets/base",
            "_model_module_version": "1.2.0",
            "_model_name": "LayoutModel",
            "_view_count": null,
            "_view_module": "@jupyter-widgets/base",
            "_view_module_version": "1.2.0",
            "_view_name": "LayoutView",
            "align_content": null,
            "align_items": null,
            "align_self": null,
            "border": null,
            "bottom": null,
            "display": null,
            "flex": null,
            "flex_flow": null,
            "grid_area": null,
            "grid_auto_columns": null,
            "grid_auto_flow": null,
            "grid_auto_rows": null,
            "grid_column": null,
            "grid_gap": null,
            "grid_row": null,
            "grid_template_areas": null,
            "grid_template_columns": null,
            "grid_template_rows": null,
            "height": null,
            "justify_content": null,
            "justify_items": null,
            "left": null,
            "margin": null,
            "max_height": null,
            "max_width": null,
            "min_height": null,
            "min_width": null,
            "object_fit": null,
            "object_position": null,
            "order": null,
            "overflow": null,
            "overflow_x": null,
            "overflow_y": null,
            "padding": null,
            "right": null,
            "top": null,
            "visibility": null,
            "width": null
          }
        },
        "b41d8300bd8e4620b67552e723d3dd4f": {
          "model_module": "@jupyter-widgets/controls",
          "model_name": "DescriptionStyleModel",
          "model_module_version": "1.5.0",
          "state": {
            "_model_module": "@jupyter-widgets/controls",
            "_model_module_version": "1.5.0",
            "_model_name": "DescriptionStyleModel",
            "_view_count": null,
            "_view_module": "@jupyter-widgets/base",
            "_view_module_version": "1.2.0",
            "_view_name": "StyleView",
            "description_width": ""
          }
        },
        "f5bfd66d4a024d70acefeece13686b7c": {
          "model_module": "@jupyter-widgets/base",
          "model_name": "LayoutModel",
          "model_module_version": "1.2.0",
          "state": {
            "_model_module": "@jupyter-widgets/base",
            "_model_module_version": "1.2.0",
            "_model_name": "LayoutModel",
            "_view_count": null,
            "_view_module": "@jupyter-widgets/base",
            "_view_module_version": "1.2.0",
            "_view_name": "LayoutView",
            "align_content": null,
            "align_items": null,
            "align_self": null,
            "border": null,
            "bottom": null,
            "display": null,
            "flex": null,
            "flex_flow": null,
            "grid_area": null,
            "grid_auto_columns": null,
            "grid_auto_flow": null,
            "grid_auto_rows": null,
            "grid_column": null,
            "grid_gap": null,
            "grid_row": null,
            "grid_template_areas": null,
            "grid_template_columns": null,
            "grid_template_rows": null,
            "height": null,
            "justify_content": null,
            "justify_items": null,
            "left": null,
            "margin": null,
            "max_height": null,
            "max_width": null,
            "min_height": null,
            "min_width": null,
            "object_fit": null,
            "object_position": null,
            "order": null,
            "overflow": null,
            "overflow_x": null,
            "overflow_y": null,
            "padding": null,
            "right": null,
            "top": null,
            "visibility": null,
            "width": null
          }
        },
        "83d403f1040444fdae0be4bc68b9b0d5": {
          "model_module": "@jupyter-widgets/controls",
          "model_name": "ProgressStyleModel",
          "model_module_version": "1.5.0",
          "state": {
            "_model_module": "@jupyter-widgets/controls",
            "_model_module_version": "1.5.0",
            "_model_name": "ProgressStyleModel",
            "_view_count": null,
            "_view_module": "@jupyter-widgets/base",
            "_view_module_version": "1.2.0",
            "_view_name": "StyleView",
            "bar_color": null,
            "description_width": ""
          }
        },
        "66ae195c864d455493b8546eda4262db": {
          "model_module": "@jupyter-widgets/base",
          "model_name": "LayoutModel",
          "model_module_version": "1.2.0",
          "state": {
            "_model_module": "@jupyter-widgets/base",
            "_model_module_version": "1.2.0",
            "_model_name": "LayoutModel",
            "_view_count": null,
            "_view_module": "@jupyter-widgets/base",
            "_view_module_version": "1.2.0",
            "_view_name": "LayoutView",
            "align_content": null,
            "align_items": null,
            "align_self": null,
            "border": null,
            "bottom": null,
            "display": null,
            "flex": null,
            "flex_flow": null,
            "grid_area": null,
            "grid_auto_columns": null,
            "grid_auto_flow": null,
            "grid_auto_rows": null,
            "grid_column": null,
            "grid_gap": null,
            "grid_row": null,
            "grid_template_areas": null,
            "grid_template_columns": null,
            "grid_template_rows": null,
            "height": null,
            "justify_content": null,
            "justify_items": null,
            "left": null,
            "margin": null,
            "max_height": null,
            "max_width": null,
            "min_height": null,
            "min_width": null,
            "object_fit": null,
            "object_position": null,
            "order": null,
            "overflow": null,
            "overflow_x": null,
            "overflow_y": null,
            "padding": null,
            "right": null,
            "top": null,
            "visibility": null,
            "width": null
          }
        },
        "f68a079144734cd4afdead20a5c01187": {
          "model_module": "@jupyter-widgets/controls",
          "model_name": "DescriptionStyleModel",
          "model_module_version": "1.5.0",
          "state": {
            "_model_module": "@jupyter-widgets/controls",
            "_model_module_version": "1.5.0",
            "_model_name": "DescriptionStyleModel",
            "_view_count": null,
            "_view_module": "@jupyter-widgets/base",
            "_view_module_version": "1.2.0",
            "_view_name": "StyleView",
            "description_width": ""
          }
        }
      }
    }
  },
  "cells": [
    {
      "cell_type": "markdown",
      "metadata": {
        "id": "appreciated-bracket"
      },
      "source": [
        "# Project Human Language Technology - OffensEval2019\n",
        "# Task 1\n",
        "## BERT Medium\n",
        "This notebook will explore a model for competition \"OffensEval 2019: Identifying and Categorizing Offensive Language in Social Media\" using BERT Medium. \\\\\n",
        "BERT Medium a pre-trained model with structure is __L = 8 and H = 512__ \\\\\n",
        "Matricola: 505252 Michele Morisco"
      ],
      "id": "appreciated-bracket"
    },
    {
      "cell_type": "code",
      "metadata": {
        "colab": {
          "base_uri": "https://localhost:8080/"
        },
        "id": "WWIOvmPxPQQE",
        "outputId": "1a6d23ce-c6e8-4ee6-fee3-65c61e15f0c4"
      },
      "source": [
        "from google.colab import drive\n",
        "drive.mount('/content/drive')"
      ],
      "id": "WWIOvmPxPQQE",
      "execution_count": null,
      "outputs": [
        {
          "output_type": "stream",
          "name": "stdout",
          "text": [
            "Mounted at /content/drive\n"
          ]
        }
      ]
    },
    {
      "cell_type": "code",
      "source": [
        "!cp drive/MyDrive/Library/PreProcessing.py .\n",
        "!cp drive/MyDrive/Library/BERTBase.py .\n",
        "!cp drive/MyDrive/Library/AnalysisGraph.py ."
      ],
      "metadata": {
        "id": "IweEf5Cso-Nt"
      },
      "id": "IweEf5Cso-Nt",
      "execution_count": null,
      "outputs": []
    },
    {
      "cell_type": "code",
      "metadata": {
        "colab": {
          "base_uri": "https://localhost:8080/"
        },
        "id": "Zbr5fIa5jgwX",
        "outputId": "2a8c357a-ec9b-4e1c-e21a-39d07b631427"
      },
      "source": [
        "#!pip install pytorch-pretrained-bert pytorch-nlp\n",
        "!pip install emoji --upgrade\n",
        "!pip install wordsegment\n",
        "!pip install transformers \n",
        "!pip install ekphrasis"
      ],
      "id": "Zbr5fIa5jgwX",
      "execution_count": null,
      "outputs": [
        {
          "output_type": "stream",
          "name": "stdout",
          "text": [
            "Looking in indexes: https://pypi.org/simple, https://us-python.pkg.dev/colab-wheels/public/simple/\n",
            "Collecting emoji\n",
            "  Downloading emoji-2.1.0.tar.gz (216 kB)\n",
            "\u001b[K     |████████████████████████████████| 216 kB 4.8 MB/s \n",
            "\u001b[?25hBuilding wheels for collected packages: emoji\n",
            "  Building wheel for emoji (setup.py) ... \u001b[?25l\u001b[?25hdone\n",
            "  Created wheel for emoji: filename=emoji-2.1.0-py3-none-any.whl size=212392 sha256=72d62fd65f950187a5f8342e8ec07d6a7e676578821c721c2e9e0681fccd010d\n",
            "  Stored in directory: /root/.cache/pip/wheels/77/75/99/51c2a119f4cfd3af7b49cc57e4f737bed7e40b348a85d82804\n",
            "Successfully built emoji\n",
            "Installing collected packages: emoji\n",
            "Successfully installed emoji-2.1.0\n",
            "Looking in indexes: https://pypi.org/simple, https://us-python.pkg.dev/colab-wheels/public/simple/\n",
            "Collecting wordsegment\n",
            "  Downloading wordsegment-1.3.1-py2.py3-none-any.whl (4.8 MB)\n",
            "\u001b[K     |████████████████████████████████| 4.8 MB 4.8 MB/s \n",
            "\u001b[?25hInstalling collected packages: wordsegment\n",
            "Successfully installed wordsegment-1.3.1\n",
            "Looking in indexes: https://pypi.org/simple, https://us-python.pkg.dev/colab-wheels/public/simple/\n",
            "Collecting transformers\n",
            "  Downloading transformers-4.23.1-py3-none-any.whl (5.3 MB)\n",
            "\u001b[K     |████████████████████████████████| 5.3 MB 4.7 MB/s \n",
            "\u001b[?25hRequirement already satisfied: packaging>=20.0 in /usr/local/lib/python3.7/dist-packages (from transformers) (21.3)\n",
            "Requirement already satisfied: numpy>=1.17 in /usr/local/lib/python3.7/dist-packages (from transformers) (1.21.6)\n",
            "Requirement already satisfied: tqdm>=4.27 in /usr/local/lib/python3.7/dist-packages (from transformers) (4.64.1)\n",
            "Collecting tokenizers!=0.11.3,<0.14,>=0.11.1\n",
            "  Downloading tokenizers-0.13.1-cp37-cp37m-manylinux_2_17_x86_64.manylinux2014_x86_64.whl (7.6 MB)\n",
            "\u001b[K     |████████████████████████████████| 7.6 MB 46.7 MB/s \n",
            "\u001b[?25hRequirement already satisfied: importlib-metadata in /usr/local/lib/python3.7/dist-packages (from transformers) (5.0.0)\n",
            "Requirement already satisfied: pyyaml>=5.1 in /usr/local/lib/python3.7/dist-packages (from transformers) (6.0)\n",
            "Requirement already satisfied: regex!=2019.12.17 in /usr/local/lib/python3.7/dist-packages (from transformers) (2022.6.2)\n",
            "Requirement already satisfied: requests in /usr/local/lib/python3.7/dist-packages (from transformers) (2.23.0)\n",
            "Collecting huggingface-hub<1.0,>=0.10.0\n",
            "  Downloading huggingface_hub-0.10.1-py3-none-any.whl (163 kB)\n",
            "\u001b[K     |████████████████████████████████| 163 kB 80.1 MB/s \n",
            "\u001b[?25hRequirement already satisfied: filelock in /usr/local/lib/python3.7/dist-packages (from transformers) (3.8.0)\n",
            "Requirement already satisfied: typing-extensions>=3.7.4.3 in /usr/local/lib/python3.7/dist-packages (from huggingface-hub<1.0,>=0.10.0->transformers) (4.1.1)\n",
            "Requirement already satisfied: pyparsing!=3.0.5,>=2.0.2 in /usr/local/lib/python3.7/dist-packages (from packaging>=20.0->transformers) (3.0.9)\n",
            "Requirement already satisfied: zipp>=0.5 in /usr/local/lib/python3.7/dist-packages (from importlib-metadata->transformers) (3.9.0)\n",
            "Requirement already satisfied: certifi>=2017.4.17 in /usr/local/lib/python3.7/dist-packages (from requests->transformers) (2022.9.24)\n",
            "Requirement already satisfied: idna<3,>=2.5 in /usr/local/lib/python3.7/dist-packages (from requests->transformers) (2.10)\n",
            "Requirement already satisfied: urllib3!=1.25.0,!=1.25.1,<1.26,>=1.21.1 in /usr/local/lib/python3.7/dist-packages (from requests->transformers) (1.24.3)\n",
            "Requirement already satisfied: chardet<4,>=3.0.2 in /usr/local/lib/python3.7/dist-packages (from requests->transformers) (3.0.4)\n",
            "Installing collected packages: tokenizers, huggingface-hub, transformers\n",
            "Successfully installed huggingface-hub-0.10.1 tokenizers-0.13.1 transformers-4.23.1\n",
            "Looking in indexes: https://pypi.org/simple, https://us-python.pkg.dev/colab-wheels/public/simple/\n",
            "Collecting ekphrasis\n",
            "  Downloading ekphrasis-0.5.4-py3-none-any.whl (83 kB)\n",
            "\u001b[K     |████████████████████████████████| 83 kB 72 kB/s \n",
            "\u001b[?25hCollecting colorama\n",
            "  Downloading colorama-0.4.5-py2.py3-none-any.whl (16 kB)\n",
            "Requirement already satisfied: termcolor in /usr/local/lib/python3.7/dist-packages (from ekphrasis) (2.0.1)\n",
            "Requirement already satisfied: numpy in /usr/local/lib/python3.7/dist-packages (from ekphrasis) (1.21.6)\n",
            "Collecting ftfy\n",
            "  Downloading ftfy-6.1.1-py3-none-any.whl (53 kB)\n",
            "\u001b[K     |████████████████████████████████| 53 kB 2.4 MB/s \n",
            "\u001b[?25hRequirement already satisfied: nltk in /usr/local/lib/python3.7/dist-packages (from ekphrasis) (3.7)\n",
            "Requirement already satisfied: matplotlib in /usr/local/lib/python3.7/dist-packages (from ekphrasis) (3.2.2)\n",
            "Requirement already satisfied: tqdm in /usr/local/lib/python3.7/dist-packages (from ekphrasis) (4.64.1)\n",
            "Requirement already satisfied: ujson in /usr/local/lib/python3.7/dist-packages (from ekphrasis) (5.5.0)\n",
            "Requirement already satisfied: wcwidth>=0.2.5 in /usr/local/lib/python3.7/dist-packages (from ftfy->ekphrasis) (0.2.5)\n",
            "Requirement already satisfied: python-dateutil>=2.1 in /usr/local/lib/python3.7/dist-packages (from matplotlib->ekphrasis) (2.8.2)\n",
            "Requirement already satisfied: cycler>=0.10 in /usr/local/lib/python3.7/dist-packages (from matplotlib->ekphrasis) (0.11.0)\n",
            "Requirement already satisfied: kiwisolver>=1.0.1 in /usr/local/lib/python3.7/dist-packages (from matplotlib->ekphrasis) (1.4.4)\n",
            "Requirement already satisfied: pyparsing!=2.0.4,!=2.1.2,!=2.1.6,>=2.0.1 in /usr/local/lib/python3.7/dist-packages (from matplotlib->ekphrasis) (3.0.9)\n",
            "Requirement already satisfied: typing-extensions in /usr/local/lib/python3.7/dist-packages (from kiwisolver>=1.0.1->matplotlib->ekphrasis) (4.1.1)\n",
            "Requirement already satisfied: six>=1.5 in /usr/local/lib/python3.7/dist-packages (from python-dateutil>=2.1->matplotlib->ekphrasis) (1.15.0)\n",
            "Requirement already satisfied: joblib in /usr/local/lib/python3.7/dist-packages (from nltk->ekphrasis) (1.2.0)\n",
            "Requirement already satisfied: click in /usr/local/lib/python3.7/dist-packages (from nltk->ekphrasis) (7.1.2)\n",
            "Requirement already satisfied: regex>=2021.8.3 in /usr/local/lib/python3.7/dist-packages (from nltk->ekphrasis) (2022.6.2)\n",
            "Installing collected packages: ftfy, colorama, ekphrasis\n",
            "Successfully installed colorama-0.4.5 ekphrasis-0.5.4 ftfy-6.1.1\n"
          ]
        }
      ]
    },
    {
      "cell_type": "code",
      "source": [
        "from PreProcessing import load_dataset\n",
        "from BERTBase import run_with_kfold, evaluateFinal\n",
        "from AnalysisGraph import show_confusion_matrix, show_report, showWrongPredictions"
      ],
      "metadata": {
        "id": "8FVXjrepqtU_",
        "colab": {
          "base_uri": "https://localhost:8080/"
        },
        "outputId": "f3415b32-f968-4172-c5c9-0e8afc9efac7"
      },
      "id": "8FVXjrepqtU_",
      "execution_count": null,
      "outputs": [
        {
          "output_type": "stream",
          "name": "stderr",
          "text": [
            "[nltk_data] Downloading package stopwords to /root/nltk_data...\n",
            "[nltk_data]   Unzipping corpora/stopwords.zip.\n",
            "[nltk_data] Downloading package wordnet to /root/nltk_data...\n",
            "[nltk_data] Downloading package omw-1.4 to /root/nltk_data...\n"
          ]
        }
      ]
    },
    {
      "cell_type": "code",
      "metadata": {
        "id": "advanced-income"
      },
      "source": [
        "import string\n",
        "string.punctuation\n",
        "import csv\n",
        "import pandas as pd\n",
        "import numpy as np\n",
        "\n",
        "from transformers import BertForSequenceClassification, BertConfig, BertModel, BertTokenizer, AdamW, get_linear_schedule_with_warmup\n",
        "from sklearn.model_selection import train_test_split\n",
        "from torch.utils.data import TensorDataset, DataLoader, RandomSampler, SequentialSampler\n",
        "from sklearn.utils import shuffle\n",
        "from sklearn.model_selection import train_test_split, StratifiedKFold\n",
        "from sklearn.metrics import f1_score\n",
        "import torch\n",
        "from torch import tensor\n",
        "import torch.nn as nn\n",
        "from tqdm import tqdm, trange\n",
        "import matplotlib.pyplot as plt\n",
        "import random\n",
        "\n",
        "#% matplotlib inline\n",
        "\n",
        "#Random seed initialization for replicability of results\n",
        "torch.manual_seed(0)\n",
        "random.seed(0)\n",
        "np.random.seed(0)\n",
        "\n",
        "import warnings\n",
        "warnings.filterwarnings(\"ignore\")"
      ],
      "id": "advanced-income",
      "execution_count": null,
      "outputs": []
    },
    {
      "cell_type": "code",
      "source": [
        "if torch.cuda.is_available():       \n",
        "    device = torch.device(\"cuda\")\n",
        "    print(f'There are {torch.cuda.device_count()} GPU(s) available.')\n",
        "    print('Device name:', torch.cuda.get_device_name(0))\n",
        "    !nvidia-smi\n",
        "else:\n",
        "    print('No GPU available, using the CPU instead.')\n",
        "    device = torch.device(\"cpu\")"
      ],
      "metadata": {
        "colab": {
          "base_uri": "https://localhost:8080/"
        },
        "id": "AgRC7rVD7JyD",
        "outputId": "6392ac3b-95d6-4822-d11d-e552c53d11d3"
      },
      "id": "AgRC7rVD7JyD",
      "execution_count": null,
      "outputs": [
        {
          "output_type": "stream",
          "name": "stdout",
          "text": [
            "There are 1 GPU(s) available.\n",
            "Device name: Tesla T4\n",
            "Thu Oct 13 09:47:11 2022       \n",
            "+-----------------------------------------------------------------------------+\n",
            "| NVIDIA-SMI 460.32.03    Driver Version: 460.32.03    CUDA Version: 11.2     |\n",
            "|-------------------------------+----------------------+----------------------+\n",
            "| GPU  Name        Persistence-M| Bus-Id        Disp.A | Volatile Uncorr. ECC |\n",
            "| Fan  Temp  Perf  Pwr:Usage/Cap|         Memory-Usage | GPU-Util  Compute M. |\n",
            "|                               |                      |               MIG M. |\n",
            "|===============================+======================+======================|\n",
            "|   0  Tesla T4            Off  | 00000000:00:04.0 Off |                    0 |\n",
            "| N/A   32C    P8    11W /  70W |      3MiB / 15109MiB |      0%      Default |\n",
            "|                               |                      |                  N/A |\n",
            "+-------------------------------+----------------------+----------------------+\n",
            "                                                                               \n",
            "+-----------------------------------------------------------------------------+\n",
            "| Processes:                                                                  |\n",
            "|  GPU   GI   CI        PID   Type   Process name                  GPU Memory |\n",
            "|        ID   ID                                                   Usage      |\n",
            "|=============================================================================|\n",
            "|  No running processes found                                                 |\n",
            "+-----------------------------------------------------------------------------+\n"
          ]
        }
      ]
    },
    {
      "cell_type": "code",
      "source": [
        "#SET THE PARAMETERS FOR TRAINING \n",
        "H_PARAMETERS = {'model_name': 'prajjwal1/bert-medium', 'unit_layers' : [512, 64, 32, 2], 'dropout' : 0.5, 'folds' : 4, 'batch_size': 32, \n",
        "                'warmup_proportion' : 0.1, 'learning_rate': 2e-5, 'loss' : nn.CrossEntropyLoss(), 'num_epochs': 3, 'device' : device}"
      ],
      "metadata": {
        "id": "_h0TCO47CZsa"
      },
      "id": "_h0TCO47CZsa",
      "execution_count": null,
      "outputs": []
    },
    {
      "cell_type": "code",
      "metadata": {
        "id": "rYkU58w_xwop"
      },
      "source": [
        "# Function to calculate the accuracy of our predictions vs labels\n",
        "def flat_accuracy(preds, labels):\n",
        "    pred_flat = np.argmax(preds, axis=1).flatten()\n",
        "    labels_flat = labels.flatten()\n",
        "    return np.sum(pred_flat == labels_flat) / len(labels_flat)"
      ],
      "id": "rYkU58w_xwop",
      "execution_count": null,
      "outputs": []
    },
    {
      "cell_type": "markdown",
      "metadata": {
        "id": "FNtqr8YUqGc8"
      },
      "source": [],
      "id": "FNtqr8YUqGc8"
    },
    {
      "cell_type": "code",
      "metadata": {
        "scrolled": false,
        "colab": {
          "base_uri": "https://localhost:8080/"
        },
        "id": "seven-airline",
        "outputId": "d1e1241a-ab7e-471e-fee4-f3a4b0adcbff"
      },
      "source": [
        "#dataset = open(\"OLID/olid-training-v1.0.tsv\")\n",
        "data, label = load_dataset(dataset_path = 'drive/MyDrive/HLT/OLID/')\n",
        "\n",
        "data.subtask_a.value_counts()"
      ],
      "id": "seven-airline",
      "execution_count": null,
      "outputs": [
        {
          "output_type": "stream",
          "name": "stdout",
          "text": [
            "Word statistics files not found!\n",
            "Downloading... done!\n",
            "Unpacking... done!\n",
            "Reading english - 1grams ...\n",
            "generating cache file for faster loading...\n",
            "reading ngrams /root/.ekphrasis/stats/english/counts_1grams.txt\n",
            "Reading english - 2grams ...\n",
            "generating cache file for faster loading...\n",
            "reading ngrams /root/.ekphrasis/stats/english/counts_2grams.txt\n",
            "Reading english - 1grams ...\n",
            "user canada need another cuck already enough looney leave liberals fking great country qp roof trudeau must go\n"
          ]
        },
        {
          "output_type": "execute_result",
          "data": {
            "text/plain": [
              "NOT    8840\n",
              "OFF    4400\n",
              "Name: subtask_a, dtype: int64"
            ]
          },
          "metadata": {},
          "execution_count": 9
        }
      ]
    },
    {
      "cell_type": "code",
      "metadata": {
        "colab": {
          "base_uri": "https://localhost:8080/"
        },
        "id": "pIPROShzcWWo",
        "outputId": "73202636-8a02-4f69-83cd-ccc0bbea0c74"
      },
      "source": [
        "data.tweet.sample(20)"
      ],
      "id": "pIPROShzcWWo",
      "execution_count": null,
      "outputs": [
        {
          "output_type": "execute_result",
          "data": {
            "text/plain": [
              "12823                     user good antifa violent fascism\n",
              "12290    user de create slowly stealthily since conserv...\n",
              "8474     christian kabasele reveal secrets behind watfo...\n",
              "4676     user oppose neutral jurist sit scotus weigh me...\n",
              "397      user wonder apologize diamond silk call minstr...\n",
              "10957    user know canada want seem enough problems lib...\n",
              "3311                                        user love maga\n",
              "12936    user agree still conservatives heart may hate ...\n",
              "8575                         play water slider summer http\n",
              "4392     kyky u love u anfield putain la cliiimmmm liv psg\n",
              "7673     user compromise active investigation sound lik...\n",
              "12966    fill sky chemicals frequencies ido consent con...\n",
              "12215    love one another starlight darkness surround m...\n",
              "5480     verge collapse break wave cannot explain whole...\n",
              "3535                user hair polyester fibers yoda puppet\n",
              "4425                           user first regression laugh\n",
              "5523     user well brandon conservatives get elect red ...\n",
              "11758    user california need man worst way liberals al...\n",
              "7037                             user two word gun control\n",
              "6518     user everyone know kerry clue hear numerous an...\n",
              "Name: tweet, dtype: object"
            ]
          },
          "metadata": {},
          "execution_count": 10
        }
      ]
    },
    {
      "cell_type": "code",
      "source": [
        "X_train = list(data.tweet.values)"
      ],
      "metadata": {
        "id": "1kIX0_tKeYmN"
      },
      "id": "1kIX0_tKeYmN",
      "execution_count": null,
      "outputs": []
    },
    {
      "cell_type": "code",
      "metadata": {
        "id": "L6gdFvWw710F",
        "colab": {
          "base_uri": "https://localhost:8080/",
          "height": 81,
          "referenced_widgets": [
            "9bebb232d68044c09dc7e253bcf9ffe4",
            "81bef8a7b9d74b6f8da08e9db5700f1d",
            "48b8412c18d54d24b80625f72ada6fe1",
            "2ff6de122798416c9e2876266f81df3d",
            "bd32cf0369294d5199bcba9d59516911",
            "cd703983cabf438f869ba79ff11bd802",
            "232513aa94b54dff836dfbbf1c5c6d83",
            "27cf87210d9c460db4987b7b330167e1",
            "05592a8475d34c5e9e353ce4d7276d28",
            "0004f058c7924488b211edc5be493905",
            "2f40cbfdb83b44a99d7320471fcee6aa",
            "a64025c4811a42daa06f9594b4ae6566",
            "db28df7f9b624153b204c214092c4e28",
            "0409f0e46887432787de84f297377790",
            "b8e45b161b0c40f4a3c980efb8ae7bbd",
            "55f7440618b74c1bb1b76f54b6c6d5da",
            "057e48b329004bc8ba5c3b5553b0ee06",
            "f27cd065913a43c1b9bc267e6246775a",
            "bfafa686b0b24686a0b9c96bd19573c4",
            "0585ea9cba9e49fc9e8eb830c1ed70ee",
            "e11bacb85ce44d6992b91b5adf567c84",
            "18b3a7b00f5b4585ba61594ce24ba890"
          ]
        },
        "outputId": "ac7640e1-f8ac-4553-c8c7-3f7c83af28ac"
      },
      "source": [
        "MAX_SEQ_LENGTH = 64\n",
        "\n",
        "tokenizer = BertTokenizer.from_pretrained(H_PARAMETERS['model_name'], do_lower_case=True)\n",
        "sentences = data.tweet.values\n",
        "tokens = tokenizer(X_train, padding=True, truncation=True, max_length=MAX_SEQ_LENGTH)\n",
        "\n",
        "# Create input ids\n",
        "input_ids = []\n",
        "# Create attention masks\n",
        "attention_masks = []\n",
        "\n",
        "input_ids_train = torch.tensor(tokens['input_ids'])\n",
        "attention_masks_train  = torch.tensor(tokens['attention_mask'])"
      ],
      "id": "L6gdFvWw710F",
      "execution_count": null,
      "outputs": [
        {
          "output_type": "display_data",
          "data": {
            "text/plain": [
              "Downloading:   0%|          | 0.00/232k [00:00<?, ?B/s]"
            ],
            "application/vnd.jupyter.widget-view+json": {
              "version_major": 2,
              "version_minor": 0,
              "model_id": "9bebb232d68044c09dc7e253bcf9ffe4"
            }
          },
          "metadata": {}
        },
        {
          "output_type": "display_data",
          "data": {
            "text/plain": [
              "Downloading:   0%|          | 0.00/286 [00:00<?, ?B/s]"
            ],
            "application/vnd.jupyter.widget-view+json": {
              "version_major": 2,
              "version_minor": 0,
              "model_id": "a64025c4811a42daa06f9594b4ae6566"
            }
          },
          "metadata": {}
        }
      ]
    },
    {
      "cell_type": "code",
      "metadata": {
        "colab": {
          "base_uri": "https://localhost:8080/"
        },
        "id": "r0ifKXcVBuTf",
        "outputId": "63583b39-30ba-48e2-c4cd-1f40dab8885f"
      },
      "source": [
        "print('Original: ', sentences[0])\n",
        "print('Token IDs:', input_ids_train[0])"
      ],
      "id": "r0ifKXcVBuTf",
      "execution_count": null,
      "outputs": [
        {
          "output_type": "stream",
          "name": "stdout",
          "text": [
            "Original:  user ask native americans take\n",
            "Token IDs: tensor([ 101, 5310, 3198, 3128, 4841, 2202,  102,    0,    0,    0,    0,    0,\n",
            "           0,    0,    0,    0,    0,    0,    0,    0,    0,    0,    0,    0,\n",
            "           0,    0,    0,    0,    0,    0,    0,    0,    0,    0,    0,    0,\n",
            "           0,    0,    0,    0,    0,    0,    0,    0,    0,    0,    0,    0,\n",
            "           0,    0,    0,    0,    0,    0,    0,    0,    0,    0,    0,    0,\n",
            "           0,    0,    0,    0])\n"
          ]
        }
      ]
    },
    {
      "cell_type": "code",
      "source": [
        "loss_fn = nn.CrossEntropyLoss()"
      ],
      "metadata": {
        "id": "mUK6dAWoQHms"
      },
      "id": "mUK6dAWoQHms",
      "execution_count": null,
      "outputs": []
    },
    {
      "cell_type": "code",
      "source": [
        "test_data, label_test = load_dataset(dataset_path = 'drive/MyDrive/HLT/OLID/', dataset='testset-levela.tsv', dataset_label='labels-levela.csv')\n",
        "X_test = list(test_data.tweet.values)"
      ],
      "metadata": {
        "colab": {
          "base_uri": "https://localhost:8080/"
        },
        "id": "AGZ2gCaxoPm0",
        "outputId": "a7ab572a-98a7-4433-a0c5-523ee809801d"
      },
      "id": "AGZ2gCaxoPm0",
      "execution_count": null,
      "outputs": [
        {
          "output_type": "stream",
          "name": "stdout",
          "text": [
            "Reading english - 1grams ...\n",
            "Reading english - 2grams ...\n",
            "Reading english - 1grams ...\n",
            "bigg boss tamil janani task go first final listclapping hand clap hand clap hand clap hand\n"
          ]
        }
      ]
    },
    {
      "cell_type": "code",
      "source": [
        "tokens = tokenizer(X_test, padding=True, truncation=True, max_length=MAX_SEQ_LENGTH)\n",
        "\n",
        "# Create input ids\n",
        "input_ids = []\n",
        "# Create attention masks\n",
        "attention_masks = []\n",
        "\n",
        "input_ids_test = torch.tensor(tokens['input_ids'])\n",
        "attention_masks_test  = torch.tensor(tokens['attention_mask'])\n",
        "\n",
        "test_dataset = TensorDataset(input_ids_test, attention_masks_test, torch.tensor(label_test))\n",
        "test_sampler = SequentialSampler(test_dataset)\n",
        "test_dataloader = DataLoader(test_dataset, sampler=test_sampler, batch_size=len(test_dataset))"
      ],
      "metadata": {
        "id": "wf61sK-xqCDf"
      },
      "id": "wf61sK-xqCDf",
      "execution_count": null,
      "outputs": []
    },
    {
      "cell_type": "code",
      "source": [
        "models, preds_ensemble = run_with_kfold(input_ids_train, attention_masks_train, test_dataloader, torch.tensor(label), label_test, H_PARAMETERS)"
      ],
      "metadata": {
        "colab": {
          "base_uri": "https://localhost:8080/",
          "height": 1000,
          "referenced_widgets": [
            "09c2b2ff6dc2440ab8752f1d8f820407",
            "8d28e9309f26494297a677f26f8b06cb",
            "95d8b1d1d6664fc0b54f93b19292227e",
            "602bb12da07948f5959489526dcb8a97",
            "9f81181e8d5a476eb85ef47018e22c4a",
            "e7e4ee3c230243ff99e581b64f06ff83",
            "b41d8300bd8e4620b67552e723d3dd4f",
            "f5bfd66d4a024d70acefeece13686b7c",
            "83d403f1040444fdae0be4bc68b9b0d5",
            "66ae195c864d455493b8546eda4262db",
            "f68a079144734cd4afdead20a5c01187"
          ]
        },
        "id": "ogq3xfRrooB_",
        "outputId": "7abf4235-b5f5-48bb-b061-ebb46f613b27"
      },
      "id": "ogq3xfRrooB_",
      "execution_count": null,
      "outputs": [
        {
          "output_type": "display_data",
          "data": {
            "text/plain": [
              "Downloading:   0%|          | 0.00/167M [00:00<?, ?B/s]"
            ],
            "application/vnd.jupyter.widget-view+json": {
              "version_major": 2,
              "version_minor": 0,
              "model_id": "09c2b2ff6dc2440ab8752f1d8f820407"
            }
          },
          "metadata": {}
        },
        {
          "output_type": "stream",
          "name": "stderr",
          "text": [
            "Some weights of the model checkpoint at prajjwal1/bert-medium were not used when initializing BertModel: ['cls.seq_relationship.bias', 'cls.predictions.transform.LayerNorm.bias', 'cls.seq_relationship.weight', 'cls.predictions.transform.dense.bias', 'cls.predictions.transform.dense.weight', 'cls.predictions.bias', 'cls.predictions.decoder.weight', 'cls.predictions.decoder.bias', 'cls.predictions.transform.LayerNorm.weight']\n",
            "- This IS expected if you are initializing BertModel from the checkpoint of a model trained on another task or with another architecture (e.g. initializing a BertForSequenceClassification model from a BertForPreTraining model).\n",
            "- This IS NOT expected if you are initializing BertModel from the checkpoint of a model that you expect to be exactly identical (initializing a BertForSequenceClassification model from a BertForSequenceClassification model).\n"
          ]
        },
        {
          "output_type": "stream",
          "name": "stdout",
          "text": [
            "Sequential(\n",
            "  (0): Linear(in_features=512, out_features=64, bias=True)\n",
            "  (1): ReLU()\n",
            "  (2): Dropout(p=0.5, inplace=False)\n",
            "  (3): Linear(in_features=64, out_features=32, bias=True)\n",
            "  (4): ReLU()\n",
            "  (5): Dropout(p=0.5, inplace=False)\n",
            "  (6): Linear(in_features=32, out_features=2, bias=True)\n",
            ")\n",
            "Start training...\n",
            "\n",
            " Epoch  |  Batch  |  Train Loss  | F1 Train  |  Val Loss  |  Val Acc  |  F1 Val   |  Elapsed \n",
            "-----------------------------------------------------------------------------------------------\n",
            "   1    |   20    |   0.667393   |   0.44    |     -      |     -     |     -     |   4.61   \n",
            "   1    |   40    |   0.650753   |   0.43    |     -      |     -     |     -     |   2.11   \n",
            "   1    |   60    |   0.633581   |   0.42    |     -      |     -     |     -     |   2.10   \n",
            "   1    |   80    |   0.608767   |   0.47    |     -      |     -     |     -     |   2.11   \n",
            "   1    |   100   |   0.615614   |   0.55    |     -      |     -     |     -     |   2.11   \n",
            "   1    |   120   |   0.607244   |   0.55    |     -      |     -     |     -     |   2.12   \n",
            "   1    |   140   |   0.538623   |   0.63    |     -      |     -     |     -     |   2.12   \n",
            "   1    |   160   |   0.587994   |   0.65    |     -      |     -     |     -     |   2.12   \n",
            "   1    |   180   |   0.538593   |   0.71    |     -      |     -     |     -     |   2.13   \n",
            "   1    |   200   |   0.576254   |   0.62    |     -      |     -     |     -     |   2.13   \n",
            "   1    |   220   |   0.545111   |   0.68    |     -      |     -     |     -     |   2.13   \n",
            "   1    |   240   |   0.548080   |   0.71    |     -      |     -     |     -     |   2.13   \n",
            "   1    |   260   |   0.534129   |   0.70    |     -      |     -     |     -     |   2.14   \n",
            "   1    |   280   |   0.511402   |   0.71    |     -      |     -     |     -     |   2.14   \n",
            "   1    |   300   |   0.571862   |   0.67    |     -      |     -     |     -     |   2.14   \n",
            "   1    |   310   |   0.532151   |   0.74    |     -      |     -     |     -     |   1.02   \n",
            "-----------------------------------------------------------------------------------------------\n",
            "   1    |    -    |   0.581019   |   0.60    |  0.487425  |   77.34   |   74.07   |   38.61  \n",
            "-----------------------------------------------------------------------------------------------\n",
            "\n",
            "\n",
            " Epoch  |  Batch  |  Train Loss  | F1 Train  |  Val Loss  |  Val Acc  |  F1 Val   |  Elapsed \n",
            "-----------------------------------------------------------------------------------------------\n",
            "   2    |   20    |   0.497764   |   0.75    |     -      |     -     |     -     |   2.26   \n",
            "   2    |   40    |   0.493650   |   0.73    |     -      |     -     |     -     |   2.16   \n",
            "   2    |   60    |   0.487287   |   0.76    |     -      |     -     |     -     |   2.15   \n",
            "   2    |   80    |   0.524130   |   0.72    |     -      |     -     |     -     |   2.16   \n",
            "   2    |   100   |   0.512932   |   0.70    |     -      |     -     |     -     |   2.16   \n",
            "   2    |   120   |   0.498223   |   0.72    |     -      |     -     |     -     |   2.16   \n",
            "   2    |   140   |   0.508373   |   0.74    |     -      |     -     |     -     |   2.17   \n",
            "   2    |   160   |   0.476601   |   0.77    |     -      |     -     |     -     |   2.17   \n",
            "   2    |   180   |   0.480216   |   0.77    |     -      |     -     |     -     |   2.17   \n",
            "   2    |   200   |   0.520592   |   0.70    |     -      |     -     |     -     |   2.17   \n",
            "   2    |   220   |   0.479363   |   0.76    |     -      |     -     |     -     |   2.17   \n",
            "   2    |   240   |   0.477905   |   0.74    |     -      |     -     |     -     |   2.18   \n",
            "   2    |   260   |   0.536396   |   0.69    |     -      |     -     |     -     |   2.18   \n",
            "   2    |   280   |   0.492393   |   0.73    |     -      |     -     |     -     |   2.18   \n",
            "   2    |   300   |   0.497892   |   0.74    |     -      |     -     |     -     |   2.18   \n",
            "   2    |   310   |   0.470016   |   0.73    |     -      |     -     |     -     |   1.04   \n",
            "-----------------------------------------------------------------------------------------------\n",
            "   2    |    -    |   0.497982   |   0.73    |  0.462076  |   78.73   |   73.78   |   36.97  \n",
            "-----------------------------------------------------------------------------------------------\n",
            "\n",
            "\n",
            " Epoch  |  Batch  |  Train Loss  | F1 Train  |  Val Loss  |  Val Acc  |  F1 Val   |  Elapsed \n",
            "-----------------------------------------------------------------------------------------------\n",
            "   3    |   20    |   0.492084   |   0.72    |     -      |     -     |     -     |   2.31   \n",
            "   3    |   40    |   0.464861   |   0.75    |     -      |     -     |     -     |   2.19   \n",
            "   3    |   60    |   0.486085   |   0.76    |     -      |     -     |     -     |   2.20   \n",
            "   3    |   80    |   0.441885   |   0.80    |     -      |     -     |     -     |   2.20   \n",
            "   3    |   100   |   0.481628   |   0.78    |     -      |     -     |     -     |   2.20   \n",
            "   3    |   120   |   0.463226   |   0.77    |     -      |     -     |     -     |   2.20   \n",
            "   3    |   140   |   0.450581   |   0.76    |     -      |     -     |     -     |   2.21   \n",
            "   3    |   160   |   0.420025   |   0.82    |     -      |     -     |     -     |   2.21   \n",
            "   3    |   180   |   0.447096   |   0.77    |     -      |     -     |     -     |   2.21   \n",
            "   3    |   200   |   0.463784   |   0.78    |     -      |     -     |     -     |   2.21   \n",
            "   3    |   220   |   0.398490   |   0.82    |     -      |     -     |     -     |   2.21   \n",
            "   3    |   240   |   0.478282   |   0.79    |     -      |     -     |     -     |   2.22   \n",
            "   3    |   260   |   0.444209   |   0.77    |     -      |     -     |     -     |   2.22   \n",
            "   3    |   280   |   0.467762   |   0.77    |     -      |     -     |     -     |   2.22   \n",
            "   3    |   300   |   0.454683   |   0.76    |     -      |     -     |     -     |   2.21   \n",
            "   3    |   310   |   0.470104   |   0.77    |     -      |     -     |     -     |   1.06   \n",
            "-----------------------------------------------------------------------------------------------\n",
            "   3    |    -    |   0.457514   |   0.77    |  0.459344  |   78.76   |   75.27   |   37.68  \n",
            "-----------------------------------------------------------------------------------------------\n",
            "\n",
            "\n",
            "Training complete!\n"
          ]
        },
        {
          "output_type": "display_data",
          "data": {
            "text/plain": [
              "<Figure size 432x288 with 2 Axes>"
            ],
            "image/png": "[encoded data removed]"
          },
          "metadata": {
            "needs_background": "light"
          }
        },
        {
          "output_type": "stream",
          "name": "stderr",
          "text": [
            "Some weights of the model checkpoint at prajjwal1/bert-medium were not used when initializing BertModel: ['cls.seq_relationship.bias', 'cls.predictions.transform.LayerNorm.bias', 'cls.seq_relationship.weight', 'cls.predictions.transform.dense.bias', 'cls.predictions.transform.dense.weight', 'cls.predictions.bias', 'cls.predictions.decoder.weight', 'cls.predictions.decoder.bias', 'cls.predictions.transform.LayerNorm.weight']\n",
            "- This IS expected if you are initializing BertModel from the checkpoint of a model trained on another task or with another architecture (e.g. initializing a BertForSequenceClassification model from a BertForPreTraining model).\n",
            "- This IS NOT expected if you are initializing BertModel from the checkpoint of a model that you expect to be exactly identical (initializing a BertForSequenceClassification model from a BertForSequenceClassification model).\n"
          ]
        },
        {
          "output_type": "stream",
          "name": "stdout",
          "text": [
            "Sequential(\n",
            "  (0): Linear(in_features=512, out_features=64, bias=True)\n",
            "  (1): ReLU()\n",
            "  (2): Dropout(p=0.5, inplace=False)\n",
            "  (3): Linear(in_features=64, out_features=32, bias=True)\n",
            "  (4): ReLU()\n",
            "  (5): Dropout(p=0.5, inplace=False)\n",
            "  (6): Linear(in_features=32, out_features=2, bias=True)\n",
            ")\n",
            "Start training...\n",
            "\n",
            " Epoch  |  Batch  |  Train Loss  | F1 Train  |  Val Loss  |  Val Acc  |  F1 Val   |  Elapsed \n",
            "-----------------------------------------------------------------------------------------------\n",
            "   1    |   20    |   0.666643   |   0.47    |     -      |     -     |     -     |   2.33   \n",
            "   1    |   40    |   0.625883   |   0.45    |     -      |     -     |     -     |   2.23   \n",
            "   1    |   60    |   0.641043   |   0.43    |     -      |     -     |     -     |   2.23   \n",
            "   1    |   80    |   0.625804   |   0.44    |     -      |     -     |     -     |   2.23   \n",
            "   1    |   100   |   0.578278   |   0.47    |     -      |     -     |     -     |   2.23   \n",
            "   1    |   120   |   0.580992   |   0.56    |     -      |     -     |     -     |   2.23   \n",
            "   1    |   140   |   0.573445   |   0.64    |     -      |     -     |     -     |   2.23   \n",
            "   1    |   160   |   0.552806   |   0.62    |     -      |     -     |     -     |   2.23   \n",
            "   1    |   180   |   0.528459   |   0.70    |     -      |     -     |     -     |   2.23   \n",
            "   1    |   200   |   0.532665   |   0.69    |     -      |     -     |     -     |   2.23   \n",
            "   1    |   220   |   0.514095   |   0.73    |     -      |     -     |     -     |   2.23   \n",
            "   1    |   240   |   0.539414   |   0.70    |     -      |     -     |     -     |   2.24   \n",
            "   1    |   260   |   0.546482   |   0.71    |     -      |     -     |     -     |   2.24   \n",
            "   1    |   280   |   0.537021   |   0.68    |     -      |     -     |     -     |   2.24   \n",
            "   1    |   300   |   0.508440   |   0.71    |     -      |     -     |     -     |   2.23   \n",
            "   1    |   310   |   0.480092   |   0.70    |     -      |     -     |     -     |   1.06   \n",
            "-----------------------------------------------------------------------------------------------\n",
            "   1    |    -    |   0.567514   |   0.60    |  0.471648  |   78.61   |   75.27   |   38.11  \n",
            "-----------------------------------------------------------------------------------------------\n",
            "\n",
            "\n",
            " Epoch  |  Batch  |  Train Loss  | F1 Train  |  Val Loss  |  Val Acc  |  F1 Val   |  Elapsed \n",
            "-----------------------------------------------------------------------------------------------\n",
            "   2    |   20    |   0.519595   |   0.73    |     -      |     -     |     -     |   2.37   \n",
            "   2    |   40    |   0.483966   |   0.72    |     -      |     -     |     -     |   2.25   \n",
            "   2    |   60    |   0.484776   |   0.69    |     -      |     -     |     -     |   2.25   \n",
            "   2    |   80    |   0.510607   |   0.70    |     -      |     -     |     -     |   2.25   \n",
            "   2    |   100   |   0.519813   |   0.73    |     -      |     -     |     -     |   2.25   \n",
            "   2    |   120   |   0.489663   |   0.72    |     -      |     -     |     -     |   2.26   \n",
            "   2    |   140   |   0.449698   |   0.75    |     -      |     -     |     -     |   2.25   \n",
            "   2    |   160   |   0.477089   |   0.77    |     -      |     -     |     -     |   2.25   \n",
            "   2    |   180   |   0.489159   |   0.77    |     -      |     -     |     -     |   2.29   \n",
            "   2    |   200   |   0.486349   |   0.75    |     -      |     -     |     -     |   2.29   \n",
            "   2    |   220   |   0.496242   |   0.72    |     -      |     -     |     -     |   2.25   \n",
            "   2    |   240   |   0.534808   |   0.73    |     -      |     -     |     -     |   2.27   \n",
            "   2    |   260   |   0.498064   |   0.74    |     -      |     -     |     -     |   2.27   \n",
            "   2    |   280   |   0.463518   |   0.77    |     -      |     -     |     -     |   2.27   \n",
            "   2    |   300   |   0.481376   |   0.75    |     -      |     -     |     -     |   2.27   \n",
            "   2    |   310   |   0.458123   |   0.74    |     -      |     -     |     -     |   1.07   \n",
            "-----------------------------------------------------------------------------------------------\n",
            "   2    |    -    |   0.491303   |   0.74    |  0.474992  |   76.53   |   74.63   |   38.60  \n",
            "-----------------------------------------------------------------------------------------------\n",
            "\n",
            "\n",
            " Epoch  |  Batch  |  Train Loss  | F1 Train  |  Val Loss  |  Val Acc  |  F1 Val   |  Elapsed \n",
            "-----------------------------------------------------------------------------------------------\n",
            "   3    |   20    |   0.440373   |   0.77    |     -      |     -     |     -     |   2.40   \n",
            "   3    |   40    |   0.460999   |   0.79    |     -      |     -     |     -     |   2.27   \n",
            "   3    |   60    |   0.442081   |   0.77    |     -      |     -     |     -     |   2.27   \n",
            "   3    |   80    |   0.439526   |   0.78    |     -      |     -     |     -     |   2.28   \n",
            "   3    |   100   |   0.463661   |   0.74    |     -      |     -     |     -     |   2.28   \n",
            "   3    |   120   |   0.468664   |   0.79    |     -      |     -     |     -     |   2.28   \n",
            "   3    |   140   |   0.478285   |   0.78    |     -      |     -     |     -     |   2.29   \n",
            "   3    |   160   |   0.450162   |   0.75    |     -      |     -     |     -     |   2.30   \n",
            "   3    |   180   |   0.456173   |   0.75    |     -      |     -     |     -     |   2.31   \n",
            "   3    |   200   |   0.483180   |   0.77    |     -      |     -     |     -     |   2.30   \n",
            "   3    |   220   |   0.428041   |   0.79    |     -      |     -     |     -     |   2.31   \n",
            "   3    |   240   |   0.448905   |   0.81    |     -      |     -     |     -     |   2.31   \n",
            "   3    |   260   |   0.473270   |   0.76    |     -      |     -     |     -     |   2.33   \n",
            "   3    |   280   |   0.433148   |   0.77    |     -      |     -     |     -     |   2.33   \n",
            "   3    |   300   |   0.460884   |   0.79    |     -      |     -     |     -     |   2.33   \n",
            "   3    |   310   |   0.412286   |   0.78    |     -      |     -     |     -     |   1.11   \n",
            "-----------------------------------------------------------------------------------------------\n",
            "   3    |    -    |   0.453731   |   0.77    |  0.478753  |   77.92   |   75.38   |   39.32  \n",
            "-----------------------------------------------------------------------------------------------\n",
            "\n",
            "\n",
            "Training complete!\n"
          ]
        },
        {
          "output_type": "display_data",
          "data": {
            "text/plain": [
              "<Figure size 432x288 with 2 Axes>"
            ],
            "image/png": "[encoded data removed]"
          },
          "metadata": {
            "needs_background": "light"
          }
        },
        {
          "output_type": "stream",
          "name": "stderr",
          "text": [
            "Some weights of the model checkpoint at prajjwal1/bert-medium were not used when initializing BertModel: ['cls.seq_relationship.bias', 'cls.predictions.transform.LayerNorm.bias', 'cls.seq_relationship.weight', 'cls.predictions.transform.dense.bias', 'cls.predictions.transform.dense.weight', 'cls.predictions.bias', 'cls.predictions.decoder.weight', 'cls.predictions.decoder.bias', 'cls.predictions.transform.LayerNorm.weight']\n",
            "- This IS expected if you are initializing BertModel from the checkpoint of a model trained on another task or with another architecture (e.g. initializing a BertForSequenceClassification model from a BertForPreTraining model).\n",
            "- This IS NOT expected if you are initializing BertModel from the checkpoint of a model that you expect to be exactly identical (initializing a BertForSequenceClassification model from a BertForSequenceClassification model).\n"
          ]
        },
        {
          "output_type": "stream",
          "name": "stdout",
          "text": [
            "Sequential(\n",
            "  (0): Linear(in_features=512, out_features=64, bias=True)\n",
            "  (1): ReLU()\n",
            "  (2): Dropout(p=0.5, inplace=False)\n",
            "  (3): Linear(in_features=64, out_features=32, bias=True)\n",
            "  (4): ReLU()\n",
            "  (5): Dropout(p=0.5, inplace=False)\n",
            "  (6): Linear(in_features=32, out_features=2, bias=True)\n",
            ")\n",
            "Start training...\n",
            "\n",
            " Epoch  |  Batch  |  Train Loss  | F1 Train  |  Val Loss  |  Val Acc  |  F1 Val   |  Elapsed \n",
            "-----------------------------------------------------------------------------------------------\n",
            "   1    |   20    |   0.661564   |   0.50    |     -      |     -     |     -     |   2.42   \n",
            "   1    |   40    |   0.645255   |   0.43    |     -      |     -     |     -     |   2.32   \n",
            "   1    |   60    |   0.631753   |   0.52    |     -      |     -     |     -     |   2.31   \n",
            "   1    |   80    |   0.614665   |   0.54    |     -      |     -     |     -     |   2.31   \n",
            "   1    |   100   |   0.563416   |   0.59    |     -      |     -     |     -     |   2.31   \n",
            "   1    |   120   |   0.554718   |   0.65    |     -      |     -     |     -     |   2.31   \n",
            "   1    |   140   |   0.560563   |   0.68    |     -      |     -     |     -     |   2.31   \n",
            "   1    |   160   |   0.533608   |   0.68    |     -      |     -     |     -     |   2.30   \n",
            "   1    |   180   |   0.557467   |   0.69    |     -      |     -     |     -     |   2.30   \n",
            "   1    |   200   |   0.533644   |   0.66    |     -      |     -     |     -     |   2.30   \n",
            "   1    |   220   |   0.510214   |   0.72    |     -      |     -     |     -     |   2.30   \n",
            "   1    |   240   |   0.497109   |   0.71    |     -      |     -     |     -     |   2.30   \n",
            "   1    |   260   |   0.544814   |   0.67    |     -      |     -     |     -     |   2.29   \n",
            "   1    |   280   |   0.555195   |   0.68    |     -      |     -     |     -     |   2.30   \n",
            "   1    |   300   |   0.518137   |   0.73    |     -      |     -     |     -     |   2.30   \n",
            "   1    |   310   |   0.512295   |   0.68    |     -      |     -     |     -     |   1.08   \n",
            "-----------------------------------------------------------------------------------------------\n",
            "   1    |    -    |   0.564074   |   0.63    |  0.510577  |   74.62   |   72.72   |   39.30  \n",
            "-----------------------------------------------------------------------------------------------\n",
            "\n",
            "\n",
            " Epoch  |  Batch  |  Train Loss  | F1 Train  |  Val Loss  |  Val Acc  |  F1 Val   |  Elapsed \n",
            "-----------------------------------------------------------------------------------------------\n",
            "   2    |   20    |   0.515858   |   0.70    |     -      |     -     |     -     |   2.42   \n",
            "   2    |   40    |   0.497342   |   0.74    |     -      |     -     |     -     |   2.30   \n",
            "   2    |   60    |   0.489268   |   0.72    |     -      |     -     |     -     |   2.31   \n",
            "   2    |   80    |   0.509365   |   0.72    |     -      |     -     |     -     |   2.30   \n",
            "   2    |   100   |   0.443499   |   0.78    |     -      |     -     |     -     |   2.29   \n",
            "   2    |   120   |   0.509179   |   0.75    |     -      |     -     |     -     |   2.30   \n",
            "   2    |   140   |   0.502319   |   0.77    |     -      |     -     |     -     |   2.31   \n",
            "   2    |   160   |   0.531537   |   0.72    |     -      |     -     |     -     |   2.30   \n",
            "   2    |   180   |   0.488990   |   0.75    |     -      |     -     |     -     |   2.32   \n",
            "   2    |   200   |   0.473528   |   0.72    |     -      |     -     |     -     |   2.31   \n",
            "   2    |   220   |   0.517996   |   0.72    |     -      |     -     |     -     |   2.32   \n",
            "   2    |   240   |   0.473343   |   0.73    |     -      |     -     |     -     |   2.31   \n",
            "   2    |   260   |   0.488430   |   0.75    |     -      |     -     |     -     |   2.32   \n",
            "   2    |   280   |   0.447479   |   0.78    |     -      |     -     |     -     |   2.32   \n",
            "   2    |   300   |   0.468195   |   0.75    |     -      |     -     |     -     |   2.33   \n",
            "   2    |   310   |   0.391745   |   0.79    |     -      |     -     |     -     |   1.10   \n",
            "-----------------------------------------------------------------------------------------------\n",
            "   2    |    -    |   0.487331   |   0.74    |  0.462893  |   79.03   |   75.72   |   39.44  \n",
            "-----------------------------------------------------------------------------------------------\n",
            "\n",
            "\n",
            " Epoch  |  Batch  |  Train Loss  | F1 Train  |  Val Loss  |  Val Acc  |  F1 Val   |  Elapsed \n",
            "-----------------------------------------------------------------------------------------------\n",
            "   3    |   20    |   0.443322   |   0.78    |     -      |     -     |     -     |   2.45   \n",
            "   3    |   40    |   0.430968   |   0.78    |     -      |     -     |     -     |   2.32   \n",
            "   3    |   60    |   0.465980   |   0.78    |     -      |     -     |     -     |   2.33   \n",
            "   3    |   80    |   0.441090   |   0.78    |     -      |     -     |     -     |   2.32   \n",
            "   3    |   100   |   0.445741   |   0.79    |     -      |     -     |     -     |   2.32   \n",
            "   3    |   120   |   0.429183   |   0.79    |     -      |     -     |     -     |   2.32   \n",
            "   3    |   140   |   0.445594   |   0.80    |     -      |     -     |     -     |   2.32   \n",
            "   3    |   160   |   0.439845   |   0.78    |     -      |     -     |     -     |   2.32   \n",
            "   3    |   180   |   0.461052   |   0.79    |     -      |     -     |     -     |   2.33   \n",
            "   3    |   200   |   0.448319   |   0.76    |     -      |     -     |     -     |   2.32   \n",
            "   3    |   220   |   0.419480   |   0.79    |     -      |     -     |     -     |   2.32   \n",
            "   3    |   240   |   0.480952   |   0.76    |     -      |     -     |     -     |   2.32   \n",
            "   3    |   260   |   0.454434   |   0.80    |     -      |     -     |     -     |   2.32   \n",
            "   3    |   280   |   0.434989   |   0.78    |     -      |     -     |     -     |   2.32   \n",
            "   3    |   300   |   0.408809   |   0.81    |     -      |     -     |     -     |   2.32   \n",
            "   3    |   310   |   0.419656   |   0.80    |     -      |     -     |     -     |   1.09   \n",
            "-----------------------------------------------------------------------------------------------\n",
            "   3    |    -    |   0.442556   |   0.79    |  0.467621  |   79.49   |   75.87   |   39.62  \n",
            "-----------------------------------------------------------------------------------------------\n",
            "\n",
            "\n",
            "Training complete!\n"
          ]
        },
        {
          "output_type": "display_data",
          "data": {
            "text/plain": [
              "<Figure size 432x288 with 2 Axes>"
            ],
            "image/png": "[encoded data removed]"
          },
          "metadata": {
            "needs_background": "light"
          }
        },
        {
          "output_type": "stream",
          "name": "stderr",
          "text": [
            "Some weights of the model checkpoint at prajjwal1/bert-medium were not used when initializing BertModel: ['cls.seq_relationship.bias', 'cls.predictions.transform.LayerNorm.bias', 'cls.seq_relationship.weight', 'cls.predictions.transform.dense.bias', 'cls.predictions.transform.dense.weight', 'cls.predictions.bias', 'cls.predictions.decoder.weight', 'cls.predictions.decoder.bias', 'cls.predictions.transform.LayerNorm.weight']\n",
            "- This IS expected if you are initializing BertModel from the checkpoint of a model trained on another task or with another architecture (e.g. initializing a BertForSequenceClassification model from a BertForPreTraining model).\n",
            "- This IS NOT expected if you are initializing BertModel from the checkpoint of a model that you expect to be exactly identical (initializing a BertForSequenceClassification model from a BertForSequenceClassification model).\n"
          ]
        },
        {
          "output_type": "stream",
          "name": "stdout",
          "text": [
            "Sequential(\n",
            "  (0): Linear(in_features=512, out_features=64, bias=True)\n",
            "  (1): ReLU()\n",
            "  (2): Dropout(p=0.5, inplace=False)\n",
            "  (3): Linear(in_features=64, out_features=32, bias=True)\n",
            "  (4): ReLU()\n",
            "  (5): Dropout(p=0.5, inplace=False)\n",
            "  (6): Linear(in_features=32, out_features=2, bias=True)\n",
            ")\n",
            "Start training...\n",
            "\n",
            " Epoch  |  Batch  |  Train Loss  | F1 Train  |  Val Loss  |  Val Acc  |  F1 Val   |  Elapsed \n",
            "-----------------------------------------------------------------------------------------------\n",
            "   1    |   20    |   0.647016   |   0.42    |     -      |     -     |     -     |   2.41   \n",
            "   1    |   40    |   0.634263   |   0.40    |     -      |     -     |     -     |   2.31   \n",
            "   1    |   60    |   0.623856   |   0.40    |     -      |     -     |     -     |   2.32   \n",
            "   1    |   80    |   0.597530   |   0.44    |     -      |     -     |     -     |   2.32   \n",
            "   1    |   100   |   0.592822   |   0.47    |     -      |     -     |     -     |   2.31   \n",
            "   1    |   120   |   0.596973   |   0.54    |     -      |     -     |     -     |   2.31   \n",
            "   1    |   140   |   0.574906   |   0.55    |     -      |     -     |     -     |   2.32   \n",
            "   1    |   160   |   0.552390   |   0.54    |     -      |     -     |     -     |   2.31   \n",
            "   1    |   180   |   0.563541   |   0.60    |     -      |     -     |     -     |   2.31   \n",
            "   1    |   200   |   0.552734   |   0.64    |     -      |     -     |     -     |   2.31   \n",
            "   1    |   220   |   0.576481   |   0.65    |     -      |     -     |     -     |   2.31   \n",
            "   1    |   240   |   0.548247   |   0.64    |     -      |     -     |     -     |   2.32   \n",
            "   1    |   260   |   0.519827   |   0.65    |     -      |     -     |     -     |   2.32   \n",
            "   1    |   280   |   0.559265   |   0.61    |     -      |     -     |     -     |   2.32   \n",
            "   1    |   300   |   0.542366   |   0.68    |     -      |     -     |     -     |   2.35   \n",
            "   1    |   310   |   0.467738   |   0.74    |     -      |     -     |     -     |   1.13   \n",
            "-----------------------------------------------------------------------------------------------\n",
            "   1    |    -    |   0.575462   |   0.55    |  0.490544  |   77.79   |   74.96   |   39.60  \n",
            "-----------------------------------------------------------------------------------------------\n",
            "\n",
            "\n",
            " Epoch  |  Batch  |  Train Loss  | F1 Train  |  Val Loss  |  Val Acc  |  F1 Val   |  Elapsed \n",
            "-----------------------------------------------------------------------------------------------\n",
            "   2    |   20    |   0.501385   |   0.69    |     -      |     -     |     -     |   2.44   \n",
            "   2    |   40    |   0.543575   |   0.67    |     -      |     -     |     -     |   2.32   \n",
            "   2    |   60    |   0.528387   |   0.68    |     -      |     -     |     -     |   2.33   \n",
            "   2    |   80    |   0.501022   |   0.71    |     -      |     -     |     -     |   2.32   \n",
            "   2    |   100   |   0.537090   |   0.67    |     -      |     -     |     -     |   2.33   \n",
            "   2    |   120   |   0.532172   |   0.70    |     -      |     -     |     -     |   2.33   \n",
            "   2    |   140   |   0.505067   |   0.71    |     -      |     -     |     -     |   2.33   \n",
            "   2    |   160   |   0.544324   |   0.71    |     -      |     -     |     -     |   2.33   \n",
            "   2    |   180   |   0.469222   |   0.74    |     -      |     -     |     -     |   2.32   \n",
            "   2    |   200   |   0.523891   |   0.73    |     -      |     -     |     -     |   2.32   \n",
            "   2    |   220   |   0.472822   |   0.75    |     -      |     -     |     -     |   2.33   \n",
            "   2    |   240   |   0.495863   |   0.71    |     -      |     -     |     -     |   2.33   \n",
            "   2    |   260   |   0.517851   |   0.70    |     -      |     -     |     -     |   2.33   \n",
            "   2    |   280   |   0.471321   |   0.72    |     -      |     -     |     -     |   2.33   \n",
            "   2    |   300   |   0.468891   |   0.73    |     -      |     -     |     -     |   2.32   \n",
            "   2    |   310   |   0.499351   |   0.72    |     -      |     -     |     -     |   1.10   \n",
            "-----------------------------------------------------------------------------------------------\n",
            "   2    |    -    |   0.507243   |   0.71    |  0.461253  |   79.12   |   75.89   |   39.70  \n",
            "-----------------------------------------------------------------------------------------------\n",
            "\n",
            "\n",
            " Epoch  |  Batch  |  Train Loss  | F1 Train  |  Val Loss  |  Val Acc  |  F1 Val   |  Elapsed \n",
            "-----------------------------------------------------------------------------------------------\n",
            "   3    |   20    |   0.436048   |   0.75    |     -      |     -     |     -     |   2.46   \n",
            "   3    |   40    |   0.442721   |   0.75    |     -      |     -     |     -     |   2.33   \n",
            "   3    |   60    |   0.437720   |   0.75    |     -      |     -     |     -     |   2.34   \n",
            "   3    |   80    |   0.528687   |   0.73    |     -      |     -     |     -     |   2.33   \n",
            "   3    |   100   |   0.485827   |   0.77    |     -      |     -     |     -     |   2.32   \n",
            "   3    |   120   |   0.423242   |   0.77    |     -      |     -     |     -     |   2.33   \n",
            "   3    |   140   |   0.471810   |   0.74    |     -      |     -     |     -     |   2.33   \n",
            "   3    |   160   |   0.445799   |   0.78    |     -      |     -     |     -     |   2.33   \n",
            "   3    |   180   |   0.487438   |   0.73    |     -      |     -     |     -     |   2.34   \n",
            "   3    |   200   |   0.460441   |   0.75    |     -      |     -     |     -     |   2.33   \n",
            "   3    |   220   |   0.445465   |   0.79    |     -      |     -     |     -     |   2.33   \n",
            "   3    |   240   |   0.452236   |   0.77    |     -      |     -     |     -     |   2.34   \n",
            "   3    |   260   |   0.433155   |   0.76    |     -      |     -     |     -     |   2.33   \n",
            "   3    |   280   |   0.434014   |   0.80    |     -      |     -     |     -     |   2.33   \n",
            "   3    |   300   |   0.451955   |   0.79    |     -      |     -     |     -     |   2.33   \n",
            "   3    |   310   |   0.441495   |   0.74    |     -      |     -     |     -     |   1.10   \n",
            "-----------------------------------------------------------------------------------------------\n",
            "   3    |    -    |   0.455248   |   0.76    |  0.455815  |   79.40   |   76.02   |   39.78  \n",
            "-----------------------------------------------------------------------------------------------\n",
            "\n",
            "\n",
            "Training complete!\n"
          ]
        },
        {
          "output_type": "display_data",
          "data": {
            "text/plain": [
              "<Figure size 432x288 with 2 Axes>"
            ],
            "image/png": "[encoded data removed]"
          },
          "metadata": {
            "needs_background": "light"
          }
        },
        {
          "output_type": "stream",
          "name": "stdout",
          "text": [
            "------RESULT------\n"
          ]
        },
        {
          "output_type": "display_data",
          "data": {
            "text/plain": [
              "<Figure size 432x288 with 2 Axes>"
            ],
            "image/png": "[encoded data removed]"
          },
          "metadata": {
            "needs_background": "light"
          }
        },
        {
          "output_type": "stream",
          "name": "stdout",
          "text": [
            "              precision    recall  f1-score   support\n",
            "\n",
            "     Not Off     0.8584    0.9290    0.8923       620\n",
            "         Off     0.7672    0.6042    0.6760       240\n",
            "\n",
            "    accuracy                         0.8384       860\n",
            "   macro avg     0.8128    0.7666    0.7842       860\n",
            "weighted avg     0.8330    0.8384    0.8320       860\n",
            "\n",
            "f1_score test tweets: 0.7841611009697764\n"
          ]
        }
      ]
    },
    {
      "cell_type": "code",
      "source": [
        "for i in range(len(models)):\n",
        "  models[i].to(device)\n",
        "  val_loss, val_accuracys, f1_value_tweets = evaluateFinal(models[i], test_dataloader, H_PARAMETERS['device'], H_PARAMETERS['loss'])\n",
        "  models[i].to('cpu')\n",
        "  print(\"Bert model {0} tweets testset result => Loss: {1} Accuracy: {2} F1 score: {3}\".format(i, val_loss, val_accuracys, f1_value_tweets))"
      ],
      "metadata": {
        "id": "a7LFlcq-m1GV",
        "colab": {
          "base_uri": "https://localhost:8080/",
          "height": 1000
        },
        "outputId": "cfe0ba9b-f043-45c7-bebb-5d02d02be7f7"
      },
      "id": "a7LFlcq-m1GV",
      "execution_count": null,
      "outputs": [
        {
          "output_type": "display_data",
          "data": {
            "text/plain": [
              "<Figure size 432x288 with 2 Axes>"
            ],
            "image/png": "[encoded data removed]"
          },
          "metadata": {
            "needs_background": "light"
          }
        },
        {
          "output_type": "stream",
          "name": "stdout",
          "text": [
            "              precision    recall  f1-score   support\n",
            "\n",
            "     Not Off     0.8690    0.9097    0.8889       620\n",
            "         Off     0.7346    0.6458    0.6874       240\n",
            "\n",
            "    accuracy                         0.8360       860\n",
            "   macro avg     0.8018    0.7778    0.7881       860\n",
            "weighted avg     0.8315    0.8360    0.8326       860\n",
            "\n",
            "Bert model 0 tweets testset result => Loss: 0.3877367377281189 Accuracy: 83.6046511627907 F1 score: 78.81251539788126\n"
          ]
        },
        {
          "output_type": "display_data",
          "data": {
            "text/plain": [
              "<Figure size 432x288 with 2 Axes>"
            ],
            "image/png": "[encoded data removed]"
          },
          "metadata": {
            "needs_background": "light"
          }
        },
        {
          "output_type": "stream",
          "name": "stdout",
          "text": [
            "              precision    recall  f1-score   support\n",
            "\n",
            "     Not Off     0.8847    0.8790    0.8819       620\n",
            "         Off     0.6926    0.7042    0.6983       240\n",
            "\n",
            "    accuracy                         0.8302       860\n",
            "   macro avg     0.7887    0.7916    0.7901       860\n",
            "weighted avg     0.8311    0.8302    0.8307       860\n",
            "\n",
            "Bert model 1 tweets testset result => Loss: 0.3912300169467926 Accuracy: 83.02325581395348 F1 score: 79.01120650458691\n"
          ]
        },
        {
          "output_type": "display_data",
          "data": {
            "text/plain": [
              "<Figure size 432x288 with 2 Axes>"
            ],
            "image/png": "[encoded data removed]"
          },
          "metadata": {
            "needs_background": "light"
          }
        },
        {
          "output_type": "stream",
          "name": "stdout",
          "text": [
            "              precision    recall  f1-score   support\n",
            "\n",
            "     Not Off     0.8626    0.9113    0.8863       620\n",
            "         Off     0.7317    0.6250    0.6742       240\n",
            "\n",
            "    accuracy                         0.8314       860\n",
            "   macro avg     0.7972    0.7681    0.7802       860\n",
            "weighted avg     0.8261    0.8314    0.8271       860\n",
            "\n",
            "Bert model 2 tweets testset result => Loss: 0.39635783433914185 Accuracy: 83.13953488372093 F1 score: 78.02159065873539\n"
          ]
        },
        {
          "output_type": "display_data",
          "data": {
            "text/plain": [
              "<Figure size 432x288 with 2 Axes>"
            ],
            "image/png": "[encoded data removed]"
          },
          "metadata": {
            "needs_background": "light"
          }
        },
        {
          "output_type": "stream",
          "name": "stdout",
          "text": [
            "              precision    recall  f1-score   support\n",
            "\n",
            "     Not Off     0.8561    0.9210    0.8873       620\n",
            "         Off     0.7461    0.6000    0.6651       240\n",
            "\n",
            "    accuracy                         0.8314       860\n",
            "   macro avg     0.8011    0.7605    0.7762       860\n",
            "weighted avg     0.8254    0.8314    0.8253       860\n",
            "\n",
            "Bert model 3 tweets testset result => Loss: 0.384473979473114 Accuracy: 83.13953488372093 F1 score: 77.62309540600533\n"
          ]
        }
      ]
    },
    {
      "cell_type": "code",
      "source": [
        "showWrongPredictions(test_data, torch.tensor(label), preds_ensemble)"
      ],
      "metadata": {
        "colab": {
          "base_uri": "https://localhost:8080/"
        },
        "id": "c_rvPdMAq1si",
        "outputId": "4bdc02be-7f6e-4cc6-87f7-1b1fa70495f6"
      },
      "id": "c_rvPdMAq1si",
      "execution_count": null,
      "outputs": [
        {
          "output_type": "stream",
          "name": "stdout",
          "text": [
            "       id                   tweet\n",
            "14  12588  user nigga ware da hit\n",
            "       id                                   tweet\n",
            "15  34263  stop kavanaugh liar like rest gop http\n",
            "       id                                              tweet\n",
            "27  49139  user put delauro police lineup identify bag la...\n",
            "       id                                              tweet\n",
            "38  46444  ariana asesina serious holy shit please fuck a...\n",
            "       id                             tweet\n",
            "39  60587  user hide ugly personality worst\n",
            "      id                                              tweet\n",
            "0  15923  isq wheres server dump nike dec las fisa democ...\n",
            "      id                                              tweet\n",
            "1  27014  constitution day revere conservatives hat prog...\n",
            "      id                                              tweet\n",
            "3  13876  watch boomer get news still parole always make...\n",
            "      id                                      tweet\n",
            "7  65507  user get feel kiss behind humiliate later\n",
            "      id                                              tweet\n",
            "9  46363  bigg boss tamil janani task go first final lis...\n"
          ]
        }
      ]
    }
  ]
}
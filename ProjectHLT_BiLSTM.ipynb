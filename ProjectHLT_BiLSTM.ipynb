{
  "cells": [
    {
      "cell_type": "markdown",
      "metadata": {
        "id": "4pOI8qsLQWFB"
      },
      "source": [
        "# Project Human Language Technology - OffensEval2019\n",
        "# Task 1\n",
        "## biLSTM \n",
        "\n",
        "This notebook will explore a model for competition \"OffensEval 2019: Identifying and Categorizing Offensive Language in Social Media\" using bidirectional LSTM and GloVe 27B with Twitter data. \\\n",
        "Matricola: 505252 Michele Morisco"
      ]
    },
    {
      "cell_type": "code",
      "execution_count": null,
      "metadata": {
        "colab": {
          "base_uri": "https://localhost:8080/"
        },
        "id": "4TgvyFB9QTl2",
        "outputId": "1ca824cc-02d1-46ec-cd68-658d7bdccf17"
      },
      "outputs": [
        {
          "output_type": "stream",
          "name": "stdout",
          "text": [
            "Drive already mounted at /content/drive; to attempt to forcibly remount, call drive.mount(\"/content/drive\", force_remount=True).\n"
          ]
        }
      ],
      "source": [
        "from google.colab import drive\n",
        "drive.mount('/content/drive')"
      ]
    },
    {
      "cell_type": "code",
      "execution_count": null,
      "metadata": {
        "id": "G4cX-oPTQZmF"
      },
      "outputs": [],
      "source": [
        "!cp drive/MyDrive/Library/PreProcessing.py .\n",
        "!cp drive/MyDrive/Library/LSTMClassifier.py .\n",
        "!cp drive/MyDrive/Library/AnalysisGraph.py ."
      ]
    },
    {
      "cell_type": "code",
      "execution_count": null,
      "metadata": {
        "colab": {
          "base_uri": "https://localhost:8080/"
        },
        "id": "wwQy0eCcewLi",
        "outputId": "6580439b-aaf6-4e74-9f13-f2a62a191705"
      },
      "outputs": [
        {
          "output_type": "stream",
          "name": "stdout",
          "text": [
            "Looking in indexes: https://pypi.org/simple, https://us-python.pkg.dev/colab-wheels/public/simple/\n",
            "Requirement already satisfied: emoji in /usr/local/lib/python3.7/dist-packages (2.1.0)\n",
            "Looking in indexes: https://pypi.org/simple, https://us-python.pkg.dev/colab-wheels/public/simple/\n",
            "Requirement already satisfied: wordsegment in /usr/local/lib/python3.7/dist-packages (1.3.1)\n",
            "Looking in indexes: https://pypi.org/simple, https://us-python.pkg.dev/colab-wheels/public/simple/\n",
            "Requirement already satisfied: ekphrasis in /usr/local/lib/python3.7/dist-packages (0.5.4)\n",
            "Requirement already satisfied: nltk in /usr/local/lib/python3.7/dist-packages (from ekphrasis) (3.7)\n",
            "Requirement already satisfied: numpy in /usr/local/lib/python3.7/dist-packages (from ekphrasis) (1.21.6)\n",
            "Requirement already satisfied: termcolor in /usr/local/lib/python3.7/dist-packages (from ekphrasis) (2.0.1)\n",
            "Requirement already satisfied: tqdm in /usr/local/lib/python3.7/dist-packages (from ekphrasis) (4.64.1)\n",
            "Requirement already satisfied: ujson in /usr/local/lib/python3.7/dist-packages (from ekphrasis) (5.5.0)\n",
            "Requirement already satisfied: ftfy in /usr/local/lib/python3.7/dist-packages (from ekphrasis) (6.1.1)\n",
            "Requirement already satisfied: colorama in /usr/local/lib/python3.7/dist-packages (from ekphrasis) (0.4.5)\n",
            "Requirement already satisfied: matplotlib in /usr/local/lib/python3.7/dist-packages (from ekphrasis) (3.2.2)\n",
            "Requirement already satisfied: wcwidth>=0.2.5 in /usr/local/lib/python3.7/dist-packages (from ftfy->ekphrasis) (0.2.5)\n",
            "Requirement already satisfied: kiwisolver>=1.0.1 in /usr/local/lib/python3.7/dist-packages (from matplotlib->ekphrasis) (1.4.4)\n",
            "Requirement already satisfied: python-dateutil>=2.1 in /usr/local/lib/python3.7/dist-packages (from matplotlib->ekphrasis) (2.8.2)\n",
            "Requirement already satisfied: cycler>=0.10 in /usr/local/lib/python3.7/dist-packages (from matplotlib->ekphrasis) (0.11.0)\n",
            "Requirement already satisfied: pyparsing!=2.0.4,!=2.1.2,!=2.1.6,>=2.0.1 in /usr/local/lib/python3.7/dist-packages (from matplotlib->ekphrasis) (3.0.9)\n",
            "Requirement already satisfied: typing-extensions in /usr/local/lib/python3.7/dist-packages (from kiwisolver>=1.0.1->matplotlib->ekphrasis) (4.1.1)\n",
            "Requirement already satisfied: six>=1.5 in /usr/local/lib/python3.7/dist-packages (from python-dateutil>=2.1->matplotlib->ekphrasis) (1.15.0)\n",
            "Requirement already satisfied: joblib in /usr/local/lib/python3.7/dist-packages (from nltk->ekphrasis) (1.2.0)\n",
            "Requirement already satisfied: click in /usr/local/lib/python3.7/dist-packages (from nltk->ekphrasis) (7.1.2)\n",
            "Requirement already satisfied: regex>=2021.8.3 in /usr/local/lib/python3.7/dist-packages (from nltk->ekphrasis) (2022.6.2)\n"
          ]
        }
      ],
      "source": [
        "!pip install emoji --upgrade\n",
        "!pip install wordsegment\n",
        "!pip install ekphrasis"
      ]
    },
    {
      "cell_type": "code",
      "execution_count": null,
      "metadata": {
        "colab": {
          "base_uri": "https://localhost:8080/"
        },
        "id": "38-yLkRydeud",
        "outputId": "477b6623-c62b-4105-e6de-2f4363dfb16e"
      },
      "outputs": [
        {
          "output_type": "stream",
          "name": "stderr",
          "text": [
            "[nltk_data] Downloading package stopwords to /root/nltk_data...\n",
            "[nltk_data]   Package stopwords is already up-to-date!\n",
            "[nltk_data] Downloading package wordnet to /root/nltk_data...\n",
            "[nltk_data]   Package wordnet is already up-to-date!\n",
            "[nltk_data] Downloading package omw-1.4 to /root/nltk_data...\n",
            "[nltk_data]   Package omw-1.4 is already up-to-date!\n"
          ]
        }
      ],
      "source": [
        "from PreProcessing import load_dataset\n",
        "from LSTMClassifier import prepare_model_dev, prepare_model_test, prepare_embeddings, BiLSTM\n",
        "from AnalysisGraph import plot_curves_history, show_reportNoTorch, show_confusion_matrixNoTorch"
      ]
    },
    {
      "cell_type": "code",
      "execution_count": null,
      "metadata": {
        "id": "Whac5jri525p"
      },
      "outputs": [],
      "source": [
        "from keras.preprocessing.text import Tokenizer\n",
        "from keras.models import Sequential\n",
        "from tensorflow import keras\n",
        "from sklearn.metrics import matthews_corrcoef, confusion_matrix\n",
        "from sklearn.model_selection import train_test_split\n",
        "from sklearn import metrics\n",
        "from sklearn.utils import shuffle\n",
        "from sklearn.preprocessing import LabelEncoder\n",
        "import pandas as pd\n",
        "import numpy as np\n",
        "import pickle\n",
        "import matplotlib.pyplot as plt\n",
        "import warnings\n",
        "import logging\n",
        "logging.basicConfig(level=logging.INFO)\n",
        "\n",
        "from sklearn.metrics import f1_score"
      ]
    },
    {
      "cell_type": "code",
      "execution_count": null,
      "metadata": {
        "id": "NjMFfs9vpIwC"
      },
      "outputs": [],
      "source": [
        "#SET THE PARAMETERS FOR TRAINING \n",
        "H_PARAMETERS = {'num_lstm_nodes' : 64, 'num_hidden_layer' : 3, 'optimizer': keras.optimizers.Nadam(), \n",
        "                'dropout' : 0.5, 'max_sequence_length': 140, 'embedding_dim' : 100, 'num_epochs': 3, 'batch_size' : 128, 'L2_reg': 0.0}"
      ]
    },
    {
      "cell_type": "code",
      "execution_count": null,
      "metadata": {
        "colab": {
          "base_uri": "https://localhost:8080/"
        },
        "id": "7HqTsNom6FIP",
        "outputId": "4e867024-9b44-4e84-c920-cdf238bfc09a"
      },
      "outputs": [
        {
          "output_type": "stream",
          "name": "stderr",
          "text": [
            "/usr/local/lib/python3.7/dist-packages/ekphrasis/classes/tokenizer.py:225: FutureWarning: Possible nested set at position 2190\n",
            "  self.tok = re.compile(r\"({})\".format(\"|\".join(pipeline)))\n"
          ]
        },
        {
          "output_type": "stream",
          "name": "stdout",
          "text": [
            "Reading english - 1grams ...\n",
            "Reading english - 2grams ...\n"
          ]
        },
        {
          "output_type": "stream",
          "name": "stderr",
          "text": [
            "/usr/local/lib/python3.7/dist-packages/ekphrasis/classes/exmanager.py:14: FutureWarning: Possible nested set at position 42\n",
            "  regexes = {k.lower(): re.compile(self.expressions[k]) for k, v in\n"
          ]
        },
        {
          "output_type": "stream",
          "name": "stdout",
          "text": [
            "Reading english - 1grams ...\n"
          ]
        },
        {
          "output_type": "stream",
          "name": "stderr",
          "text": [
            "/content/PreProcessing.py:178: SettingWithCopyWarning: \n",
            "A value is trying to be set on a copy of a slice from a DataFrame\n",
            "\n",
            "See the caveats in the documentation: https://pandas.pydata.org/pandas-docs/stable/user_guide/indexing.html#returning-a-view-versus-a-copy\n",
            "  df['tweet'][i] = str(\" \".join(normalize(text_processor.pre_process_doc(text))))\n"
          ]
        },
        {
          "output_type": "stream",
          "name": "stdout",
          "text": [
            "user canada need another cuck already enough looney leave liberals fking great country qp roof trudeau must go\n"
          ]
        },
        {
          "output_type": "execute_result",
          "data": {
            "text/plain": [
              "NOT    8840\n",
              "OFF    4400\n",
              "Name: subtask_a, dtype: int64"
            ]
          },
          "metadata": {},
          "execution_count": 7
        }
      ],
      "source": [
        "#dataset = open(\"OLID/olid-training-v1.0.tsv\")\n",
        "data, _ = load_dataset(dataset_path = 'drive/MyDrive/HLT/OLID/')\n",
        "\n",
        "data.subtask_a.value_counts()"
      ]
    },
    {
      "cell_type": "code",
      "execution_count": null,
      "metadata": {
        "colab": {
          "base_uri": "https://localhost:8080/"
        },
        "id": "9vrGhdmSz1Dc",
        "outputId": "21fc5e75-5e26-41e4-f238-b12bce161210"
      },
      "outputs": [
        {
          "output_type": "execute_result",
          "data": {
            "text/plain": [
              "0                       user ask native americans take\n",
              "1    user go home drink maga trump2020 oncoming fis...\n",
              "2    amazon investigate chinese employees sell inte...\n",
              "3    user someone vetaken piece shit volcano face t...\n",
              "4     user obama want liberals illegals move red state\n",
              "5                                 user liberals kookoo\n",
              "6                              user oh noes tough shit\n",
              "7    user literally talk lol mass shoot like set up...\n",
              "8                                    user buy icecream\n",
              "9    user canada need another cuck already enough l...\n",
              "Name: tweet, dtype: object"
            ]
          },
          "metadata": {},
          "execution_count": 8
        }
      ],
      "source": [
        "data['tweet'].head(10)"
      ]
    },
    {
      "cell_type": "code",
      "source": [
        "data_shuffled = shuffle(data)\n",
        "X = data_shuffled.tweet\n",
        "le = LabelEncoder()\n",
        "data_shuffled['subtask_a'] = le.fit_transform(data_shuffled['subtask_a'])\n",
        "label = data_shuffled['subtask_a']\n",
        "X_train, X_val, y_train, y_val = train_test_split(X, label, test_size = 0.2)"
      ],
      "metadata": {
        "id": "8ZJerrMBQ88F"
      },
      "execution_count": null,
      "outputs": []
    },
    {
      "cell_type": "code",
      "execution_count": null,
      "metadata": {
        "colab": {
          "base_uri": "https://localhost:8080/"
        },
        "id": "AjoQfEvhzwxK",
        "outputId": "de15090b-ced0-4c4a-c93b-2653ed5c5ab7"
      },
      "outputs": [
        {
          "output_type": "stream",
          "name": "stdout",
          "text": [
            "Preparing model input ...\n",
            "Found 14940 unique tokens.\n",
            "(13240, 140)\n",
            "Total 1193514 word vectors.\n"
          ]
        }
      ],
      "source": [
        "print(\"Preparing model input ...\")\n",
        "X_train_Glove, X_val_Glove, word_index_dev = prepare_model_dev(X_train, X_val)\n",
        "embeddings_dict = prepare_embeddings()"
      ]
    },
    {
      "cell_type": "code",
      "execution_count": null,
      "metadata": {
        "colab": {
          "base_uri": "https://localhost:8080/"
        },
        "id": "dtHjEplcQ-vU",
        "outputId": "af619fd0-5134-4cea-b854-832a4eca03fe"
      },
      "outputs": [
        {
          "output_type": "stream",
          "name": "stdout",
          "text": [
            "Building Model!\n",
            "Model: \"sequential\"\n",
            "_________________________________________________________________\n",
            " Layer (type)                Output Shape              Param #   \n",
            "=================================================================\n",
            " embedding (Embedding)       (None, 140, 100)          1494100   \n",
            "                                                                 \n",
            " bidirectional (Bidirectiona  (None, 140, 128)         84480     \n",
            " l)                                                              \n",
            "                                                                 \n",
            " dropout (Dropout)           (None, 140, 128)          0         \n",
            "                                                                 \n",
            " bidirectional_1 (Bidirectio  (None, 140, 128)         98816     \n",
            " nal)                                                            \n",
            "                                                                 \n",
            " dropout_1 (Dropout)         (None, 140, 128)          0         \n",
            "                                                                 \n",
            " bidirectional_2 (Bidirectio  (None, 140, 128)         98816     \n",
            " nal)                                                            \n",
            "                                                                 \n",
            " dropout_2 (Dropout)         (None, 140, 128)          0         \n",
            "                                                                 \n",
            " bidirectional_3 (Bidirectio  (None, 128)              98816     \n",
            " nal)                                                            \n",
            "                                                                 \n",
            " dropout_3 (Dropout)         (None, 128)               0         \n",
            "                                                                 \n",
            " dense (Dense)               (None, 256)               33024     \n",
            "                                                                 \n",
            " dense_1 (Dense)             (None, 2)                 514       \n",
            "                                                                 \n",
            "=================================================================\n",
            "Total params: 1,908,566\n",
            "Trainable params: 1,908,566\n",
            "Non-trainable params: 0\n",
            "_________________________________________________________________\n"
          ]
        }
      ],
      "source": [
        "print(\"Building Model!\")\n",
        "model = BiLSTM(word_index_dev, embeddings_dict, H_PARAMETERS)\n",
        "model.summary()"
      ]
    },
    {
      "cell_type": "code",
      "execution_count": null,
      "metadata": {
        "colab": {
          "base_uri": "https://localhost:8080/"
        },
        "id": "6HQTvC4DXfE2",
        "outputId": "feae3746-1b09-4475-f6a5-b715d6cae0c0"
      },
      "outputs": [
        {
          "output_type": "stream",
          "name": "stdout",
          "text": [
            "Epoch 1/3\n",
            "83/83 [==============================] - 275s 3s/step - loss: 0.5895 - accuracy: 0.6950 - val_loss: 0.5046 - val_accuracy: 0.7530\n",
            "Epoch 2/3\n",
            "83/83 [==============================] - 247s 3s/step - loss: 0.4828 - accuracy: 0.7728 - val_loss: 0.4735 - val_accuracy: 0.7768\n",
            "Epoch 3/3\n",
            "83/83 [==============================] - 249s 3s/step - loss: 0.4384 - accuracy: 0.8046 - val_loss: 0.4782 - val_accuracy: 0.7723\n"
          ]
        }
      ],
      "source": [
        "history = model.fit(X_train_Glove, y_train,\n",
        "                           validation_data=(X_val_Glove,y_val),\n",
        "                           epochs=H_PARAMETERS['num_epochs'],\n",
        "                           batch_size=H_PARAMETERS['batch_size'],\n",
        "                           verbose=1)"
      ]
    },
    {
      "cell_type": "code",
      "execution_count": null,
      "metadata": {
        "id": "BVFAbkTAM3Jb",
        "colab": {
          "base_uri": "https://localhost:8080/",
          "height": 541
        },
        "outputId": "8a2e2342-22e9-44fd-bdbe-69481412b7e8"
      },
      "outputs": [
        {
          "output_type": "display_data",
          "data": {
            "text/plain": [
              "<Figure size 432x288 with 1 Axes>"
            ],
            "image/png": "[encoded data removed]"
          },
          "metadata": {
            "needs_background": "light"
          }
        },
        {
          "output_type": "display_data",
          "data": {
            "text/plain": [
              "<Figure size 432x288 with 1 Axes>"
            ],
            "image/png": "[encoded data removed]"
          },
          "metadata": {
            "needs_background": "light"
          }
        }
      ],
      "source": [
        "plot_curves_history(history, 'loss')\n",
        "plot_curves_history(history, 'accuracy')"
      ]
    },
    {
      "cell_type": "code",
      "source": [
        "print(\"\\n Evaluating Model ... \\n\")\n",
        "#predicted = model.predict_classes(X_test_Glove)\n",
        "predict_x=model.predict(X_val_Glove) \n",
        "predicted=np.argmax(predict_x,axis=1)"
      ],
      "metadata": {
        "colab": {
          "base_uri": "https://localhost:8080/"
        },
        "id": "8KbBW8x86tcE",
        "outputId": "01aa534f-db50-499a-a070-f1606bb9c108"
      },
      "execution_count": null,
      "outputs": [
        {
          "output_type": "stream",
          "name": "stdout",
          "text": [
            "\n",
            " Evaluating Model ... \n",
            "\n",
            "83/83 [==============================] - 19s 207ms/step\n"
          ]
        }
      ]
    },
    {
      "cell_type": "code",
      "source": [
        "show_confusion_matrixNoTorch(y_val, predicted, [\"NOT OFF\", \"OFF\"])"
      ],
      "metadata": {
        "colab": {
          "base_uri": "https://localhost:8080/",
          "height": 279
        },
        "id": "VjzrumT86vih",
        "outputId": "717efefc-e8d9-437c-c1ef-281e6945fe11"
      },
      "execution_count": null,
      "outputs": [
        {
          "output_type": "display_data",
          "data": {
            "text/plain": [
              "<Figure size 432x288 with 2 Axes>"
            ],
            "image/png": "[encoded data removed]"
          },
          "metadata": {
            "needs_background": "light"
          }
        }
      ]
    },
    {
      "cell_type": "code",
      "source": [
        "show_reportNoTorch(y_val, predicted, [\"NOT OFF\", \"OFF\"])"
      ],
      "metadata": {
        "colab": {
          "base_uri": "https://localhost:8080/"
        },
        "id": "3kQ0wX7Q6yZO",
        "outputId": "4c17c8d7-a966-4f1d-f480-227137518299"
      },
      "execution_count": null,
      "outputs": [
        {
          "output_type": "stream",
          "name": "stdout",
          "text": [
            "              precision    recall  f1-score   support\n",
            "\n",
            "     NOT OFF     0.8300    0.8277    0.8288      1764\n",
            "         OFF     0.6580    0.6618    0.6599       884\n",
            "\n",
            "    accuracy                         0.7723      2648\n",
            "   macro avg     0.7440    0.7447    0.7444      2648\n",
            "weighted avg     0.7726    0.7723    0.7724      2648\n",
            "\n"
          ]
        }
      ]
    },
    {
      "cell_type": "code",
      "execution_count": null,
      "metadata": {
        "id": "1fotqtn9zNri",
        "colab": {
          "base_uri": "https://localhost:8080/"
        },
        "outputId": "b546d242-c3b0-4ec4-9aef-3c666ec0bfe2"
      },
      "outputs": [
        {
          "output_type": "stream",
          "name": "stdout",
          "text": [
            "Reading english - 1grams ...\n",
            "Reading english - 2grams ...\n",
            "Reading english - 1grams ...\n"
          ]
        },
        {
          "output_type": "stream",
          "name": "stderr",
          "text": [
            "/content/PreProcessing.py:178: SettingWithCopyWarning: \n",
            "A value is trying to be set on a copy of a slice from a DataFrame\n",
            "\n",
            "See the caveats in the documentation: https://pandas.pydata.org/pandas-docs/stable/user_guide/indexing.html#returning-a-view-versus-a-copy\n",
            "  df['tweet'][i] = str(\" \".join(normalize(text_processor.pre_process_doc(text))))\n"
          ]
        },
        {
          "output_type": "stream",
          "name": "stdout",
          "text": [
            "bigg boss tamil janani task go first final listclapping hand clap hand clap hand clap hand\n",
            "Found 4294 unique tokens.\n",
            "(860, 140)\n"
          ]
        }
      ],
      "source": [
        "test_data, label_test = load_dataset(dataset_path = 'drive/MyDrive/HLT/OLID/', dataset='testset-levela.tsv', dataset_label='labels-levela.csv')\n",
        "X_test = test_data.tweet\n",
        "X_test_Glove, word_index_test = prepare_model_test(X_test)"
      ]
    },
    {
      "cell_type": "code",
      "execution_count": null,
      "metadata": {
        "id": "aMmIHgnfXkvN",
        "colab": {
          "base_uri": "https://localhost:8080/"
        },
        "outputId": "1a46c4b1-0767-479c-b30f-083a604166ff"
      },
      "outputs": [
        {
          "output_type": "stream",
          "name": "stdout",
          "text": [
            "\n",
            " Evaluating Model ... \n",
            "\n",
            "27/27 [==============================] - 6s 207ms/step\n"
          ]
        }
      ],
      "source": [
        "print(\"\\n Evaluating Model ... \\n\")\n",
        "#predicted = model.predict_classes(X_test_Glove)\n",
        "predict_x=model.predict(X_test_Glove) \n",
        "predicted=np.argmax(predict_x,axis=1)"
      ]
    },
    {
      "cell_type": "code",
      "execution_count": null,
      "metadata": {
        "id": "28zA8UrMMUSw",
        "colab": {
          "base_uri": "https://localhost:8080/",
          "height": 279
        },
        "outputId": "3eaee490-73cf-4630-c301-9c7bef929627"
      },
      "outputs": [
        {
          "output_type": "display_data",
          "data": {
            "text/plain": [
              "<Figure size 432x288 with 2 Axes>"
            ],
            "image/png": "[encoded data removed]"
          },
          "metadata": {
            "needs_background": "light"
          }
        }
      ],
      "source": [
        "show_confusion_matrixNoTorch(label_test, predicted, [\"NOT OFF\", \"OFF\"])"
      ]
    },
    {
      "cell_type": "code",
      "execution_count": null,
      "metadata": {
        "id": "BSG5zSqeMf5I",
        "colab": {
          "base_uri": "https://localhost:8080/"
        },
        "outputId": "4b6c632e-d370-4f40-8b21-4d29eefeb3b8"
      },
      "outputs": [
        {
          "output_type": "stream",
          "name": "stdout",
          "text": [
            "              precision    recall  f1-score   support\n",
            "\n",
            "     NOT OFF     0.7067    0.6839    0.6951       620\n",
            "         OFF     0.2462    0.2667    0.2560       240\n",
            "\n",
            "    accuracy                         0.5674       860\n",
            "   macro avg     0.4764    0.4753    0.4755       860\n",
            "weighted avg     0.5782    0.5674    0.5725       860\n",
            "\n"
          ]
        }
      ],
      "source": [
        "show_reportNoTorch(label_test, predicted, [\"NOT OFF\", \"OFF\"])"
      ]
    },
    {
      "cell_type": "markdown",
      "source": [
        "Now, compare it with GloVe with 6B"
      ],
      "metadata": {
        "id": "oazYidOzHXUy"
      }
    },
    {
      "cell_type": "code",
      "source": [
        "#SET THE PARAMETERS FOR TRAINING \n",
        "H_PARAMETERS = {'num_lstm_nodes' : 64, 'num_hidden_layer' : 3, 'optimizer': keras.optimizers.Nadam(learning_rate = 0.0001), \n",
        "                'dropout' : 0.5, 'max_sequence_length': 140, 'embedding_dim' : 100, 'num_epochs': 4, 'batch_size' : 128, 'L2_reg': 0.0}"
      ],
      "metadata": {
        "id": "4VLQBP20Hf83"
      },
      "execution_count": null,
      "outputs": []
    },
    {
      "cell_type": "code",
      "source": [
        "embeddings_dict = prepare_embeddings(glove_file = 'glove.6B.100d.txt')"
      ],
      "metadata": {
        "colab": {
          "base_uri": "https://localhost:8080/"
        },
        "id": "PKMmO1mUHaRv",
        "outputId": "420a80c7-b49c-4eb0-e8fa-547a53153e19"
      },
      "execution_count": null,
      "outputs": [
        {
          "output_type": "stream",
          "name": "stdout",
          "text": [
            "Total 400000 word vectors.\n"
          ]
        }
      ]
    },
    {
      "cell_type": "code",
      "source": [
        "print(\"Building Model!\")\n",
        "model = BiLSTM(word_index_dev, embeddings_dict, H_PARAMETERS)\n",
        "model.summary()"
      ],
      "metadata": {
        "colab": {
          "base_uri": "https://localhost:8080/"
        },
        "id": "ZqyNsxqlHZQn",
        "outputId": "68c3f4db-f18d-4414-c137-348dbad19cec"
      },
      "execution_count": null,
      "outputs": [
        {
          "output_type": "stream",
          "name": "stdout",
          "text": [
            "Building Model!\n",
            "Model: \"sequential_1\"\n",
            "_________________________________________________________________\n",
            " Layer (type)                Output Shape              Param #   \n",
            "=================================================================\n",
            " embedding_1 (Embedding)     (None, 140, 100)          1494100   \n",
            "                                                                 \n",
            " bidirectional_4 (Bidirectio  (None, 140, 128)         84480     \n",
            " nal)                                                            \n",
            "                                                                 \n",
            " dropout_4 (Dropout)         (None, 140, 128)          0         \n",
            "                                                                 \n",
            " bidirectional_5 (Bidirectio  (None, 140, 128)         98816     \n",
            " nal)                                                            \n",
            "                                                                 \n",
            " dropout_5 (Dropout)         (None, 140, 128)          0         \n",
            "                                                                 \n",
            " bidirectional_6 (Bidirectio  (None, 140, 128)         98816     \n",
            " nal)                                                            \n",
            "                                                                 \n",
            " dropout_6 (Dropout)         (None, 140, 128)          0         \n",
            "                                                                 \n",
            " bidirectional_7 (Bidirectio  (None, 128)              98816     \n",
            " nal)                                                            \n",
            "                                                                 \n",
            " dropout_7 (Dropout)         (None, 128)               0         \n",
            "                                                                 \n",
            " dense_2 (Dense)             (None, 256)               33024     \n",
            "                                                                 \n",
            " dense_3 (Dense)             (None, 2)                 514       \n",
            "                                                                 \n",
            "=================================================================\n",
            "Total params: 1,908,566\n",
            "Trainable params: 1,908,566\n",
            "Non-trainable params: 0\n",
            "_________________________________________________________________\n"
          ]
        }
      ]
    },
    {
      "cell_type": "code",
      "source": [
        "history = model.fit(X_train_Glove, y_train,\n",
        "                           validation_data=(X_val_Glove,y_val),\n",
        "                           epochs=H_PARAMETERS['num_epochs'],\n",
        "                           batch_size=H_PARAMETERS['batch_size'],\n",
        "                           verbose=1)"
      ],
      "metadata": {
        "colab": {
          "base_uri": "https://localhost:8080/"
        },
        "id": "gufCYgzvHk9y",
        "outputId": "362fd4a5-6b52-4059-8c0e-f1bd033442bf"
      },
      "execution_count": null,
      "outputs": [
        {
          "output_type": "stream",
          "name": "stdout",
          "text": [
            "Epoch 1/4\n",
            "83/83 [==============================] - 272s 3s/step - loss: 0.6420 - accuracy: 0.6539 - val_loss: 0.6333 - val_accuracy: 0.6662\n",
            "Epoch 2/4\n",
            "83/83 [==============================] - 254s 3s/step - loss: 0.6202 - accuracy: 0.6703 - val_loss: 0.6082 - val_accuracy: 0.6869\n",
            "Epoch 3/4\n",
            "83/83 [==============================] - 252s 3s/step - loss: 0.5691 - accuracy: 0.7117 - val_loss: 0.5564 - val_accuracy: 0.7175\n",
            "Epoch 4/4\n",
            "83/83 [==============================] - 254s 3s/step - loss: 0.5370 - accuracy: 0.7352 - val_loss: 0.5438 - val_accuracy: 0.7255\n"
          ]
        }
      ]
    },
    {
      "cell_type": "code",
      "source": [
        "plot_curves_history(history, 'loss')\n",
        "plot_curves_history(history, 'accuracy')"
      ],
      "metadata": {
        "colab": {
          "base_uri": "https://localhost:8080/",
          "height": 541
        },
        "id": "30XEXtEWHyDi",
        "outputId": "ab9545b1-3ff9-43bd-8b57-dcbf3a4ebedb"
      },
      "execution_count": null,
      "outputs": [
        {
          "output_type": "display_data",
          "data": {
            "text/plain": [
              "<Figure size 432x288 with 1 Axes>"
            ],
            "image/png": "[encoded data removed]"
          },
          "metadata": {
            "needs_background": "light"
          }
        },
        {
          "output_type": "display_data",
          "data": {
            "text/plain": [
              "<Figure size 432x288 with 1 Axes>"
            ],
            "image/png": "[encoded data removed]"
          },
          "metadata": {
            "needs_background": "light"
          }
        }
      ]
    },
    {
      "cell_type": "code",
      "source": [
        "print(\"\\n Evaluating Model ... \\n\")\n",
        "#predicted = model.predict_classes(X_test_Glove)\n",
        "predict_x=model.predict(X_val_Glove) \n",
        "predicted=np.argmax(predict_x,axis=1)"
      ],
      "metadata": {
        "colab": {
          "base_uri": "https://localhost:8080/"
        },
        "id": "hfDzvm4KH0FB",
        "outputId": "64b115c1-5f32-4585-e8a4-97f83abb72d8"
      },
      "execution_count": null,
      "outputs": [
        {
          "output_type": "stream",
          "name": "stdout",
          "text": [
            "\n",
            " Evaluating Model ... \n",
            "\n",
            "83/83 [==============================] - 19s 209ms/step\n"
          ]
        }
      ]
    },
    {
      "cell_type": "code",
      "source": [
        "show_confusion_matrixNoTorch(y_val, predicted, [\"NOT OFF\", \"OFF\"])"
      ],
      "metadata": {
        "colab": {
          "base_uri": "https://localhost:8080/",
          "height": 279
        },
        "id": "D56mBPTTH2Mr",
        "outputId": "d30b2805-f2e1-425b-9b99-dacc562d34b3"
      },
      "execution_count": null,
      "outputs": [
        {
          "output_type": "display_data",
          "data": {
            "text/plain": [
              "<Figure size 432x288 with 2 Axes>"
            ],
            "image/png": "[encoded data removed]"
          },
          "metadata": {
            "needs_background": "light"
          }
        }
      ]
    },
    {
      "cell_type": "code",
      "source": [
        "show_reportNoTorch(y_val, predicted, [\"NOT OFF\", \"OFF\"])"
      ],
      "metadata": {
        "colab": {
          "base_uri": "https://localhost:8080/"
        },
        "id": "-MwvnRJjH4Rb",
        "outputId": "950212d9-abc8-4a75-b00c-85d6f75d9bbd"
      },
      "execution_count": null,
      "outputs": [
        {
          "output_type": "stream",
          "name": "stdout",
          "text": [
            "              precision    recall  f1-score   support\n",
            "\n",
            "     NOT OFF     0.7810    0.8169    0.7986      1764\n",
            "         OFF     0.5978    0.5430    0.5691       884\n",
            "\n",
            "    accuracy                         0.7255      2648\n",
            "   macro avg     0.6894    0.6799    0.6838      2648\n",
            "weighted avg     0.7198    0.7255    0.7219      2648\n",
            "\n"
          ]
        }
      ]
    }
  ],
  "metadata": {
    "colab": {
      "collapsed_sections": [],
      "provenance": []
    },
    "kernelspec": {
      "display_name": "Python 3",
      "name": "python3"
    },
    "language_info": {
      "name": "python"
    }
  },
  "nbformat": 4,
  "nbformat_minor": 0
}